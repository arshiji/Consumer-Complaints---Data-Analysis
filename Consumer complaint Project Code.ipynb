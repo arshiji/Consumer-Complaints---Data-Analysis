{
 "cells": [
  {
   "cell_type": "markdown",
   "metadata": {},
   "source": [
    "# Consumer Complaint Project\n"
   ]
  },
  {
   "cell_type": "code",
   "execution_count": 1,
   "metadata": {},
   "outputs": [],
   "source": [
    "#Step1: Import the required libraries\n",
    "import pandas as pd\n",
    "import numpy as np\n",
    "import scipy.stats\n",
    "import matplotlib.pyplot as plt\n",
    "import seaborn as sns"
   ]
  },
  {
   "cell_type": "code",
   "execution_count": 2,
   "metadata": {},
   "outputs": [
    {
     "data": {
      "text/html": [
       "<div>\n",
       "<style scoped>\n",
       "    .dataframe tbody tr th:only-of-type {\n",
       "        vertical-align: middle;\n",
       "    }\n",
       "\n",
       "    .dataframe tbody tr th {\n",
       "        vertical-align: top;\n",
       "    }\n",
       "\n",
       "    .dataframe thead th {\n",
       "        text-align: right;\n",
       "    }\n",
       "</style>\n",
       "<table border=\"1\" class=\"dataframe\">\n",
       "  <thead>\n",
       "    <tr style=\"text-align: right;\">\n",
       "      <th></th>\n",
       "      <th>Date received</th>\n",
       "      <th>Product</th>\n",
       "      <th>Sub-product</th>\n",
       "      <th>Issue</th>\n",
       "      <th>Sub-issue</th>\n",
       "      <th>Consumer complaint narrative</th>\n",
       "      <th>Company public response</th>\n",
       "      <th>Company</th>\n",
       "      <th>State</th>\n",
       "      <th>ZIP code</th>\n",
       "      <th>Tags</th>\n",
       "      <th>Consumer consent provided?</th>\n",
       "      <th>Submitted via</th>\n",
       "      <th>Date sent to company</th>\n",
       "      <th>Company response to consumer</th>\n",
       "      <th>Timely response?</th>\n",
       "      <th>Consumer disputed?</th>\n",
       "      <th>Complaint ID</th>\n",
       "    </tr>\n",
       "  </thead>\n",
       "  <tbody>\n",
       "    <tr>\n",
       "      <th>0</th>\n",
       "      <td>2015-10-14</td>\n",
       "      <td>Credit reporting</td>\n",
       "      <td>NaN</td>\n",
       "      <td>Incorrect information on credit report</td>\n",
       "      <td>Information is not mine</td>\n",
       "      <td>NaN</td>\n",
       "      <td>NaN</td>\n",
       "      <td>Equifax</td>\n",
       "      <td>GA</td>\n",
       "      <td>30134</td>\n",
       "      <td>NaN</td>\n",
       "      <td>Consent not provided</td>\n",
       "      <td>Web</td>\n",
       "      <td>2015-10-14</td>\n",
       "      <td>Closed with explanation</td>\n",
       "      <td>Yes</td>\n",
       "      <td>No</td>\n",
       "      <td>1605653</td>\n",
       "    </tr>\n",
       "  </tbody>\n",
       "</table>\n",
       "</div>"
      ],
      "text/plain": [
       "  Date received           Product Sub-product  \\\n",
       "0    2015-10-14  Credit reporting         NaN   \n",
       "\n",
       "                                    Issue                Sub-issue  \\\n",
       "0  Incorrect information on credit report  Information is not mine   \n",
       "\n",
       "  Consumer complaint narrative Company public response  Company State  \\\n",
       "0                          NaN                     NaN  Equifax    GA   \n",
       "\n",
       "  ZIP code Tags Consumer consent provided? Submitted via Date sent to company  \\\n",
       "0    30134  NaN       Consent not provided           Web           2015-10-14   \n",
       "\n",
       "  Company response to consumer Timely response? Consumer disputed?  \\\n",
       "0      Closed with explanation              Yes                 No   \n",
       "\n",
       "   Complaint ID  \n",
       "0       1605653  "
      ]
     },
     "execution_count": 2,
     "metadata": {},
     "output_type": "execute_result"
    }
   ],
   "source": [
    "# Read data from the uploaded csv file\n",
    "df_original = pd.read_csv(\"Edureka_Consumer_Complaints_train.csv\", parse_dates = ['Date received', 'Date sent to company'])\n",
    "df_original.head(1)"
   ]
  },
  {
   "cell_type": "code",
   "execution_count": 3,
   "metadata": {},
   "outputs": [
    {
     "data": {
      "text/plain": [
       "Date received                        0\n",
       "Product                              0\n",
       "Sub-product                     103786\n",
       "Issue                                0\n",
       "Sub-issue                       219374\n",
       "Consumer complaint narrative    302630\n",
       "Company public response         290879\n",
       "Company                              0\n",
       "State                             2903\n",
       "ZIP code                          2911\n",
       "Tags                            308584\n",
       "Consumer consent provided?      257230\n",
       "Submitted via                        0\n",
       "Date sent to company                 0\n",
       "Company response to consumer         0\n",
       "Timely response?                     0\n",
       "Consumer disputed?                   0\n",
       "Complaint ID                         0\n",
       "dtype: int64"
      ]
     },
     "execution_count": 3,
     "metadata": {},
     "output_type": "execute_result"
    }
   ],
   "source": [
    "# missing values in each column \n",
    "df_original.isnull().sum()"
   ]
  },
  {
   "cell_type": "code",
   "execution_count": 4,
   "metadata": {},
   "outputs": [
    {
     "data": {
      "text/plain": [
       "Date received                   0\n",
       "Product                         0\n",
       "Sub-product                     0\n",
       "Issue                           0\n",
       "Sub-issue                       0\n",
       "Consumer complaint narrative    0\n",
       "Company public response         0\n",
       "Company                         0\n",
       "State                           0\n",
       "ZIP code                        0\n",
       "Tags                            0\n",
       "Consumer consent provided?      0\n",
       "Submitted via                   0\n",
       "Date sent to company            0\n",
       "Company response to consumer    0\n",
       "Timely response?                0\n",
       "Consumer disputed?              0\n",
       "Complaint ID                    0\n",
       "dtype: int64"
      ]
     },
     "execution_count": 4,
     "metadata": {},
     "output_type": "execute_result"
    }
   ],
   "source": [
    "# finding duplicates in data  -> no duplicates present\n",
    "df_original[df_original['Complaint ID'].duplicated().values == True].count()"
   ]
  },
  {
   "cell_type": "code",
   "execution_count": 9,
   "metadata": {
    "collapsed": true,
    "jupyter": {
     "outputs_hidden": true
    }
   },
   "outputs": [
    {
     "name": "stdout",
     "output_type": "stream",
     "text": [
      "Date received\n",
      "      1758\n",
      "      ['2015-10-14T00:00:00.000000000' '2015-04-26T00:00:00.000000000'\n",
      " '2013-12-20T00:00:00.000000000' ... '2016-09-17T00:00:00.000000000'\n",
      " '2012-01-15T00:00:00.000000000' '2012-02-19T00:00:00.000000000']\n",
      "Product\n",
      "      12\n",
      "      ['Credit reporting' 'Bank account or service' 'Credit card'\n",
      " 'Debt collection' 'Mortgage' 'Consumer Loan' 'Payday loan' 'Student loan'\n",
      " 'Money transfers' 'Other financial service' 'Prepaid card'\n",
      " 'Virtual currency']\n",
      "Sub-product\n",
      "      47\n",
      "      [nan 'Other bank product/service' 'Other (i.e. phone, health club, etc.)'\n",
      " 'Medical' 'Conventional adjustable mortgage (ARM)' 'Checking account'\n",
      " 'Vehicle loan' 'Other mortgage' 'Conventional fixed mortgage'\n",
      " 'Credit card' 'Vehicle lease' 'Payday loan'\n",
      " 'Home equity loan or line of credit' 'Installment loan' 'VA mortgage'\n",
      " 'Non-federal student loan' 'I do not know' 'Savings account'\n",
      " 'FHA mortgage' 'International money transfer'\n",
      " 'Federal student loan servicing' '(CD) Certificate of deposit'\n",
      " 'Reverse mortgage' 'Auto' 'Mortgage' 'Federal student loan'\n",
      " 'Domestic (US) money transfer' 'Second mortgage'\n",
      " 'Cashing a check without an account' 'Debt settlement'\n",
      " 'Traveler’s/Cashier’s checks' 'Personal line of credit'\n",
      " 'General purpose card' 'ID prepaid card' 'Payroll card' 'Pawn loan'\n",
      " 'Check cashing' 'Government benefit payment card' 'Transit card'\n",
      " 'Other special purpose card' 'Money order' 'Gift or merchant card'\n",
      " 'Mobile wallet' 'Title loan' 'Foreign currency exchange'\n",
      " 'Electronic Benefit Transfer / EBT card' 'Credit repair'\n",
      " 'Refund anticipation check']\n",
      "Issue\n",
      "      95\n",
      "      ['Incorrect information on credit report' 'Deposits and withdrawals'\n",
      " 'Other' 'Disclosure verification of debt' 'APR or interest rate'\n",
      " 'Loan modification,collection,foreclosure' 'Payoff process'\n",
      " \"Cont'd attempts collect debt not owed\" 'Taking out the loan or lease'\n",
      " 'Credit card protection / Debt protection' 'Communication tactics'\n",
      " 'Problems caused by my funds being low'\n",
      " 'Loan servicing, payments, escrow account'\n",
      " 'Application, originator, mortgage broker' 'Billing disputes'\n",
      " 'Identity theft / Fraud / Embezzlement'\n",
      " 'Problems when you are unable to pay'\n",
      " 'Account opening, closing, or management'\n",
      " 'Taking/threatening an illegal action'\n",
      " 'Unsolicited issuance of credit card' 'Managing the loan or lease'\n",
      " 'Payment to acct not credited' 'Settlement process and costs'\n",
      " 'Improper contact or sharing of info'\n",
      " \"Credit reporting company's investigation\" \"Can't repay my loan\"\n",
      " 'Credit determination' 'Closing/Cancelling account'\n",
      " 'Credit line increase/decrease'\n",
      " 'Unable to get credit report/credit score' 'Credit reporting'\n",
      " 'Repaying your loan' 'False statements or representation'\n",
      " 'Dealing with my lender or servicer'\n",
      " 'Making/receiving payments, sending money' 'Using a debit or ATM card'\n",
      " 'Advertising and marketing' 'Fraud or scam' \"Can't contact lender\"\n",
      " 'Improper use of my credit report'\n",
      " 'Customer service / Customer relations' 'Application processing delay'\n",
      " 'Rewards' 'Delinquent account' 'Billing statement' 'Transaction issue'\n",
      " 'Privacy' 'Other transaction issues' 'Credit decision / Underwriting'\n",
      " 'Collection debt dispute' 'Money was not available when promised'\n",
      " 'Late fee' 'Credit monitoring or identity protection' 'Cash advance fee'\n",
      " 'Balance transfer fee' 'Charged bank acct wrong day or amt'\n",
      " 'Other service issues' \"Received a loan I didn't apply for\"\n",
      " 'Excessive fees' 'Other fee' 'Balance transfer'\n",
      " \"Charged fees or interest I didn't expect\" 'Shopping for a loan or lease'\n",
      " 'Lost or stolen check' 'Collection practices'\n",
      " 'Managing the line of credit' 'Forbearance / Workout plans' 'Arbitration'\n",
      " 'Applied for loan/did not receive money'\n",
      " 'Unauthorized transactions/trans. issues'\n",
      " 'Advertising, marketing or disclosures'\n",
      " 'Managing, opening, or closing account'\n",
      " 'Wrong amount charged or received' 'Adding money'\n",
      " 'Overdraft, savings or rewards features'\n",
      " 'Customer service/Customer relations' 'Overlimit fee'\n",
      " 'Account terms and changes' 'Lost or stolen money order'\n",
      " 'Shopping for a line of credit' 'Getting a loan'\n",
      " 'Lender repossessed or sold the vehicle' 'Convenience checks'\n",
      " 'Bankruptcy' 'Sale of account' 'Cash advance' 'Incorrect exchange rate'\n",
      " \"Can't stop charges to bank account\" 'Fees'\n",
      " 'Incorrect/missing disclosures or info' 'Disclosures'\n",
      " 'Lender damaged or destroyed vehicle' 'Unexpected/Other fees'\n",
      " 'Lender damaged or destroyed property' 'Lender sold the property']\n",
      "Sub-issue\n",
      "      67\n",
      "      ['Information is not mine' nan 'Not given enough info to verify debt'\n",
      " 'Debt is not mine' 'Debt was paid' 'Threatened to take legal action'\n",
      " 'Frequent or repeated calls' 'Seized/Attempted to seize property'\n",
      " 'Payment to acct not credited' 'Public record'\n",
      " 'Debt was discharged in bankruptcy' 'Account status'\n",
      " 'Talked to a third party about my debt'\n",
      " 'No notice of investigation status/result'\n",
      " 'Inadequate help over the phone' \"Can't temporarily postpone payments\"\n",
      " \"Can't decrease my monthly payments\"\n",
      " 'Contacted employer after asked not to'\n",
      " 'Debt resulted from identity theft'\n",
      " 'Problem getting report or credit score' 'Repaying your loan'\n",
      " 'Attempted to collect wrong amount'\n",
      " 'Trouble with how payments are handled'\n",
      " 'Problem getting my free annual report'\n",
      " 'Right to dispute notice not received' 'Account terms'\n",
      " \"Can't contact lender\" 'Attempted to/Collected exempt funds'\n",
      " 'Contacted me after I asked not to' 'Report improperly shared by CRC'\n",
      " 'Reinserted previously deleted info'\n",
      " 'Not disclosed as an attempt to collect'\n",
      " 'Received bad information about my loan' 'Personal information'\n",
      " 'Sued w/o proper notification of suit'\n",
      " \"Can't get flexible payment options\"\n",
      " 'Problems when you are unable to pay' 'Problem with statement of dispute'\n",
      " 'Called outside of 8am-9pm' \"Don't agree with fees charged\"\n",
      " 'Problem with fraud alerts' 'Keep getting calls about my loan'\n",
      " 'Billing dispute' 'Having problems with customer service'\n",
      " 'Report shared with employer w/o consent'\n",
      " 'Impersonated an attorney or official'\n",
      " 'Threatened arrest/jail if do not pay' 'Investigation took too long'\n",
      " 'Contacted me instead of my attorney' 'Threatened to sue on too old debt'\n",
      " 'Charged bank acct wrong day or amt' \"Received a loan I didn't apply for\"\n",
      " 'Called after sent written cease of comm'\n",
      " \"Charged fees or interest I didn't expect\"\n",
      " 'Indicated committed crime not paying'\n",
      " 'Received marketing offer after opted out'\n",
      " 'Used obscene/profane/abusive language'\n",
      " 'Problem cancelling or closing account'\n",
      " 'Applied for loan/did not receive money'\n",
      " \"Indicated shouldn't respond to lawsuit\"\n",
      " 'Receiving unwanted marketing/advertising'\n",
      " \"Sued where didn't live/sign for debt\" 'Getting a loan'\n",
      " 'Need information about my balance/terms'\n",
      " 'Qualify for a better loan than offered' \"Can't qualify for a loan\"\n",
      " 'Account terms and changes' \"Can't stop charges to bank account\"]\n",
      "Consumer complaint narrative\n",
      "      55535\n",
      "      [nan\n",
      " 'RE : XXXX XXXX XXXX-PRIVILEGED AND CONFIDENTIAL INFORMATIONDear Consumer Financial Protection Bureau : In XX/XX/XXXX, I became aware of an annual interest payment check ( Wachovia check number XXXX, Account XXXX, Amount {$1.00}, dated XX/XX/XXXX ), For Interest on rent security deposit, No void remark time limits written on check. \\n\\nIn XX/XX/XXXX I had dual residency : XXXX XXXX XXXX XXXX XXXX XXXX XXXX, XXXX XXXX XXXX XXXX and XXXX XXXX XXXX XXXX XXXX XXXX. During that time I never received an annual interest payment despite XXXX XXXX through XXXX mandate : \" landlords must pay annual interest amount to tenants. If the tenant is going to apply the security deposit to rent because the landlord failed to pay the annual interest in CASH to the tenant or failed to provide the tenant with the annual update of the account information, the landlord has XXXX days to rectify these failures. \" My security deposit ( totaling {$750.00} ) was never returned to ME, XXXX XXXX XXXX, and I never received any annual interest payment or knowledge of the XX/XX/XXXX check amount until XX/XX/XXXX. This same apartment complex, XXXX managed by XXXX illegally evicted ME, XXXX XXXX XXXX. The eviction is masqueraded as a legal judgment of possession but the judgment of possession is ILL GOT AND ILLEGAL, the warrant of removal is ILL GOT AND ILLEGAL BECAUSE THEIR LAWYERS XXXX XXXX and XXXX XXXX NEVER EFFECTUATED SERVICE OF PROCESS MEANING : I never received a complaint and summons and if I do not receive a complaint and summons how then can I properly defend Myself or inform a designated Representative to defend Me, XXXX XXXX XXXX, if I do not know the date, time, or venue. Lawyers XXXX XXXX and XXXX XXXX are ( located at XXXX XXXX XXXX XXXX XXXX, XXXX XXXX XXXX XXXX, Phone : XXXX, fax : XXXX ) have caused ME, XXXX XXXX XXXX, great unnecessary grief and sorrow. \\n\\nSince that time Wachovia is now Wells Fargo. I have attempted on several occasions to deposit and or cash the check totaling {$1.00} AND ALL INTEREST SINCE XX/XX/XXXX to no avail. I have contacted and followed through with the state XXXX escheatment protocol to claim any monies unclaimed by Myself, and XXXX is still not cooperating under the leadership of XXXX XXXX XXXX. When are you going to learn. \\n'\n",
      " 'Homeowner applied for 2nd modification due to reset of first modification which caused a payment increase, at the time of the application she was not delinquent. Homeowner was approved for 2nd fixed rate modification for the life of the loan. All payments were made on the trial but after receiving permanent agreement, the deferred principal amount from 1st modification increased by XXXX. Housing counselor had several calls set up with Ocwen to clarify difference in deferred principal amount. homeowner was told several times not to send in permanent mod until dispute was resolved after the homeowner finally understood the permanent mod, she was told that she was 5 months delinquent with a total of XXXX. Ocwen is not accepting payments or 2nd modification. \\n'\n",
      " ...\n",
      " 'I have been working tirelessly on repairing my credit history independently and with a reputable credit repair company over the past year. Recently I was to the point where all of the inquiries that were reflected on my Transunion credit report was deleted. When I reviewed my report all on Monday all the inquiries returned out of no where. I tried contacting the credit bureau and had to wait on hold for over an hour and 30 minutes. I have yet to get through to someone to resolve this issue. Due to my work I can not stay on the phone for long periods of time. I have also put this inquiry in writing to them. I was never advised in writing via email or snail mail that these inquiries would reappear and from what I have learned this is in violation of the FCRA SEC 611rules. I would like to this matter looked into from all venues until it is resolved.'\n",
      " \"XXXX XXXXConsumer Financial Protection BureauRe : XXXX XXXX XXXXDear : INVESTIGATORThis letter is to complaint about a problem I am having with the collection company XXXX XXXX XXXX that I been trying to repair since XX/XX/XXXX. \\nI am dissatisfied with their service because they damage and continue to damage my credit. I have already attempted to resolve this problem by contact them by phone and in written. I have enclosed copies of my records. Include copies of their collection letters and other relevant documents with Balance Discrepancy 's. Unfortunately, the problem remains unresolved. I am hereby requesting that you : please help me with this company to repair the item and clean my credit reportThank you for your anticipated assistance in resolving my problem. \\nPlease contact me at my E-mail : XXXXXXXXXXXX if you have any questions. \\n\\nSincerely, \\n\"\n",
      " 'The collection agent named XXXX XXXX at Revenue Group, stated to me word for word when I asked why she needed my employment, \" You do n\\'t need to worry about that, we will find your employment, trust me \\'\\'. \\n']\n",
      "Company public response\n",
      "      10\n",
      "      [nan\n",
      " 'Company has responded to the consumer and the CFPB and chooses not to provide a public response'\n",
      " 'Company believes the complaint is the result of a misunderstanding'\n",
      " 'Company believes it acted appropriately as authorized by contract or law'\n",
      " 'Company chooses not to provide a public response'\n",
      " 'Company believes complaint caused principally by actions of third party outside the control or direction of the company'\n",
      " 'Company believes complaint is the result of an isolated error'\n",
      " \"Company can't verify or dispute the facts in the complaint\"\n",
      " 'Company disputes the facts presented in the complaint'\n",
      " 'Company believes complaint represents an opportunity for improvement to better serve consumers'\n",
      " 'Company believes complaint relates to a discontinued policy or procedure']\n",
      "Company\n",
      "      3064\n",
      "      ['Equifax' 'Wells Fargo & Company' 'Citibank' ... 'Balekian Hayes, PLLC'\n",
      " 'ALE Solutions, Inc.' 'National Loan Investors, LP']\n",
      "State\n",
      "      62\n",
      "      ['GA' 'SC' 'OH' 'CA' 'FL' 'NJ' 'IL' 'PA' 'ID' 'UT' 'TX' 'TN' 'NM' 'VA'\n",
      " 'MO' 'KY' 'MN' 'IN' 'MD' 'WI' 'NY' 'KS' 'CO' 'AZ' 'OK' 'MI' 'CT' 'LA'\n",
      " 'OR' 'NC' 'MS' 'NH' 'AL' 'MA' 'WA' 'DC' 'AR' nan 'VI' 'DE' 'NV' 'IA' 'WV'\n",
      " 'NE' 'VT' 'ME' 'ND' 'HI' 'RI' 'WY' 'SD' 'PR' 'FM' 'MT' 'AK' 'AE' 'GU'\n",
      " 'AP' 'MH' 'AS' 'MP' 'PW' 'AA']\n",
      "ZIP code\n",
      "      24181\n",
      "      ['30134' '319XX' '29203' ... '58793' '76044' '49639']\n",
      "Tags\n",
      "      3\n",
      "      [nan 'Older American' 'Servicemember' 'Older American, Servicemember']\n",
      "Consumer consent provided?\n",
      "      4\n",
      "      ['Consent not provided' 'Consent provided' nan 'Other' 'Consent withdrawn']\n",
      "Submitted via\n",
      "      6\n",
      "      ['Web' 'Phone' 'Referral' 'Postal mail' 'Fax' 'Email']\n",
      "Date sent to company\n",
      "      1701\n",
      "      ['2015-10-14T00:00:00.000000000' '2015-04-26T00:00:00.000000000'\n",
      " '2014-01-03T00:00:00.000000000' ... '2012-11-22T00:00:00.000000000'\n",
      " '2012-08-25T00:00:00.000000000' '2012-07-29T00:00:00.000000000']\n",
      "Company response to consumer\n",
      "      6\n",
      "      ['Closed with explanation' 'Closed with non-monetary relief'\n",
      " 'Closed with relief' 'Closed without relief'\n",
      " 'Closed with monetary relief' 'Closed']\n",
      "Timely response?\n",
      "      2\n",
      "      ['Yes' 'No']\n",
      "Consumer disputed?\n",
      "      2\n",
      "      ['No' 'Yes']\n",
      "Complaint ID\n",
      "      358810\n",
      "      [1605653 1347613  640394 ...  283994 1438670 1372035]\n"
     ]
    }
   ],
   "source": [
    "# number of unique values and most frequently occurring categories in the Categorical Columns\n",
    "for col in list(df_original):\n",
    "    print(col)\n",
    "    print(\"     \",df_original[col].nunique())\n",
    "    print(\"     \",df_original[col].unique())"
   ]
  },
  {
   "cell_type": "code",
   "execution_count": 6,
   "metadata": {},
   "outputs": [
    {
     "data": {
      "text/plain": [
       "Index(['Product', 'Sub-product', 'Issue', 'Sub-issue',\n",
       "       'Consumer complaint narrative', 'Company public response', 'Company',\n",
       "       'State', 'ZIP code', 'Tags', 'Consumer consent provided?',\n",
       "       'Submitted via', 'Company response to consumer', 'Timely response?',\n",
       "       'Consumer disputed?'],\n",
       "      dtype='object')"
      ]
     },
     "execution_count": 6,
     "metadata": {},
     "output_type": "execute_result"
    }
   ],
   "source": [
    "# categorical columns\n",
    "df_original.select_dtypes(include = ['object']).columns"
   ]
  },
  {
   "cell_type": "code",
   "execution_count": 5,
   "metadata": {},
   "outputs": [],
   "source": [
    "# making copy of original data to work on it\n",
    "df = df_original.copy()"
   ]
  },
  {
   "cell_type": "code",
   "execution_count": 6,
   "metadata": {},
   "outputs": [
    {
     "data": {
      "text/html": [
       "<div>\n",
       "<style scoped>\n",
       "    .dataframe tbody tr th:only-of-type {\n",
       "        vertical-align: middle;\n",
       "    }\n",
       "\n",
       "    .dataframe tbody tr th {\n",
       "        vertical-align: top;\n",
       "    }\n",
       "\n",
       "    .dataframe thead th {\n",
       "        text-align: right;\n",
       "    }\n",
       "</style>\n",
       "<table border=\"1\" class=\"dataframe\">\n",
       "  <thead>\n",
       "    <tr style=\"text-align: right;\">\n",
       "      <th></th>\n",
       "      <th>Date received</th>\n",
       "      <th>Product</th>\n",
       "      <th>Sub-product</th>\n",
       "      <th>Issue</th>\n",
       "      <th>Sub-issue</th>\n",
       "      <th>Consumer complaint narrative</th>\n",
       "      <th>Company public response</th>\n",
       "      <th>Company</th>\n",
       "      <th>State</th>\n",
       "      <th>Consumer consent provided?</th>\n",
       "      <th>Submitted via</th>\n",
       "      <th>Date sent to company</th>\n",
       "      <th>Company response to consumer</th>\n",
       "      <th>Timely response?</th>\n",
       "      <th>Consumer disputed?</th>\n",
       "    </tr>\n",
       "  </thead>\n",
       "  <tbody>\n",
       "    <tr>\n",
       "      <th>0</th>\n",
       "      <td>2015-10-14</td>\n",
       "      <td>Credit reporting</td>\n",
       "      <td>NaN</td>\n",
       "      <td>Incorrect information on credit report</td>\n",
       "      <td>Information is not mine</td>\n",
       "      <td>NaN</td>\n",
       "      <td>NaN</td>\n",
       "      <td>Equifax</td>\n",
       "      <td>GA</td>\n",
       "      <td>Consent not provided</td>\n",
       "      <td>Web</td>\n",
       "      <td>2015-10-14</td>\n",
       "      <td>Closed with explanation</td>\n",
       "      <td>Yes</td>\n",
       "      <td>No</td>\n",
       "    </tr>\n",
       "  </tbody>\n",
       "</table>\n",
       "</div>"
      ],
      "text/plain": [
       "  Date received           Product Sub-product  \\\n",
       "0    2015-10-14  Credit reporting         NaN   \n",
       "\n",
       "                                    Issue                Sub-issue  \\\n",
       "0  Incorrect information on credit report  Information is not mine   \n",
       "\n",
       "  Consumer complaint narrative Company public response  Company State  \\\n",
       "0                          NaN                     NaN  Equifax    GA   \n",
       "\n",
       "  Consumer consent provided? Submitted via Date sent to company  \\\n",
       "0       Consent not provided           Web           2015-10-14   \n",
       "\n",
       "  Company response to consumer Timely response? Consumer disputed?  \n",
       "0      Closed with explanation              Yes                 No  "
      ]
     },
     "execution_count": 6,
     "metadata": {},
     "output_type": "execute_result"
    }
   ],
   "source": [
    "# drop off columns \n",
    "df.drop(['Tags'], axis = 1, inplace = True)\n",
    "df.drop(['Complaint ID'], axis = 1, inplace = True)\n",
    "df.drop(['ZIP code'], axis = 1, inplace = True)\n",
    "#df.drop(['Submitted via'], axis = 1, inplace = True)\n",
    "df.head(1)"
   ]
  },
  {
   "cell_type": "code",
   "execution_count": 7,
   "metadata": {},
   "outputs": [
    {
     "data": {
      "text/html": [
       "<div>\n",
       "<style scoped>\n",
       "    .dataframe tbody tr th:only-of-type {\n",
       "        vertical-align: middle;\n",
       "    }\n",
       "\n",
       "    .dataframe tbody tr th {\n",
       "        vertical-align: top;\n",
       "    }\n",
       "\n",
       "    .dataframe thead th {\n",
       "        text-align: right;\n",
       "    }\n",
       "</style>\n",
       "<table border=\"1\" class=\"dataframe\">\n",
       "  <thead>\n",
       "    <tr style=\"text-align: right;\">\n",
       "      <th></th>\n",
       "      <th>Date received</th>\n",
       "      <th>Product</th>\n",
       "      <th>Sub-product</th>\n",
       "      <th>Issue</th>\n",
       "      <th>Sub-issue</th>\n",
       "      <th>Consumer complaint narrative</th>\n",
       "      <th>Company public response</th>\n",
       "      <th>Company</th>\n",
       "      <th>State</th>\n",
       "      <th>Consumer consent provided?</th>\n",
       "      <th>...</th>\n",
       "      <th>Date sent to company</th>\n",
       "      <th>Company response to consumer</th>\n",
       "      <th>Timely response?</th>\n",
       "      <th>Consumer disputed?</th>\n",
       "      <th>Month_received</th>\n",
       "      <th>Year_received</th>\n",
       "      <th>Day_received</th>\n",
       "      <th>Month_sent_on</th>\n",
       "      <th>Year_sent_on</th>\n",
       "      <th>Day_sent_on</th>\n",
       "    </tr>\n",
       "  </thead>\n",
       "  <tbody>\n",
       "    <tr>\n",
       "      <th>0</th>\n",
       "      <td>2015-10-14</td>\n",
       "      <td>Credit reporting</td>\n",
       "      <td>NaN</td>\n",
       "      <td>Incorrect information on credit report</td>\n",
       "      <td>Information is not mine</td>\n",
       "      <td>NaN</td>\n",
       "      <td>NaN</td>\n",
       "      <td>Equifax</td>\n",
       "      <td>GA</td>\n",
       "      <td>Consent not provided</td>\n",
       "      <td>...</td>\n",
       "      <td>2015-10-14</td>\n",
       "      <td>Closed with explanation</td>\n",
       "      <td>Yes</td>\n",
       "      <td>No</td>\n",
       "      <td>10</td>\n",
       "      <td>2015</td>\n",
       "      <td>14</td>\n",
       "      <td>10</td>\n",
       "      <td>2015</td>\n",
       "      <td>14</td>\n",
       "    </tr>\n",
       "  </tbody>\n",
       "</table>\n",
       "<p>1 rows × 21 columns</p>\n",
       "</div>"
      ],
      "text/plain": [
       "  Date received           Product Sub-product  \\\n",
       "0    2015-10-14  Credit reporting         NaN   \n",
       "\n",
       "                                    Issue                Sub-issue  \\\n",
       "0  Incorrect information on credit report  Information is not mine   \n",
       "\n",
       "  Consumer complaint narrative Company public response  Company State  \\\n",
       "0                          NaN                     NaN  Equifax    GA   \n",
       "\n",
       "  Consumer consent provided?  ... Date sent to company  \\\n",
       "0       Consent not provided  ...           2015-10-14   \n",
       "\n",
       "  Company response to consumer Timely response? Consumer disputed?  \\\n",
       "0      Closed with explanation              Yes                 No   \n",
       "\n",
       "  Month_received  Year_received  Day_received  Month_sent_on  Year_sent_on  \\\n",
       "0             10           2015            14             10          2015   \n",
       "\n",
       "   Day_sent_on  \n",
       "0           14  \n",
       "\n",
       "[1 rows x 21 columns]"
      ]
     },
     "execution_count": 7,
     "metadata": {},
     "output_type": "execute_result"
    }
   ],
   "source": [
    "# handling date column for date recived and date sent on for further time series analysis\n",
    "df['Month_received'] = df['Date received'].dt.month\n",
    "df['Year_received'] = df['Date received'].dt.year\n",
    "df['Day_received'] = df['Date sent to company'].dt.day\n",
    "\n",
    "df['Month_sent_on'] = df['Date sent to company'].dt.month\n",
    "df['Year_sent_on'] = df['Date sent to company'].dt.year\n",
    "df['Day_sent_on'] = df['Date sent to company'].dt.day\n",
    "df.head(1)"
   ]
  },
  {
   "cell_type": "code",
   "execution_count": 8,
   "metadata": {},
   "outputs": [
    {
     "data": {
      "text/plain": [
       "0"
      ]
     },
     "execution_count": 8,
     "metadata": {},
     "output_type": "execute_result"
    }
   ],
   "source": [
    "# making new column as Region -> company+State and handling null values 1st.\n",
    "from scipy.stats import mode\n",
    "\n",
    "# list of companies for where state has null value\n",
    "Comapny_names = df[df['State'].isna()]['Company'].tolist()\n",
    "\n",
    "# find mode in state for those companies to fill the null values in state.\n",
    "state_names = []\n",
    "for i in Comapny_names:\n",
    "    state_names.append(mode(df[df['Company'] == i]['State']).mode[0])\n",
    "    \n",
    "# now fill the values of null\n",
    "for x in state_names:\n",
    "    df['State'].fillna(x , inplace = True)\n",
    "df['State'].isna().sum()"
   ]
  },
  {
   "cell_type": "code",
   "execution_count": 10,
   "metadata": {},
   "outputs": [
    {
     "data": {
      "text/plain": [
       "<matplotlib.axes._subplots.AxesSubplot at 0x290a74151c8>"
      ]
     },
     "execution_count": 10,
     "metadata": {},
     "output_type": "execute_result"
    },
    {
     "data": {
      "image/png": "[encoded data removed]",
      "text/plain": [
       "<Figure size 432x288 with 1 Axes>"
      ]
     },
     "metadata": {
      "needs_background": "light"
     },
     "output_type": "display_data"
    }
   ],
   "source": [
    "# make region combining company and state and find most comapny in specific region that have most complaints.\n",
    "df['Region'] = df['Company'] +'_' + df['State']\n",
    "df['Region'].value_counts()[:10].plot(kind='barh')"
   ]
  },
  {
   "cell_type": "code",
   "execution_count": 15,
   "metadata": {},
   "outputs": [
    {
     "data": {
      "text/plain": [
       "Product\n",
       "Bank account or service     40667\n",
       "Consumer Loan               13964\n",
       "Credit card                 43114\n",
       "Credit reporting            60672\n",
       "Debt collection             65033\n",
       "Money transfers              2502\n",
       "Mortgage                   117066\n",
       "Other financial service       385\n",
       "Payday loan                  2425\n",
       "Prepaid card                 1671\n",
       "Student loan                11306\n",
       "Virtual currency                5\n",
       "Name: Date received, dtype: int64"
      ]
     },
     "execution_count": 15,
     "metadata": {},
     "output_type": "execute_result"
    }
   ],
   "source": [
    "# group by product to get idea of the number of complaints on each product\n",
    "df.groupby(['Product']).count()['Date received']"
   ]
  },
  {
   "cell_type": "code",
   "execution_count": 13,
   "metadata": {},
   "outputs": [
    {
     "data": {
      "image/png": "[encoded data removed]",
      "text/plain": [
       "<Figure size 432x288 with 1 Axes>"
      ]
     },
     "metadata": {
      "needs_background": "light"
     },
     "output_type": "display_data"
    }
   ],
   "source": [
    "# group by product to get idea of the number of complaints on each product type.\n",
    "for group,data in df.groupby(['Product'], sort = False):    # creates better performance\n",
    "    plt.barh(group,data['Date received'].count())"
   ]
  },
  {
   "cell_type": "code",
   "execution_count": 14,
   "metadata": {},
   "outputs": [
    {
     "data": {
      "text/plain": [
       "<matplotlib.axes._subplots.AxesSubplot at 0x13893d99ac8>"
      ]
     },
     "execution_count": 14,
     "metadata": {},
     "output_type": "execute_result"
    },
    {
     "data": {
      "image/png": "[encoded data removed]",
      "text/plain": [
       "<Figure size 432x288 with 1 Axes>"
      ]
     },
     "metadata": {
      "needs_background": "light"
     },
     "output_type": "display_data"
    }
   ],
   "source": [
    "# Top 5 products which receive a higher number of complaints\n",
    "df['Product'].value_counts()[:5].plot(kind='barh', title = 'No. of complaints on products')\n",
    "# it shows Mortgage has highest complaints."
   ]
  },
  {
   "cell_type": "code",
   "execution_count": 15,
   "metadata": {},
   "outputs": [
    {
     "data": {
      "text/plain": [
       "<matplotlib.axes._subplots.AxesSubplot at 0x1388877e888>"
      ]
     },
     "execution_count": 15,
     "metadata": {},
     "output_type": "execute_result"
    },
    {
     "data": {
      "image/png": "[encoded data removed]",
      "text/plain": [
       "<Figure size 432x288 with 1 Axes>"
      ]
     },
     "metadata": {
      "needs_background": "light"
     },
     "output_type": "display_data"
    }
   ],
   "source": [
    "# in Mortgage product -> Bank of America in Canada had highest complaints.\n",
    "df[df['Product'] == 'Mortgage']['Region'].value_counts()[:5].plot(kind='barh', title = 'Region of bank with highest complaint')\n"
   ]
  },
  {
   "cell_type": "code",
   "execution_count": 16,
   "metadata": {},
   "outputs": [
    {
     "data": {
      "text/plain": [
       "<matplotlib.axes._subplots.AxesSubplot at 0x138887eb8c8>"
      ]
     },
     "execution_count": 16,
     "metadata": {},
     "output_type": "execute_result"
    },
    {
     "data": {
      "image/png": "[encoded data removed]",
      "text/plain": [
       "<Figure size 432x288 with 1 Axes>"
      ]
     },
     "metadata": {
      "needs_background": "light"
     },
     "output_type": "display_data"
    }
   ],
   "source": [
    "# Top 5 issues which receive a higher number of complaints\n",
    "df['Issue'].value_counts()[:5].plot(kind='barh', title = 'No. of complaints on issues')\n",
    "# it shows loan,modification,collection,foreclosure has highest complaints."
   ]
  },
  {
   "cell_type": "code",
   "execution_count": 17,
   "metadata": {},
   "outputs": [
    {
     "data": {
      "text/plain": [
       "<matplotlib.axes._subplots.AxesSubplot at 0x13888849288>"
      ]
     },
     "execution_count": 17,
     "metadata": {},
     "output_type": "execute_result"
    },
    {
     "data": {
      "image/png": "[encoded data removed]",
      "text/plain": [
       "<Figure size 432x288 with 1 Axes>"
      ]
     },
     "metadata": {
      "needs_background": "light"
     },
     "output_type": "display_data"
    }
   ],
   "source": [
    "# comapny with highest complaints -> bank of america\n",
    "df['Company'].value_counts()[:5].plot(kind='barh', title = 'Region of bank with highest complaint')"
   ]
  },
  {
   "cell_type": "code",
   "execution_count": 18,
   "metadata": {},
   "outputs": [
    {
     "data": {
      "text/plain": [
       "<matplotlib.axes._subplots.AxesSubplot at 0x138888c66c8>"
      ]
     },
     "execution_count": 18,
     "metadata": {},
     "output_type": "execute_result"
    },
    {
     "data": {
      "image/png": "[encoded data removed]",
      "text/plain": [
       "<Figure size 432x288 with 1 Axes>"
      ]
     },
     "metadata": {
      "needs_background": "light"
     },
     "output_type": "display_data"
    }
   ],
   "source": [
    "# geographical distribution of complaints. -> Canada has highest complaints\n",
    "df['State'].value_counts()[:5].plot(kind='barh', title = 'Region with highest complaint')"
   ]
  },
  {
   "cell_type": "code",
   "execution_count": 19,
   "metadata": {},
   "outputs": [
    {
     "data": {
      "text/plain": [
       "<matplotlib.axes._subplots.AxesSubplot at 0x13888935688>"
      ]
     },
     "execution_count": 19,
     "metadata": {},
     "output_type": "execute_result"
    },
    {
     "data": {
      "image/png": "[encoded data removed]",
      "text/plain": [
       "<Figure size 432x288 with 1 Axes>"
      ]
     },
     "metadata": {
      "needs_background": "light"
     },
     "output_type": "display_data"
    }
   ],
   "source": [
    "# in Mortgage product -> Bank of America in Canada had highest complaints.\n",
    "df[df['Issue'] == 'Loan modification,collection,foreclosure']['Region'].value_counts()[:5].plot(kind='barh', title = 'Region of bank with highest complaint')"
   ]
  },
  {
   "cell_type": "code",
   "execution_count": 20,
   "metadata": {},
   "outputs": [
    {
     "data": {
      "text/plain": [
       "<matplotlib.axes._subplots.AxesSubplot at 0x13888990408>"
      ]
     },
     "execution_count": 20,
     "metadata": {},
     "output_type": "execute_result"
    },
    {
     "data": {
      "image/png": "[encoded data removed]",
      "text/plain": [
       "<Figure size 432x288 with 1 Axes>"
      ]
     },
     "metadata": {
      "needs_background": "light"
     },
     "output_type": "display_data"
    }
   ],
   "source": [
    "# common medium of complaints submitted  -> Web is most common\n",
    "df['Submitted via'].value_counts().plot(kind='barh', title = 'Medium of Complaints')"
   ]
  },
  {
   "cell_type": "code",
   "execution_count": 21,
   "metadata": {},
   "outputs": [
    {
     "data": {
      "text/plain": [
       "<matplotlib.axes._subplots.AxesSubplot at 0x138897c9548>"
      ]
     },
     "execution_count": 21,
     "metadata": {},
     "output_type": "execute_result"
    },
    {
     "data": {
      "image/png": "[encoded data removed]",
      "text/plain": [
       "<Figure size 432x288 with 1 Axes>"
      ]
     },
     "metadata": {
      "needs_background": "light"
     },
     "output_type": "display_data"
    }
   ],
   "source": [
    "# the complaints rise in any specific day day of the week -> date 10 of month overall has highest complaints\n",
    "df['Day_received'].value_counts()[:5].plot(kind='barh', title = 'Day with most complaints')"
   ]
  },
  {
   "cell_type": "code",
   "execution_count": 22,
   "metadata": {},
   "outputs": [
    {
     "data": {
      "text/plain": [
       "<matplotlib.axes._subplots.AxesSubplot at 0x138889cf9c8>"
      ]
     },
     "execution_count": 22,
     "metadata": {},
     "output_type": "execute_result"
    },
    {
     "data": {
      "image/png": "[encoded data removed]",
      "text/plain": [
       "<Figure size 432x288 with 1 Axes>"
      ]
     },
     "metadata": {
      "needs_background": "light"
     },
     "output_type": "display_data"
    }
   ],
   "source": [
    "# the complaints rise in any specific year -> 2015 (but we cannot derive any conclusion from it as over the years number of buys also increase -> which can also mean that since products are being used by more people now than ever thats why increase in complaints but doesnt have to signify that quality of product have decreased or service)\n",
    "df['Year_received'].value_counts()[:5].plot(kind='barh', title = 'Year with most complaints')"
   ]
  },
  {
   "cell_type": "code",
   "execution_count": 23,
   "metadata": {},
   "outputs": [
    {
     "data": {
      "text/plain": [
       "<matplotlib.axes._subplots.AxesSubplot at 0x13888fde048>"
      ]
     },
     "execution_count": 23,
     "metadata": {},
     "output_type": "execute_result"
    },
    {
     "data": {
      "image/png": "[encoded data removed]",
      "text/plain": [
       "<Figure size 432x288 with 1 Axes>"
      ]
     },
     "metadata": {
      "needs_background": "light"
     },
     "output_type": "display_data"
    }
   ],
   "source": [
    "# the complaints rise in any specific month -> 3(april month has most complaints over the years)\n",
    "df['Month_received'].value_counts()[:5].plot(kind='barh', title = 'Month with most complaints')"
   ]
  },
  {
   "cell_type": "code",
   "execution_count": 24,
   "metadata": {},
   "outputs": [
    {
     "data": {
      "text/plain": [
       "<matplotlib.axes._subplots.AxesSubplot at 0x13889059b08>"
      ]
     },
     "execution_count": 24,
     "metadata": {},
     "output_type": "execute_result"
    },
    {
     "data": {
      "image/png": "[encoded data removed]",
      "text/plain": [
       "<Figure size 432x288 with 1 Axes>"
      ]
     },
     "metadata": {
      "needs_background": "light"
     },
     "output_type": "display_data"
    }
   ],
   "source": [
    "# How do companies respond to the complaints? The most common responses -> (closed with explanation)\n",
    "df['Company response to consumer'].value_counts().plot(kind='barh', title = 'Month with most complaints')"
   ]
  },
  {
   "cell_type": "markdown",
   "metadata": {},
   "source": [
    "# Finding a pattern between people disputing and timely response of company to customer"
   ]
  },
  {
   "cell_type": "code",
   "execution_count": 25,
   "metadata": {},
   "outputs": [
    {
     "data": {
      "image/png": "[encoded data removed]",
      "text/plain": [
       "<Figure size 432x288 with 1 Axes>"
      ]
     },
     "metadata": {
      "needs_background": "light"
     },
     "output_type": "display_data"
    }
   ],
   "source": [
    "#plt.figure(figsize=(10,8))\n",
    "\n",
    "No_dispute = df[(df['Timely response?'] == 'Yes') & (df['Consumer disputed?'] == 'No')]['Consumer disputed?'].count()\n",
    "Dispute = df[(df['Timely response?'] == 'Yes') & (df['Consumer disputed?'] == 'Yes')]['Consumer disputed?'].count()\n",
    "plt.bar(0,No_dispute,label='No_dispute')\n",
    "plt.bar(1,Dispute,label='Dispute')\n",
    "plt.xticks([])\n",
    "plt.ylabel('No_of_people')\n",
    "plt.xlabel('Timely_Response')\n",
    "plt.legend()\n",
    "plt.show()\n",
    "# from the above analysis we see that majority of customers have not disputed when a timely response was given"
   ]
  },
  {
   "cell_type": "code",
   "execution_count": 26,
   "metadata": {},
   "outputs": [
    {
     "data": {
      "image/png": "[encoded data removed]",
      "text/plain": [
       "<Figure size 432x288 with 1 Axes>"
      ]
     },
     "metadata": {
      "needs_background": "light"
     },
     "output_type": "display_data"
    }
   ],
   "source": [
    "#plt.figure(figsize=(10,8))\n",
    "\n",
    "Dispute = df[(df['Timely response?'] == 'No') & (df['Consumer disputed?'] == 'Yes')]['Consumer disputed?'].count()\n",
    "No_dispute = df[(df['Timely response?'] == 'No') & (df['Consumer disputed?'] == 'No')]['Consumer disputed?'].count()\n",
    "plt.bar(1,Dispute,label='Dispute')\n",
    "plt.bar(2,No_dispute,label='No_dispute')\n",
    "plt.xticks([])\n",
    "plt.ylabel('No_of_people')\n",
    "plt.xlabel('Untimely_Response')\n",
    "plt.legend()\n",
    "plt.show()\n",
    "# from the above analysis we see that even when timely response was not given,  majority of customers have not disputed when a timely response was given"
   ]
  },
  {
   "cell_type": "code",
   "execution_count": 27,
   "metadata": {},
   "outputs": [
    {
     "data": {
      "text/plain": [
       "<matplotlib.axes._subplots.AxesSubplot at 0x13889145d48>"
      ]
     },
     "execution_count": 27,
     "metadata": {},
     "output_type": "execute_result"
    },
    {
     "data": {
      "image/png": "[encoded data removed]",
      "text/plain": [
       "<Figure size 432x288 with 1 Axes>"
      ]
     },
     "metadata": {
      "needs_background": "light"
     },
     "output_type": "display_data"
    }
   ],
   "source": [
    "# issue with timely reply -> timely responses seems to be given more since company is more familiar with the issue.\n",
    "df[(df['Timely response?'] == 'Yes')]['Issue'].value_counts()[:10].plot(kind='barh', title = 'Consumer disputing resolution')\n"
   ]
  },
  {
   "cell_type": "code",
   "execution_count": 28,
   "metadata": {},
   "outputs": [
    {
     "data": {
      "text/plain": [
       "<matplotlib.axes._subplots.AxesSubplot at 0x13889221d08>"
      ]
     },
     "execution_count": 28,
     "metadata": {},
     "output_type": "execute_result"
    },
    {
     "data": {
      "image/png": "[encoded data removed]",
      "text/plain": [
       "<Figure size 432x288 with 1 Axes>"
      ]
     },
     "metadata": {
      "needs_background": "light"
     },
     "output_type": "display_data"
    }
   ],
   "source": [
    "# issue with untimely reply -> company might be unfamiliar with issue leading to delay in response\n",
    "df[(df['Timely response?'] == 'No')]['Issue'].value_counts()[:10].plot(kind='barh', title = 'Consumer disputing resolution')\n"
   ]
  },
  {
   "cell_type": "code",
   "execution_count": 16,
   "metadata": {},
   "outputs": [
    {
     "data": {
      "text/html": [
       "<div>\n",
       "<style scoped>\n",
       "    .dataframe tbody tr th:only-of-type {\n",
       "        vertical-align: middle;\n",
       "    }\n",
       "\n",
       "    .dataframe tbody tr th {\n",
       "        vertical-align: top;\n",
       "    }\n",
       "\n",
       "    .dataframe thead th {\n",
       "        text-align: right;\n",
       "    }\n",
       "</style>\n",
       "<table border=\"1\" class=\"dataframe\">\n",
       "  <thead>\n",
       "    <tr style=\"text-align: right;\">\n",
       "      <th></th>\n",
       "      <th>Date received</th>\n",
       "      <th>Product</th>\n",
       "      <th>Sub-product</th>\n",
       "      <th>Issue</th>\n",
       "      <th>Sub-issue</th>\n",
       "      <th>Consumer complaint narrative</th>\n",
       "      <th>Company public response</th>\n",
       "      <th>Company</th>\n",
       "      <th>State</th>\n",
       "      <th>Consumer consent provided?</th>\n",
       "      <th>...</th>\n",
       "      <th>Company response to consumer</th>\n",
       "      <th>Timely response?</th>\n",
       "      <th>Consumer disputed?</th>\n",
       "      <th>Month_received</th>\n",
       "      <th>Year_received</th>\n",
       "      <th>Day_received</th>\n",
       "      <th>Month_sent_on</th>\n",
       "      <th>Year_sent_on</th>\n",
       "      <th>Day_sent_on</th>\n",
       "      <th>Region</th>\n",
       "    </tr>\n",
       "  </thead>\n",
       "  <tbody>\n",
       "    <tr>\n",
       "      <th>0</th>\n",
       "      <td>2015-10-14</td>\n",
       "      <td>Credit reporting</td>\n",
       "      <td>NaN</td>\n",
       "      <td>Incorrect information on credit report</td>\n",
       "      <td>Information is not mine</td>\n",
       "      <td>NaN</td>\n",
       "      <td>NaN</td>\n",
       "      <td>Equifax</td>\n",
       "      <td>GA</td>\n",
       "      <td>Consent not provided</td>\n",
       "      <td>...</td>\n",
       "      <td>Closed with explanation</td>\n",
       "      <td>Yes</td>\n",
       "      <td>No</td>\n",
       "      <td>10</td>\n",
       "      <td>2015</td>\n",
       "      <td>14</td>\n",
       "      <td>10</td>\n",
       "      <td>2015</td>\n",
       "      <td>14</td>\n",
       "      <td>Equifax_GA</td>\n",
       "    </tr>\n",
       "    <tr>\n",
       "      <th>1</th>\n",
       "      <td>2015-04-26</td>\n",
       "      <td>Bank account or service</td>\n",
       "      <td>Other bank product/service</td>\n",
       "      <td>Deposits and withdrawals</td>\n",
       "      <td>NaN</td>\n",
       "      <td>RE : XXXX XXXX XXXX-PRIVILEGED AND CONFIDENTIA...</td>\n",
       "      <td>NaN</td>\n",
       "      <td>Wells Fargo &amp; Company</td>\n",
       "      <td>GA</td>\n",
       "      <td>Consent provided</td>\n",
       "      <td>...</td>\n",
       "      <td>Closed with explanation</td>\n",
       "      <td>Yes</td>\n",
       "      <td>Yes</td>\n",
       "      <td>4</td>\n",
       "      <td>2015</td>\n",
       "      <td>26</td>\n",
       "      <td>4</td>\n",
       "      <td>2015</td>\n",
       "      <td>26</td>\n",
       "      <td>Wells Fargo &amp; Company_GA</td>\n",
       "    </tr>\n",
       "    <tr>\n",
       "      <th>2</th>\n",
       "      <td>2013-12-20</td>\n",
       "      <td>Credit card</td>\n",
       "      <td>NaN</td>\n",
       "      <td>Other</td>\n",
       "      <td>NaN</td>\n",
       "      <td>NaN</td>\n",
       "      <td>NaN</td>\n",
       "      <td>Citibank</td>\n",
       "      <td>SC</td>\n",
       "      <td>NaN</td>\n",
       "      <td>...</td>\n",
       "      <td>Closed with non-monetary relief</td>\n",
       "      <td>Yes</td>\n",
       "      <td>No</td>\n",
       "      <td>12</td>\n",
       "      <td>2013</td>\n",
       "      <td>3</td>\n",
       "      <td>1</td>\n",
       "      <td>2014</td>\n",
       "      <td>3</td>\n",
       "      <td>Citibank_SC</td>\n",
       "    </tr>\n",
       "    <tr>\n",
       "      <th>3</th>\n",
       "      <td>2016-03-03</td>\n",
       "      <td>Debt collection</td>\n",
       "      <td>Other (i.e. phone, health club, etc.)</td>\n",
       "      <td>Disclosure verification of debt</td>\n",
       "      <td>Not given enough info to verify debt</td>\n",
       "      <td>NaN</td>\n",
       "      <td>Company has responded to the consumer and the ...</td>\n",
       "      <td>FAIR COLLECTIONS &amp; OUTSOURCING, INC.</td>\n",
       "      <td>OH</td>\n",
       "      <td>NaN</td>\n",
       "      <td>...</td>\n",
       "      <td>Closed with explanation</td>\n",
       "      <td>Yes</td>\n",
       "      <td>No</td>\n",
       "      <td>3</td>\n",
       "      <td>2016</td>\n",
       "      <td>4</td>\n",
       "      <td>3</td>\n",
       "      <td>2016</td>\n",
       "      <td>4</td>\n",
       "      <td>FAIR COLLECTIONS &amp; OUTSOURCING, INC._OH</td>\n",
       "    </tr>\n",
       "    <tr>\n",
       "      <th>4</th>\n",
       "      <td>2015-01-30</td>\n",
       "      <td>Debt collection</td>\n",
       "      <td>Medical</td>\n",
       "      <td>Disclosure verification of debt</td>\n",
       "      <td>Not given enough info to verify debt</td>\n",
       "      <td>NaN</td>\n",
       "      <td>NaN</td>\n",
       "      <td>HCFS Health Care Financial Services, Inc.</td>\n",
       "      <td>CA</td>\n",
       "      <td>NaN</td>\n",
       "      <td>...</td>\n",
       "      <td>Closed with explanation</td>\n",
       "      <td>Yes</td>\n",
       "      <td>Yes</td>\n",
       "      <td>1</td>\n",
       "      <td>2015</td>\n",
       "      <td>30</td>\n",
       "      <td>1</td>\n",
       "      <td>2015</td>\n",
       "      <td>30</td>\n",
       "      <td>HCFS Health Care Financial Services, Inc._CA</td>\n",
       "    </tr>\n",
       "  </tbody>\n",
       "</table>\n",
       "<p>5 rows × 22 columns</p>\n",
       "</div>"
      ],
      "text/plain": [
       "  Date received                  Product  \\\n",
       "0    2015-10-14         Credit reporting   \n",
       "1    2015-04-26  Bank account or service   \n",
       "2    2013-12-20              Credit card   \n",
       "3    2016-03-03          Debt collection   \n",
       "4    2015-01-30          Debt collection   \n",
       "\n",
       "                             Sub-product  \\\n",
       "0                                    NaN   \n",
       "1             Other bank product/service   \n",
       "2                                    NaN   \n",
       "3  Other (i.e. phone, health club, etc.)   \n",
       "4                                Medical   \n",
       "\n",
       "                                    Issue  \\\n",
       "0  Incorrect information on credit report   \n",
       "1                Deposits and withdrawals   \n",
       "2                                   Other   \n",
       "3         Disclosure verification of debt   \n",
       "4         Disclosure verification of debt   \n",
       "\n",
       "                              Sub-issue  \\\n",
       "0               Information is not mine   \n",
       "1                                   NaN   \n",
       "2                                   NaN   \n",
       "3  Not given enough info to verify debt   \n",
       "4  Not given enough info to verify debt   \n",
       "\n",
       "                        Consumer complaint narrative  \\\n",
       "0                                                NaN   \n",
       "1  RE : XXXX XXXX XXXX-PRIVILEGED AND CONFIDENTIA...   \n",
       "2                                                NaN   \n",
       "3                                                NaN   \n",
       "4                                                NaN   \n",
       "\n",
       "                             Company public response  \\\n",
       "0                                                NaN   \n",
       "1                                                NaN   \n",
       "2                                                NaN   \n",
       "3  Company has responded to the consumer and the ...   \n",
       "4                                                NaN   \n",
       "\n",
       "                                     Company State Consumer consent provided?  \\\n",
       "0                                    Equifax    GA       Consent not provided   \n",
       "1                      Wells Fargo & Company    GA           Consent provided   \n",
       "2                                   Citibank    SC                        NaN   \n",
       "3       FAIR COLLECTIONS & OUTSOURCING, INC.    OH                        NaN   \n",
       "4  HCFS Health Care Financial Services, Inc.    CA                        NaN   \n",
       "\n",
       "   ...     Company response to consumer Timely response? Consumer disputed?  \\\n",
       "0  ...          Closed with explanation              Yes                 No   \n",
       "1  ...          Closed with explanation              Yes                Yes   \n",
       "2  ...  Closed with non-monetary relief              Yes                 No   \n",
       "3  ...          Closed with explanation              Yes                 No   \n",
       "4  ...          Closed with explanation              Yes                Yes   \n",
       "\n",
       "  Month_received Year_received  Day_received  Month_sent_on  Year_sent_on  \\\n",
       "0             10          2015            14             10          2015   \n",
       "1              4          2015            26              4          2015   \n",
       "2             12          2013             3              1          2014   \n",
       "3              3          2016             4              3          2016   \n",
       "4              1          2015            30              1          2015   \n",
       "\n",
       "   Day_sent_on                                        Region  \n",
       "0           14                                    Equifax_GA  \n",
       "1           26                      Wells Fargo & Company_GA  \n",
       "2            3                                   Citibank_SC  \n",
       "3            4       FAIR COLLECTIONS & OUTSOURCING, INC._OH  \n",
       "4           30  HCFS Health Care Financial Services, Inc._CA  \n",
       "\n",
       "[5 rows x 22 columns]"
      ]
     },
     "execution_count": 16,
     "metadata": {},
     "output_type": "execute_result"
    }
   ],
   "source": [
    "df.head()"
   ]
  },
  {
   "cell_type": "code",
   "execution_count": 14,
   "metadata": {},
   "outputs": [
    {
     "data": {
      "text/plain": [
       "Date received                        0\n",
       "Product                              0\n",
       "Sub-product                     103786\n",
       "Issue                                0\n",
       "Sub-issue                       219374\n",
       "Consumer complaint narrative    302630\n",
       "Company public response         290879\n",
       "Company                              0\n",
       "State                                0\n",
       "Consumer consent provided?      257230\n",
       "Submitted via                        0\n",
       "Date sent to company                 0\n",
       "Company response to consumer         0\n",
       "Timely response?                     0\n",
       "Consumer disputed?                   0\n",
       "Month_received                       0\n",
       "Year_received                        0\n",
       "Day_received                         0\n",
       "Month_sent_on                        0\n",
       "Year_sent_on                         0\n",
       "Day_sent_on                          0\n",
       "Region                               0\n",
       "dtype: int64"
      ]
     },
     "execution_count": 14,
     "metadata": {},
     "output_type": "execute_result"
    }
   ],
   "source": [
    "df.isna().sum()"
   ]
  },
  {
   "cell_type": "markdown",
   "metadata": {},
   "source": [
    "# Handling Null values of all columns"
   ]
  },
  {
   "cell_type": "code",
   "execution_count": 15,
   "metadata": {},
   "outputs": [],
   "source": [
    "# Making copy of df to work with handling null values\n",
    "df_na = df.copy()"
   ]
  },
  {
   "cell_type": "code",
   "execution_count": 19,
   "metadata": {},
   "outputs": [
    {
     "data": {
      "text/plain": [
       "<matplotlib.axes._subplots.AxesSubplot at 0x1e6529eea08>"
      ]
     },
     "execution_count": 19,
     "metadata": {},
     "output_type": "execute_result"
    },
    {
     "data": {
      "image/png": "[encoded data removed]",
      "text/plain": [
       "<Figure size 432x288 with 1 Axes>"
      ]
     },
     "metadata": {
      "needs_background": "light"
     },
     "output_type": "display_data"
    }
   ],
   "source": [
    "# handling null values in Sub-product\n",
    "# finding out the type of sub-products and frequency to decide the values to be put in NANs\n",
    "df_na['Sub-product'].value_counts()[:10].plot(kind='barh')"
   ]
  },
  {
   "cell_type": "code",
   "execution_count": 20,
   "metadata": {},
   "outputs": [
    {
     "data": {
      "text/plain": [
       "array(['Credit reporting', 'Credit card'], dtype=object)"
      ]
     },
     "execution_count": 20,
     "metadata": {},
     "output_type": "execute_result"
    }
   ],
   "source": [
    "# values of products that contain subproduct as null\n",
    "df_na[df_na['Sub-product'].isna()]['Product'].unique()"
   ]
  },
  {
   "cell_type": "code",
   "execution_count": 16,
   "metadata": {},
   "outputs": [
    {
     "data": {
      "text/plain": [
       "0"
      ]
     },
     "execution_count": 16,
     "metadata": {},
     "output_type": "execute_result"
    }
   ],
   "source": [
    "# filling the missing value with credit card(exisiting in sub-product) as the product category is also credit card and does not make sense to fill sub category with mode ie. other mortgage.\n",
    "df_na['Sub-product'].fillna('Credit card', inplace = True)\n",
    "df_na['Sub-product'].isna().sum()"
   ]
  },
  {
   "cell_type": "code",
   "execution_count": 17,
   "metadata": {},
   "outputs": [],
   "source": [
    "# Consumer complaint narrative -> drop column as there are too many nans , might use it in future for NLP\n",
    "df_na.drop(['Sub-issue'], axis = 1, inplace = True)"
   ]
  },
  {
   "cell_type": "code",
   "execution_count": 18,
   "metadata": {},
   "outputs": [],
   "source": [
    "# dropping columns not needed -> might use in for NLP and last 2 columns have many nans to be condidered\n",
    "df_na.drop(['Consumer complaint narrative'], axis = 1, inplace = True)\n",
    "df_na.drop(['Company public response'], axis = 1, inplace = True)\n",
    "df_na.drop(['Consumer consent provided?'], axis = 1, inplace = True)\n"
   ]
  },
  {
   "cell_type": "code",
   "execution_count": 19,
   "metadata": {},
   "outputs": [
    {
     "data": {
      "text/plain": [
       "Date received                   0\n",
       "Product                         0\n",
       "Sub-product                     0\n",
       "Issue                           0\n",
       "Company                         0\n",
       "State                           0\n",
       "Submitted via                   0\n",
       "Date sent to company            0\n",
       "Company response to consumer    0\n",
       "Timely response?                0\n",
       "Consumer disputed?              0\n",
       "Month_received                  0\n",
       "Year_received                   0\n",
       "Day_received                    0\n",
       "Month_sent_on                   0\n",
       "Year_sent_on                    0\n",
       "Day_sent_on                     0\n",
       "Region                          0\n",
       "dtype: int64"
      ]
     },
     "execution_count": 19,
     "metadata": {},
     "output_type": "execute_result"
    }
   ],
   "source": [
    "df_na.isna().sum()"
   ]
  },
  {
   "cell_type": "markdown",
   "metadata": {},
   "source": [
    "# Text Based Modelling for Product and the Consumer Complaint "
   ]
  },
  {
   "cell_type": "code",
   "execution_count": 52,
   "metadata": {},
   "outputs": [
    {
     "data": {
      "text/html": [
       "<div>\n",
       "<style scoped>\n",
       "    .dataframe tbody tr th:only-of-type {\n",
       "        vertical-align: middle;\n",
       "    }\n",
       "\n",
       "    .dataframe tbody tr th {\n",
       "        vertical-align: top;\n",
       "    }\n",
       "\n",
       "    .dataframe thead th {\n",
       "        text-align: right;\n",
       "    }\n",
       "</style>\n",
       "<table border=\"1\" class=\"dataframe\">\n",
       "  <thead>\n",
       "    <tr style=\"text-align: right;\">\n",
       "      <th></th>\n",
       "      <th>Product</th>\n",
       "      <th>Consumer complaint narrative</th>\n",
       "    </tr>\n",
       "  </thead>\n",
       "  <tbody>\n",
       "    <tr>\n",
       "      <th>1</th>\n",
       "      <td>Bank account or service</td>\n",
       "      <td>RE : XXXX XXXX XXXX-PRIVILEGED AND CONFIDENTIA...</td>\n",
       "    </tr>\n",
       "    <tr>\n",
       "      <th>6</th>\n",
       "      <td>Mortgage</td>\n",
       "      <td>Homeowner applied for 2nd modification due to ...</td>\n",
       "    </tr>\n",
       "    <tr>\n",
       "      <th>11</th>\n",
       "      <td>Debt collection</td>\n",
       "      <td>In XXXX I started service with a cable company...</td>\n",
       "    </tr>\n",
       "    <tr>\n",
       "      <th>12</th>\n",
       "      <td>Consumer Loan</td>\n",
       "      <td>I went into a XXXX dealership and was told I w...</td>\n",
       "    </tr>\n",
       "    <tr>\n",
       "      <th>23</th>\n",
       "      <td>Debt collection</td>\n",
       "      <td>When requested, Portfolio Recovery Services ( ...</td>\n",
       "    </tr>\n",
       "  </tbody>\n",
       "</table>\n",
       "</div>"
      ],
      "text/plain": [
       "                    Product                       Consumer complaint narrative\n",
       "1   Bank account or service  RE : XXXX XXXX XXXX-PRIVILEGED AND CONFIDENTIA...\n",
       "6                  Mortgage  Homeowner applied for 2nd modification due to ...\n",
       "11          Debt collection  In XXXX I started service with a cable company...\n",
       "12            Consumer Loan  I went into a XXXX dealership and was told I w...\n",
       "23          Debt collection  When requested, Portfolio Recovery Services ( ..."
      ]
     },
     "execution_count": 52,
     "metadata": {},
     "output_type": "execute_result"
    }
   ],
   "source": [
    "df_nlp = df_original.copy()\n",
    "df_nlp = df_nlp.filter(items = ['Product', 'Consumer complaint narrative'])\n",
    "df_nlp.dropna(inplace = True)\n",
    "df_nlp.head()"
   ]
  },
  {
   "cell_type": "code",
   "execution_count": 53,
   "metadata": {},
   "outputs": [
    {
     "data": {
      "text/plain": [
       "1     RE : XXXX XXXX XXXX-PRIVILEGED AND CONFIDENTIA...\n",
       "6     Homeowner applied for 2nd modification due to ...\n",
       "11    In XXXX I started service with a cable company...\n",
       "12    I went into a XXXX dealership and was told I w...\n",
       "23    When requested, Portfolio Recovery Services ( ...\n",
       "Name: Consumer complaint narrative, dtype: object"
      ]
     },
     "execution_count": 53,
     "metadata": {},
     "output_type": "execute_result"
    }
   ],
   "source": [
    "df_nlp['Consumer complaint narrative'] = df_nlp['Consumer complaint narrative'].apply(str)\n",
    "df_nlp['Consumer complaint narrative'].head()"
   ]
  },
  {
   "cell_type": "code",
   "execution_count": 54,
   "metadata": {},
   "outputs": [
    {
     "data": {
      "text/plain": [
       "0"
      ]
     },
     "execution_count": 54,
     "metadata": {},
     "output_type": "execute_result"
    }
   ],
   "source": [
    "df_nlp['Consumer complaint narrative'].isna().sum()"
   ]
  },
  {
   "cell_type": "code",
   "execution_count": 55,
   "metadata": {},
   "outputs": [],
   "source": [
    "import nltk\n",
    "import re, string\n",
    "from nltk.corpus import stopwords\n",
    "from sklearn.feature_extraction.text import TfidfVectorizer \n",
    "from string import punctuation\n",
    "reuters_stopwords=set(stopwords.words('english') + list(punctuation))\n",
    "from sklearn.metrics import accuracy_score, confusion_matrix\n",
    "from nltk.tokenize import word_tokenize, TweetTokenizer\n",
    "from nltk.corpus import stopwords\n",
    "from sklearn.feature_extraction.text import CountVectorizer, TfidfTransformer, TfidfVectorizer"
   ]
  },
  {
   "cell_type": "code",
   "execution_count": 56,
   "metadata": {},
   "outputs": [
    {
     "data": {
      "text/html": [
       "<div>\n",
       "<style scoped>\n",
       "    .dataframe tbody tr th:only-of-type {\n",
       "        vertical-align: middle;\n",
       "    }\n",
       "\n",
       "    .dataframe tbody tr th {\n",
       "        vertical-align: top;\n",
       "    }\n",
       "\n",
       "    .dataframe thead th {\n",
       "        text-align: right;\n",
       "    }\n",
       "</style>\n",
       "<table border=\"1\" class=\"dataframe\">\n",
       "  <thead>\n",
       "    <tr style=\"text-align: right;\">\n",
       "      <th></th>\n",
       "      <th>Product</th>\n",
       "      <th>Consumer complaint narrative</th>\n",
       "    </tr>\n",
       "  </thead>\n",
       "  <tbody>\n",
       "    <tr>\n",
       "      <th>1</th>\n",
       "      <td>Bank account or service</td>\n",
       "      <td>RE : XXXX XXXX XXXX-PRIVILEGED AND CONFIDENTIA...</td>\n",
       "    </tr>\n",
       "    <tr>\n",
       "      <th>6</th>\n",
       "      <td>Mortgage</td>\n",
       "      <td>Homeowner applied for 2nd modification due to ...</td>\n",
       "    </tr>\n",
       "    <tr>\n",
       "      <th>11</th>\n",
       "      <td>Debt collection</td>\n",
       "      <td>In XXXX I started service with a cable company...</td>\n",
       "    </tr>\n",
       "    <tr>\n",
       "      <th>12</th>\n",
       "      <td>Consumer Loan</td>\n",
       "      <td>I went into a XXXX dealership and was told I w...</td>\n",
       "    </tr>\n",
       "    <tr>\n",
       "      <th>23</th>\n",
       "      <td>Debt collection</td>\n",
       "      <td>When requested, Portfolio Recovery Services ( ...</td>\n",
       "    </tr>\n",
       "  </tbody>\n",
       "</table>\n",
       "</div>"
      ],
      "text/plain": [
       "                    Product                       Consumer complaint narrative\n",
       "1   Bank account or service  RE : XXXX XXXX XXXX-PRIVILEGED AND CONFIDENTIA...\n",
       "6                  Mortgage  Homeowner applied for 2nd modification due to ...\n",
       "11          Debt collection  In XXXX I started service with a cable company...\n",
       "12            Consumer Loan  I went into a XXXX dealership and was told I w...\n",
       "23          Debt collection  When requested, Portfolio Recovery Services ( ..."
      ]
     },
     "execution_count": 56,
     "metadata": {},
     "output_type": "execute_result"
    }
   ],
   "source": [
    "df_nlp.head()"
   ]
  },
  {
   "cell_type": "code",
   "execution_count": 58,
   "metadata": {},
   "outputs": [
    {
     "name": "stderr",
     "output_type": "stream",
     "text": [
      "[nltk_data] Downloading package punkt to\n",
      "[nltk_data]     C:\\Users\\singh\\AppData\\Roaming\\nltk_data...\n",
      "[nltk_data]   Unzipping tokenizers\\punkt.zip.\n"
     ]
    },
    {
     "data": {
      "text/html": [
       "<div>\n",
       "<style scoped>\n",
       "    .dataframe tbody tr th:only-of-type {\n",
       "        vertical-align: middle;\n",
       "    }\n",
       "\n",
       "    .dataframe tbody tr th {\n",
       "        vertical-align: top;\n",
       "    }\n",
       "\n",
       "    .dataframe thead th {\n",
       "        text-align: right;\n",
       "    }\n",
       "</style>\n",
       "<table border=\"1\" class=\"dataframe\">\n",
       "  <thead>\n",
       "    <tr style=\"text-align: right;\">\n",
       "      <th></th>\n",
       "      <th>Product</th>\n",
       "      <th>Consumer complaint narrative</th>\n",
       "    </tr>\n",
       "  </thead>\n",
       "  <tbody>\n",
       "    <tr>\n",
       "      <th>1</th>\n",
       "      <td>Bank account or service</td>\n",
       "      <td>PRIVILEGED CONFIDENTIAL INFORMATIONDear Consum...</td>\n",
       "    </tr>\n",
       "    <tr>\n",
       "      <th>6</th>\n",
       "      <td>Mortgage</td>\n",
       "      <td>Homeowner applied 2nd modification due reset f...</td>\n",
       "    </tr>\n",
       "    <tr>\n",
       "      <th>11</th>\n",
       "      <td>Debt collection</td>\n",
       "      <td>started service cable company named account we...</td>\n",
       "    </tr>\n",
       "    <tr>\n",
       "      <th>12</th>\n",
       "      <td>Consumer Loan</td>\n",
       "      <td>went dealership told would receive rate .9 agr...</td>\n",
       "    </tr>\n",
       "    <tr>\n",
       "      <th>23</th>\n",
       "      <td>Debt collection</td>\n",
       "      <td>requested Portfolio Recovery Services PRS clai...</td>\n",
       "    </tr>\n",
       "    <tr>\n",
       "      <th>...</th>\n",
       "      <td>...</td>\n",
       "      <td>...</td>\n",
       "    </tr>\n",
       "    <tr>\n",
       "      <th>358768</th>\n",
       "      <td>Mortgage</td>\n",
       "      <td>Short sell approved Ocwen home listed instruct...</td>\n",
       "    </tr>\n",
       "    <tr>\n",
       "      <th>358775</th>\n",
       "      <td>Credit card</td>\n",
       "      <td>required use Government Card travel erroneousl...</td>\n",
       "    </tr>\n",
       "    <tr>\n",
       "      <th>358779</th>\n",
       "      <td>Credit reporting</td>\n",
       "      <td>working tirelessly repairing credit history in...</td>\n",
       "    </tr>\n",
       "    <tr>\n",
       "      <th>358781</th>\n",
       "      <td>Debt collection</td>\n",
       "      <td>Consumer Financial Protection BureauRe Dear IN...</td>\n",
       "    </tr>\n",
       "    <tr>\n",
       "      <th>358801</th>\n",
       "      <td>Debt collection</td>\n",
       "      <td>collection agent named Revenue Group stated wo...</td>\n",
       "    </tr>\n",
       "  </tbody>\n",
       "</table>\n",
       "<p>56180 rows × 2 columns</p>\n",
       "</div>"
      ],
      "text/plain": [
       "                        Product  \\\n",
       "1       Bank account or service   \n",
       "6                      Mortgage   \n",
       "11              Debt collection   \n",
       "12                Consumer Loan   \n",
       "23              Debt collection   \n",
       "...                         ...   \n",
       "358768                 Mortgage   \n",
       "358775              Credit card   \n",
       "358779         Credit reporting   \n",
       "358781          Debt collection   \n",
       "358801          Debt collection   \n",
       "\n",
       "                             Consumer complaint narrative  \n",
       "1       PRIVILEGED CONFIDENTIAL INFORMATIONDear Consum...  \n",
       "6       Homeowner applied 2nd modification due reset f...  \n",
       "11      started service cable company named account we...  \n",
       "12      went dealership told would receive rate .9 agr...  \n",
       "23      requested Portfolio Recovery Services PRS clai...  \n",
       "...                                                   ...  \n",
       "358768  Short sell approved Ocwen home listed instruct...  \n",
       "358775  required use Government Card travel erroneousl...  \n",
       "358779  working tirelessly repairing credit history in...  \n",
       "358781  Consumer Financial Protection BureauRe Dear IN...  \n",
       "358801  collection agent named Revenue Group stated wo...  \n",
       "\n",
       "[56180 rows x 2 columns]"
      ]
     },
     "execution_count": 58,
     "metadata": {},
     "output_type": "execute_result"
    }
   ],
   "source": [
    "# Create a function to generate cleaned data from raw text\n",
    "nltk.download('punkt')\n",
    "def clean_text(complaint):\n",
    "    complaint=complaint.replace('XXXX', '')\n",
    "    complaint=complaint.replace('-', '')\n",
    "    complaint = word_tokenize(complaint) # Create tokens\n",
    "    complaint = [char for char in complaint if char not in string.punctuation] # Remove punctuations\n",
    "    complaint = ' '.join(complaint) # Join the leters\n",
    "    complaint = [word for word in complaint.split() if word.lower() not in stopwords.words('english')] # Remove common english words (I, you, we,...)\n",
    "    return \" \".join(complaint)\n",
    "df_nlp['Consumer complaint narrative'] = df_nlp['Consumer complaint narrative'].apply(clean_text)\n",
    "df_nlp"
   ]
  },
  {
   "cell_type": "code",
   "execution_count": 59,
   "metadata": {},
   "outputs": [],
   "source": [
    "df_nlp2 = df_nlp.copy()"
   ]
  },
  {
   "cell_type": "code",
   "execution_count": null,
   "metadata": {},
   "outputs": [],
   "source": [
    "df_nlp.to_csv(\"Desktop/arshia/df_nlp.csv\")"
   ]
  },
  {
   "cell_type": "code",
   "execution_count": 60,
   "metadata": {},
   "outputs": [
    {
     "data": {
      "text/html": [
       "<div>\n",
       "<style scoped>\n",
       "    .dataframe tbody tr th:only-of-type {\n",
       "        vertical-align: middle;\n",
       "    }\n",
       "\n",
       "    .dataframe tbody tr th {\n",
       "        vertical-align: top;\n",
       "    }\n",
       "\n",
       "    .dataframe thead th {\n",
       "        text-align: right;\n",
       "    }\n",
       "</style>\n",
       "<table border=\"1\" class=\"dataframe\">\n",
       "  <thead>\n",
       "    <tr style=\"text-align: right;\">\n",
       "      <th></th>\n",
       "      <th>Product</th>\n",
       "      <th>Consumer complaint narrative</th>\n",
       "    </tr>\n",
       "  </thead>\n",
       "  <tbody>\n",
       "    <tr>\n",
       "      <th>1</th>\n",
       "      <td>Bank account or service</td>\n",
       "      <td>PRIVILEGED CONFIDENTIAL INFORMATIONDear Consum...</td>\n",
       "    </tr>\n",
       "    <tr>\n",
       "      <th>6</th>\n",
       "      <td>Mortgage</td>\n",
       "      <td>Homeowner applied 2nd modification due reset f...</td>\n",
       "    </tr>\n",
       "    <tr>\n",
       "      <th>11</th>\n",
       "      <td>Debt collection</td>\n",
       "      <td>started service cable company named account we...</td>\n",
       "    </tr>\n",
       "    <tr>\n",
       "      <th>12</th>\n",
       "      <td>Consumer Loan</td>\n",
       "      <td>went dealership told would receive rate .9 agr...</td>\n",
       "    </tr>\n",
       "    <tr>\n",
       "      <th>23</th>\n",
       "      <td>Debt collection</td>\n",
       "      <td>requested Portfolio Recovery Services PRS clai...</td>\n",
       "    </tr>\n",
       "  </tbody>\n",
       "</table>\n",
       "</div>"
      ],
      "text/plain": [
       "                    Product                       Consumer complaint narrative\n",
       "1   Bank account or service  PRIVILEGED CONFIDENTIAL INFORMATIONDear Consum...\n",
       "6                  Mortgage  Homeowner applied 2nd modification due reset f...\n",
       "11          Debt collection  started service cable company named account we...\n",
       "12            Consumer Loan  went dealership told would receive rate .9 agr...\n",
       "23          Debt collection  requested Portfolio Recovery Services PRS clai..."
      ]
     },
     "execution_count": 60,
     "metadata": {},
     "output_type": "execute_result"
    }
   ],
   "source": [
    "df_nlp2.head()"
   ]
  },
  {
   "cell_type": "code",
   "execution_count": 61,
   "metadata": {},
   "outputs": [],
   "source": [
    "# Function to generate tokens using TweetTokenizer\n",
    "def tokenize(text): \n",
    "    tk = TweetTokenizer()\n",
    "    return tk.tokenize(text)\n",
    "\n",
    "vectorizer = CountVectorizer(analyzer = 'word', tokenizer = tokenize, lowercase = True, ngram_range=(1, 1))"
   ]
  },
  {
   "cell_type": "code",
   "execution_count": 62,
   "metadata": {},
   "outputs": [
    {
     "data": {
      "text/plain": [
       "(56180, 52597)"
      ]
     },
     "execution_count": 62,
     "metadata": {},
     "output_type": "execute_result"
    }
   ],
   "source": [
    "count= vectorizer.fit_transform(df_nlp2['Consumer complaint narrative'])\n",
    "count.shape"
   ]
  },
  {
   "cell_type": "markdown",
   "metadata": {},
   "source": [
    "# Model for NLP evaluation"
   ]
  },
  {
   "cell_type": "code",
   "execution_count": 63,
   "metadata": {},
   "outputs": [],
   "source": [
    "from sklearn.naive_bayes import MultinomialNB\n",
    "from sklearn.metrics import confusion_matrix, accuracy_score, roc_auc_score\n",
    "from sklearn.ensemble import RandomForestClassifier\n"
   ]
  },
  {
   "cell_type": "code",
   "execution_count": 64,
   "metadata": {},
   "outputs": [],
   "source": [
    "# Split the data into training and testing data sets\n",
    "# Processed data as independent variable(X_nlp)\n",
    "# Polarity as dependent variable(Y_nlp)\n",
    "\n",
    "X_nlp = df_nlp2['Consumer complaint narrative'].values\n",
    "Y_nlp = df_nlp2['Product'].values\n",
    "\n",
    "X_train, X_test, y_train, y_test = train_test_split(X_nlp, Y_nlp, random_state=100, test_size=0.3)"
   ]
  },
  {
   "cell_type": "code",
   "execution_count": 65,
   "metadata": {},
   "outputs": [],
   "source": [
    "# Extract features using TFIDF Vectorizer\n",
    "vectorizer = TfidfVectorizer(max_features = 1000)\n",
    "X_train_idf = vectorizer.fit_transform(X_train)\n",
    "X_test_idf = vectorizer.transform(X_test)"
   ]
  },
  {
   "cell_type": "code",
   "execution_count": 66,
   "metadata": {},
   "outputs": [
    {
     "data": {
      "text/html": [
       "<div>\n",
       "<style scoped>\n",
       "    .dataframe tbody tr th:only-of-type {\n",
       "        vertical-align: middle;\n",
       "    }\n",
       "\n",
       "    .dataframe tbody tr th {\n",
       "        vertical-align: top;\n",
       "    }\n",
       "\n",
       "    .dataframe thead th {\n",
       "        text-align: right;\n",
       "    }\n",
       "</style>\n",
       "<table border=\"1\" class=\"dataframe\">\n",
       "  <thead>\n",
       "    <tr style=\"text-align: right;\">\n",
       "      <th></th>\n",
       "      <th>idf_weights</th>\n",
       "    </tr>\n",
       "  </thead>\n",
       "  <tbody>\n",
       "    <tr>\n",
       "      <th>sps</th>\n",
       "      <td>6.630907</td>\n",
       "    </tr>\n",
       "    <tr>\n",
       "      <th>sls</th>\n",
       "      <td>6.609853</td>\n",
       "    </tr>\n",
       "    <tr>\n",
       "      <th>usaa</th>\n",
       "      <td>6.414881</td>\n",
       "    </tr>\n",
       "    <tr>\n",
       "      <th>amex</th>\n",
       "      <td>6.359311</td>\n",
       "    </tr>\n",
       "    <tr>\n",
       "      <th>td</th>\n",
       "      <td>6.348558</td>\n",
       "    </tr>\n",
       "  </tbody>\n",
       "</table>\n",
       "</div>"
      ],
      "text/plain": [
       "      idf_weights\n",
       "sps      6.630907\n",
       "sls      6.609853\n",
       "usaa     6.414881\n",
       "amex     6.359311\n",
       "td       6.348558"
      ]
     },
     "execution_count": 66,
     "metadata": {},
     "output_type": "execute_result"
    }
   ],
   "source": [
    "# idf values\n",
    "df_idf = pd.DataFrame(vectorizer.idf_, index=vectorizer.get_feature_names(), columns=[\"idf_weights\"])\n",
    "# Sort ascending\n",
    "df_idf.sort_values(by=['idf_weights'],ascending = False).head()"
   ]
  },
  {
   "cell_type": "code",
   "execution_count": 67,
   "metadata": {},
   "outputs": [
    {
     "data": {
      "text/html": [
       "<div>\n",
       "<style scoped>\n",
       "    .dataframe tbody tr th:only-of-type {\n",
       "        vertical-align: middle;\n",
       "    }\n",
       "\n",
       "    .dataframe tbody tr th {\n",
       "        vertical-align: top;\n",
       "    }\n",
       "\n",
       "    .dataframe thead th {\n",
       "        text-align: right;\n",
       "    }\n",
       "</style>\n",
       "<table border=\"1\" class=\"dataframe\">\n",
       "  <thead>\n",
       "    <tr style=\"text-align: right;\">\n",
       "      <th></th>\n",
       "      <th>Model</th>\n",
       "      <th>Accuracy</th>\n",
       "    </tr>\n",
       "  </thead>\n",
       "  <tbody>\n",
       "    <tr>\n",
       "      <th>0</th>\n",
       "      <td>Multinomial Naive Bayes</td>\n",
       "      <td>0.785333</td>\n",
       "    </tr>\n",
       "  </tbody>\n",
       "</table>\n",
       "</div>"
      ],
      "text/plain": [
       "                     Model  Accuracy\n",
       "0  Multinomial Naive Bayes  0.785333"
      ]
     },
     "execution_count": 67,
     "metadata": {},
     "output_type": "execute_result"
    }
   ],
   "source": [
    "# Perform Multinomial Naive Bayes Classification\n",
    "mnb = MultinomialNB()\n",
    "mnb.fit(X_train_idf, y_train)\n",
    "\n",
    "# Predict polarity by fitting the model to testing data\n",
    "pred_mnb = mnb.predict(X_test_idf)\n",
    "\n",
    "# Calculate accuracy of predicted values\n",
    "acc_mnb = accuracy_score(y_test, pred_mnb)\n",
    "\n",
    "results = pd.DataFrame([['Multinomial Naive Bayes', acc_mnb]], columns = ['Model', 'Accuracy'])\n",
    "results"
   ]
  },
  {
   "cell_type": "code",
   "execution_count": 68,
   "metadata": {},
   "outputs": [
    {
     "data": {
      "text/html": [
       "<div>\n",
       "<style scoped>\n",
       "    .dataframe tbody tr th:only-of-type {\n",
       "        vertical-align: middle;\n",
       "    }\n",
       "\n",
       "    .dataframe tbody tr th {\n",
       "        vertical-align: top;\n",
       "    }\n",
       "\n",
       "    .dataframe thead th {\n",
       "        text-align: right;\n",
       "    }\n",
       "</style>\n",
       "<table border=\"1\" class=\"dataframe\">\n",
       "  <thead>\n",
       "    <tr style=\"text-align: right;\">\n",
       "      <th></th>\n",
       "      <th>Model</th>\n",
       "      <th>Accuracy</th>\n",
       "    </tr>\n",
       "  </thead>\n",
       "  <tbody>\n",
       "    <tr>\n",
       "      <th>0</th>\n",
       "      <td>Multinomial Naive Bayes</td>\n",
       "      <td>0.785333</td>\n",
       "    </tr>\n",
       "    <tr>\n",
       "      <th>1</th>\n",
       "      <td>Random Forest(Entropy)</td>\n",
       "      <td>0.812270</td>\n",
       "    </tr>\n",
       "  </tbody>\n",
       "</table>\n",
       "</div>"
      ],
      "text/plain": [
       "                     Model  Accuracy\n",
       "0  Multinomial Naive Bayes  0.785333\n",
       "1   Random Forest(Entropy)  0.812270"
      ]
     },
     "execution_count": 68,
     "metadata": {},
     "output_type": "execute_result"
    }
   ],
   "source": [
    "# Perform Random Forest classification on the processed data and compare the accuracy score of both these models\n",
    "# Random Forest Classifier with 'entropy'\n",
    "\n",
    "clf_rf = RandomForestClassifier(criterion='entropy', n_estimators = 500)\n",
    "clf_rf.fit(X_train_idf, y_train)\n",
    "\n",
    "# Predict using testing data\n",
    "y_pred_rf = clf_rf.predict(X_test_idf)\n",
    "\n",
    "# Calculate accuracy\n",
    "acc = accuracy_score(y_test, y_pred_rf)\n",
    "\n",
    "model_results = pd.DataFrame([['Random Forest(Entropy)', acc]], columns = ['Model', 'Accuracy'])\n",
    "results = results.append(model_results, ignore_index = True)\n",
    "results"
   ]
  },
  {
   "cell_type": "code",
   "execution_count": 69,
   "metadata": {},
   "outputs": [
    {
     "name": "stdout",
     "output_type": "stream",
     "text": [
      "                     Model  Accuracy\n",
      "0  Multinomial Naive Bayes  0.785333\n",
      "1   Random Forest(Entropy)  0.812270\n",
      "2      Random Forest(Gini)  0.822297\n"
     ]
    }
   ],
   "source": [
    "# Random Forest Classifier with 'gini'\n",
    "clf_rf = RandomForestClassifier(n_estimators = 500)\n",
    "clf_rf.fit(X_train_idf, y_train)\n",
    "\n",
    "# Predict using testing data\n",
    "y_pred_rf = clf_rf.predict(X_test_idf)\n",
    "\n",
    "# Calculate accuracy\n",
    "acc = accuracy_score(y_test, y_pred_rf)\n",
    "\n",
    "model_results = pd.DataFrame([['Random Forest(Gini)', acc]], columns = ['Model', 'Accuracy'])\n",
    "\n",
    "results = results.append(model_results, ignore_index = True)\n",
    "print(results)"
   ]
  },
  {
   "cell_type": "code",
   "execution_count": 70,
   "metadata": {},
   "outputs": [
    {
     "data": {
      "text/html": [
       "<div>\n",
       "<style scoped>\n",
       "    .dataframe tbody tr th:only-of-type {\n",
       "        vertical-align: middle;\n",
       "    }\n",
       "\n",
       "    .dataframe tbody tr th {\n",
       "        vertical-align: top;\n",
       "    }\n",
       "\n",
       "    .dataframe thead th {\n",
       "        text-align: right;\n",
       "    }\n",
       "</style>\n",
       "<table border=\"1\" class=\"dataframe\">\n",
       "  <thead>\n",
       "    <tr style=\"text-align: right;\">\n",
       "      <th></th>\n",
       "      <th>Model</th>\n",
       "      <th>Accuracy</th>\n",
       "    </tr>\n",
       "  </thead>\n",
       "  <tbody>\n",
       "    <tr>\n",
       "      <th>0</th>\n",
       "      <td>Multinomial Naive Bayes</td>\n",
       "      <td>0.785333</td>\n",
       "    </tr>\n",
       "    <tr>\n",
       "      <th>1</th>\n",
       "      <td>Random Forest(Entropy)</td>\n",
       "      <td>0.812270</td>\n",
       "    </tr>\n",
       "    <tr>\n",
       "      <th>2</th>\n",
       "      <td>Random Forest(Gini)</td>\n",
       "      <td>0.822297</td>\n",
       "    </tr>\n",
       "    <tr>\n",
       "      <th>3</th>\n",
       "      <td>LogisticRegression</td>\n",
       "      <td>0.827281</td>\n",
       "    </tr>\n",
       "  </tbody>\n",
       "</table>\n",
       "</div>"
      ],
      "text/plain": [
       "                     Model  Accuracy\n",
       "0  Multinomial Naive Bayes  0.785333\n",
       "1   Random Forest(Entropy)  0.812270\n",
       "2      Random Forest(Gini)  0.822297\n",
       "3       LogisticRegression  0.827281"
      ]
     },
     "execution_count": 70,
     "metadata": {},
     "output_type": "execute_result"
    }
   ],
   "source": [
    "from sklearn.linear_model import LogisticRegression\n",
    "clf_rf = LogisticRegression(max_iter = 1000)\n",
    "clf_rf.fit(X_train_idf, y_train)\n",
    "\n",
    "# Predict using testing data\n",
    "y_pred_rf = clf_rf.predict(X_test_idf)\n",
    "\n",
    "# Calculate accuracy\n",
    "acc = accuracy_score(y_test, y_pred_rf)\n",
    "\n",
    "model_results = pd.DataFrame([['LogisticRegression', acc]], columns = ['Model', 'Accuracy'])\n",
    "\n",
    "results = results.append(model_results, ignore_index = True)\n",
    "results"
   ]
  },
  {
   "cell_type": "code",
   "execution_count": 71,
   "metadata": {},
   "outputs": [
    {
     "data": {
      "text/html": [
       "<div>\n",
       "<style scoped>\n",
       "    .dataframe tbody tr th:only-of-type {\n",
       "        vertical-align: middle;\n",
       "    }\n",
       "\n",
       "    .dataframe tbody tr th {\n",
       "        vertical-align: top;\n",
       "    }\n",
       "\n",
       "    .dataframe thead th {\n",
       "        text-align: right;\n",
       "    }\n",
       "</style>\n",
       "<table border=\"1\" class=\"dataframe\">\n",
       "  <thead>\n",
       "    <tr style=\"text-align: right;\">\n",
       "      <th></th>\n",
       "      <th>Model</th>\n",
       "      <th>Accuracy</th>\n",
       "    </tr>\n",
       "  </thead>\n",
       "  <tbody>\n",
       "    <tr>\n",
       "      <th>0</th>\n",
       "      <td>Multinomial Naive Bayes</td>\n",
       "      <td>0.785333</td>\n",
       "    </tr>\n",
       "    <tr>\n",
       "      <th>1</th>\n",
       "      <td>Random Forest(Entropy)</td>\n",
       "      <td>0.812270</td>\n",
       "    </tr>\n",
       "    <tr>\n",
       "      <th>2</th>\n",
       "      <td>Random Forest(Gini)</td>\n",
       "      <td>0.822297</td>\n",
       "    </tr>\n",
       "    <tr>\n",
       "      <th>3</th>\n",
       "      <td>LogisticRegression</td>\n",
       "      <td>0.827281</td>\n",
       "    </tr>\n",
       "    <tr>\n",
       "      <th>4</th>\n",
       "      <td>DecisionTreeClassifier</td>\n",
       "      <td>0.716506</td>\n",
       "    </tr>\n",
       "  </tbody>\n",
       "</table>\n",
       "</div>"
      ],
      "text/plain": [
       "                     Model  Accuracy\n",
       "0  Multinomial Naive Bayes  0.785333\n",
       "1   Random Forest(Entropy)  0.812270\n",
       "2      Random Forest(Gini)  0.822297\n",
       "3       LogisticRegression  0.827281\n",
       "4   DecisionTreeClassifier  0.716506"
      ]
     },
     "execution_count": 71,
     "metadata": {},
     "output_type": "execute_result"
    }
   ],
   "source": [
    "from sklearn.tree import DecisionTreeClassifier\n",
    "clf_rf = DecisionTreeClassifier()\n",
    "clf_rf.fit(X_train_idf, y_train)\n",
    "\n",
    "# Predict using testing data\n",
    "y_pred_rf = clf_rf.predict(X_test_idf)\n",
    "\n",
    "# Calculate accuracy\n",
    "acc = accuracy_score(y_test, y_pred_rf)\n",
    "\n",
    "model_results = pd.DataFrame([['DecisionTreeClassifier', acc]], columns = ['Model', 'Accuracy'])\n",
    "\n",
    "results = results.append(model_results, ignore_index = True)\n",
    "results"
   ]
  },
  {
   "cell_type": "code",
   "execution_count": 72,
   "metadata": {},
   "outputs": [
    {
     "data": {
      "text/plain": [
       "3    LogisticRegression\n",
       "Name: Model, dtype: object"
      ]
     },
     "execution_count": 72,
     "metadata": {},
     "output_type": "execute_result"
    }
   ],
   "source": [
    "# this will tell exactly which model to use that has max accuracy score\n",
    "\n",
    "max_acc = max(np.array(results['Accuracy']).tolist())\n",
    "model_selected = results[results['Accuracy'] == max_acc]['Model']\n",
    "model_selected"
   ]
  },
  {
   "cell_type": "markdown",
   "metadata": {},
   "source": [
    "# Encoding of the main data set"
   ]
  },
  {
   "cell_type": "code",
   "execution_count": 52,
   "metadata": {},
   "outputs": [],
   "source": [
    "from sklearn.preprocessing import LabelEncoder\n"
   ]
  },
  {
   "cell_type": "code",
   "execution_count": 46,
   "metadata": {},
   "outputs": [
    {
     "data": {
      "text/html": [
       "<div>\n",
       "<style scoped>\n",
       "    .dataframe tbody tr th:only-of-type {\n",
       "        vertical-align: middle;\n",
       "    }\n",
       "\n",
       "    .dataframe tbody tr th {\n",
       "        vertical-align: top;\n",
       "    }\n",
       "\n",
       "    .dataframe thead th {\n",
       "        text-align: right;\n",
       "    }\n",
       "</style>\n",
       "<table border=\"1\" class=\"dataframe\">\n",
       "  <thead>\n",
       "    <tr style=\"text-align: right;\">\n",
       "      <th></th>\n",
       "      <th>Product</th>\n",
       "      <th>Sub-product</th>\n",
       "      <th>Issue</th>\n",
       "      <th>Company</th>\n",
       "      <th>State</th>\n",
       "      <th>Submitted via</th>\n",
       "      <th>Company response to consumer</th>\n",
       "      <th>Timely response?</th>\n",
       "      <th>Consumer disputed?</th>\n",
       "      <th>Month_received</th>\n",
       "      <th>Year_received</th>\n",
       "      <th>Day_received</th>\n",
       "      <th>Month_sent_on</th>\n",
       "      <th>Year_sent_on</th>\n",
       "      <th>Day_sent_on</th>\n",
       "      <th>Region</th>\n",
       "    </tr>\n",
       "  </thead>\n",
       "  <tbody>\n",
       "    <tr>\n",
       "      <td>0</td>\n",
       "      <td>Credit reporting</td>\n",
       "      <td>Credit card</td>\n",
       "      <td>Incorrect information on credit report</td>\n",
       "      <td>Equifax</td>\n",
       "      <td>GA</td>\n",
       "      <td>Web</td>\n",
       "      <td>Closed with explanation</td>\n",
       "      <td>Yes</td>\n",
       "      <td>No</td>\n",
       "      <td>10</td>\n",
       "      <td>2015</td>\n",
       "      <td>14</td>\n",
       "      <td>10</td>\n",
       "      <td>2015</td>\n",
       "      <td>14</td>\n",
       "      <td>Equifax_GA</td>\n",
       "    </tr>\n",
       "    <tr>\n",
       "      <td>1</td>\n",
       "      <td>Bank account or service</td>\n",
       "      <td>Other bank product/service</td>\n",
       "      <td>Deposits and withdrawals</td>\n",
       "      <td>Wells Fargo &amp; Company</td>\n",
       "      <td>GA</td>\n",
       "      <td>Web</td>\n",
       "      <td>Closed with explanation</td>\n",
       "      <td>Yes</td>\n",
       "      <td>Yes</td>\n",
       "      <td>4</td>\n",
       "      <td>2015</td>\n",
       "      <td>26</td>\n",
       "      <td>4</td>\n",
       "      <td>2015</td>\n",
       "      <td>26</td>\n",
       "      <td>Wells Fargo &amp; Company_GA</td>\n",
       "    </tr>\n",
       "    <tr>\n",
       "      <td>2</td>\n",
       "      <td>Credit card</td>\n",
       "      <td>Credit card</td>\n",
       "      <td>Other</td>\n",
       "      <td>Citibank</td>\n",
       "      <td>SC</td>\n",
       "      <td>Phone</td>\n",
       "      <td>Closed with non-monetary relief</td>\n",
       "      <td>Yes</td>\n",
       "      <td>No</td>\n",
       "      <td>12</td>\n",
       "      <td>2013</td>\n",
       "      <td>3</td>\n",
       "      <td>1</td>\n",
       "      <td>2014</td>\n",
       "      <td>3</td>\n",
       "      <td>Citibank_SC</td>\n",
       "    </tr>\n",
       "    <tr>\n",
       "      <td>3</td>\n",
       "      <td>Debt collection</td>\n",
       "      <td>Other (i.e. phone, health club, etc.)</td>\n",
       "      <td>Disclosure verification of debt</td>\n",
       "      <td>FAIR COLLECTIONS &amp; OUTSOURCING, INC.</td>\n",
       "      <td>OH</td>\n",
       "      <td>Referral</td>\n",
       "      <td>Closed with explanation</td>\n",
       "      <td>Yes</td>\n",
       "      <td>No</td>\n",
       "      <td>3</td>\n",
       "      <td>2016</td>\n",
       "      <td>4</td>\n",
       "      <td>3</td>\n",
       "      <td>2016</td>\n",
       "      <td>4</td>\n",
       "      <td>FAIR COLLECTIONS &amp; OUTSOURCING, INC._OH</td>\n",
       "    </tr>\n",
       "    <tr>\n",
       "      <td>4</td>\n",
       "      <td>Debt collection</td>\n",
       "      <td>Medical</td>\n",
       "      <td>Disclosure verification of debt</td>\n",
       "      <td>HCFS Health Care Financial Services, Inc.</td>\n",
       "      <td>CA</td>\n",
       "      <td>Web</td>\n",
       "      <td>Closed with explanation</td>\n",
       "      <td>Yes</td>\n",
       "      <td>Yes</td>\n",
       "      <td>1</td>\n",
       "      <td>2015</td>\n",
       "      <td>30</td>\n",
       "      <td>1</td>\n",
       "      <td>2015</td>\n",
       "      <td>30</td>\n",
       "      <td>HCFS Health Care Financial Services, Inc._CA</td>\n",
       "    </tr>\n",
       "  </tbody>\n",
       "</table>\n",
       "</div>"
      ],
      "text/plain": [
       "                   Product                            Sub-product  \\\n",
       "0         Credit reporting                            Credit card   \n",
       "1  Bank account or service             Other bank product/service   \n",
       "2              Credit card                            Credit card   \n",
       "3          Debt collection  Other (i.e. phone, health club, etc.)   \n",
       "4          Debt collection                                Medical   \n",
       "\n",
       "                                    Issue  \\\n",
       "0  Incorrect information on credit report   \n",
       "1                Deposits and withdrawals   \n",
       "2                                   Other   \n",
       "3         Disclosure verification of debt   \n",
       "4         Disclosure verification of debt   \n",
       "\n",
       "                                     Company State Submitted via  \\\n",
       "0                                    Equifax    GA           Web   \n",
       "1                      Wells Fargo & Company    GA           Web   \n",
       "2                                   Citibank    SC         Phone   \n",
       "3       FAIR COLLECTIONS & OUTSOURCING, INC.    OH      Referral   \n",
       "4  HCFS Health Care Financial Services, Inc.    CA           Web   \n",
       "\n",
       "      Company response to consumer Timely response? Consumer disputed?  \\\n",
       "0          Closed with explanation              Yes                 No   \n",
       "1          Closed with explanation              Yes                Yes   \n",
       "2  Closed with non-monetary relief              Yes                 No   \n",
       "3          Closed with explanation              Yes                 No   \n",
       "4          Closed with explanation              Yes                Yes   \n",
       "\n",
       "   Month_received  Year_received  Day_received  Month_sent_on  Year_sent_on  \\\n",
       "0              10           2015            14             10          2015   \n",
       "1               4           2015            26              4          2015   \n",
       "2              12           2013             3              1          2014   \n",
       "3               3           2016             4              3          2016   \n",
       "4               1           2015            30              1          2015   \n",
       "\n",
       "   Day_sent_on                                        Region  \n",
       "0           14                                    Equifax_GA  \n",
       "1           26                      Wells Fargo & Company_GA  \n",
       "2            3                                   Citibank_SC  \n",
       "3            4       FAIR COLLECTIONS & OUTSOURCING, INC._OH  \n",
       "4           30  HCFS Health Care Financial Services, Inc._CA  "
      ]
     },
     "execution_count": 46,
     "metadata": {},
     "output_type": "execute_result"
    }
   ],
   "source": [
    "encoded_df = df_na.copy()\n",
    "encoded_df.drop(['Date received'], axis = 1, inplace = True)\n",
    "encoded_df.drop(['Date sent to company'], axis = 1, inplace = True)\n",
    "encoded_df.head()"
   ]
  },
  {
   "cell_type": "code",
   "execution_count": 22,
   "metadata": {},
   "outputs": [
    {
     "data": {
      "text/html": [
       "<div>\n",
       "<style scoped>\n",
       "    .dataframe tbody tr th:only-of-type {\n",
       "        vertical-align: middle;\n",
       "    }\n",
       "\n",
       "    .dataframe tbody tr th {\n",
       "        vertical-align: top;\n",
       "    }\n",
       "\n",
       "    .dataframe thead th {\n",
       "        text-align: right;\n",
       "    }\n",
       "</style>\n",
       "<table border=\"1\" class=\"dataframe\">\n",
       "  <thead>\n",
       "    <tr style=\"text-align: right;\">\n",
       "      <th></th>\n",
       "      <th>Product</th>\n",
       "      <th>Sub-product</th>\n",
       "      <th>Issue</th>\n",
       "      <th>Company</th>\n",
       "      <th>State</th>\n",
       "      <th>Submitted via</th>\n",
       "      <th>Company response to consumer</th>\n",
       "      <th>Timely response?</th>\n",
       "      <th>Consumer disputed?</th>\n",
       "      <th>Month_received</th>\n",
       "      <th>Year_received</th>\n",
       "      <th>Day_received</th>\n",
       "      <th>Month_sent_on</th>\n",
       "      <th>Year_sent_on</th>\n",
       "      <th>Day_sent_on</th>\n",
       "      <th>Region</th>\n",
       "    </tr>\n",
       "  </thead>\n",
       "  <tbody>\n",
       "    <tr>\n",
       "      <th>0</th>\n",
       "      <td>3</td>\n",
       "      <td>7</td>\n",
       "      <td>52</td>\n",
       "      <td>998</td>\n",
       "      <td>15</td>\n",
       "      <td>5</td>\n",
       "      <td>1</td>\n",
       "      <td>1</td>\n",
       "      <td>0</td>\n",
       "      <td>10</td>\n",
       "      <td>2015</td>\n",
       "      <td>14</td>\n",
       "      <td>10</td>\n",
       "      <td>2015</td>\n",
       "      <td>14</td>\n",
       "      <td>7568</td>\n",
       "    </tr>\n",
       "    <tr>\n",
       "      <th>1</th>\n",
       "      <td>0</td>\n",
       "      <td>30</td>\n",
       "      <td>39</td>\n",
       "      <td>2986</td>\n",
       "      <td>15</td>\n",
       "      <td>5</td>\n",
       "      <td>1</td>\n",
       "      <td>1</td>\n",
       "      <td>1</td>\n",
       "      <td>4</td>\n",
       "      <td>2015</td>\n",
       "      <td>26</td>\n",
       "      <td>4</td>\n",
       "      <td>2015</td>\n",
       "      <td>26</td>\n",
       "      <td>22044</td>\n",
       "    </tr>\n",
       "    <tr>\n",
       "      <th>2</th>\n",
       "      <td>2</td>\n",
       "      <td>7</td>\n",
       "      <td>68</td>\n",
       "      <td>623</td>\n",
       "      <td>50</td>\n",
       "      <td>2</td>\n",
       "      <td>3</td>\n",
       "      <td>1</td>\n",
       "      <td>0</td>\n",
       "      <td>12</td>\n",
       "      <td>2013</td>\n",
       "      <td>3</td>\n",
       "      <td>1</td>\n",
       "      <td>2014</td>\n",
       "      <td>3</td>\n",
       "      <td>4565</td>\n",
       "    </tr>\n",
       "    <tr>\n",
       "      <th>3</th>\n",
       "      <td>4</td>\n",
       "      <td>29</td>\n",
       "      <td>40</td>\n",
       "      <td>1031</td>\n",
       "      <td>43</td>\n",
       "      <td>4</td>\n",
       "      <td>1</td>\n",
       "      <td>1</td>\n",
       "      <td>0</td>\n",
       "      <td>3</td>\n",
       "      <td>2016</td>\n",
       "      <td>4</td>\n",
       "      <td>3</td>\n",
       "      <td>2016</td>\n",
       "      <td>4</td>\n",
       "      <td>7946</td>\n",
       "    </tr>\n",
       "    <tr>\n",
       "      <th>4</th>\n",
       "      <td>4</td>\n",
       "      <td>24</td>\n",
       "      <td>40</td>\n",
       "      <td>1320</td>\n",
       "      <td>8</td>\n",
       "      <td>5</td>\n",
       "      <td>1</td>\n",
       "      <td>1</td>\n",
       "      <td>1</td>\n",
       "      <td>1</td>\n",
       "      <td>2015</td>\n",
       "      <td>30</td>\n",
       "      <td>1</td>\n",
       "      <td>2015</td>\n",
       "      <td>30</td>\n",
       "      <td>10357</td>\n",
       "    </tr>\n",
       "  </tbody>\n",
       "</table>\n",
       "</div>"
      ],
      "text/plain": [
       "   Product  Sub-product  Issue  Company  State  Submitted via  \\\n",
       "0        3            7     52      998     15              5   \n",
       "1        0           30     39     2986     15              5   \n",
       "2        2            7     68      623     50              2   \n",
       "3        4           29     40     1031     43              4   \n",
       "4        4           24     40     1320      8              5   \n",
       "\n",
       "   Company response to consumer  Timely response?  Consumer disputed?  \\\n",
       "0                             1                 1                   0   \n",
       "1                             1                 1                   1   \n",
       "2                             3                 1                   0   \n",
       "3                             1                 1                   0   \n",
       "4                             1                 1                   1   \n",
       "\n",
       "   Month_received  Year_received  Day_received  Month_sent_on  Year_sent_on  \\\n",
       "0              10           2015            14             10          2015   \n",
       "1               4           2015            26              4          2015   \n",
       "2              12           2013             3              1          2014   \n",
       "3               3           2016             4              3          2016   \n",
       "4               1           2015            30              1          2015   \n",
       "\n",
       "   Day_sent_on  Region  \n",
       "0           14    7568  \n",
       "1           26   22044  \n",
       "2            3    4565  \n",
       "3            4    7946  \n",
       "4           30   10357  "
      ]
     },
     "execution_count": 22,
     "metadata": {},
     "output_type": "execute_result"
    }
   ],
   "source": [
    "le = LabelEncoder()\n",
    "for i in range(0,encoded_df.shape[1]):\n",
    "    if encoded_df.dtypes[i] == 'object':\n",
    "        encoded_df[encoded_df.columns[i]] = le.fit_transform(encoded_df[encoded_df.columns[i]])\n",
    "encoded_df.head()"
   ]
  },
  {
   "cell_type": "code",
   "execution_count": 46,
   "metadata": {},
   "outputs": [
    {
     "data": {
      "text/html": [
       "<div>\n",
       "<style scoped>\n",
       "    .dataframe tbody tr th:only-of-type {\n",
       "        vertical-align: middle;\n",
       "    }\n",
       "\n",
       "    .dataframe tbody tr th {\n",
       "        vertical-align: top;\n",
       "    }\n",
       "\n",
       "    .dataframe thead th {\n",
       "        text-align: right;\n",
       "    }\n",
       "</style>\n",
       "<table border=\"1\" class=\"dataframe\">\n",
       "  <thead>\n",
       "    <tr style=\"text-align: right;\">\n",
       "      <th></th>\n",
       "      <th>Unnamed: 0</th>\n",
       "      <th>Product</th>\n",
       "      <th>Sub-product</th>\n",
       "      <th>Issue</th>\n",
       "      <th>Company</th>\n",
       "      <th>State</th>\n",
       "      <th>Submitted via</th>\n",
       "      <th>Company response to consumer</th>\n",
       "      <th>Timely response?</th>\n",
       "      <th>Consumer disputed?</th>\n",
       "      <th>Month_received</th>\n",
       "      <th>Year_received</th>\n",
       "      <th>Day_received</th>\n",
       "      <th>Month_sent_on</th>\n",
       "      <th>Year_sent_on</th>\n",
       "      <th>Day_sent_on</th>\n",
       "      <th>Region</th>\n",
       "    </tr>\n",
       "  </thead>\n",
       "  <tbody>\n",
       "    <tr>\n",
       "      <th>Unnamed: 0</th>\n",
       "      <td>1.000000</td>\n",
       "      <td>0.000544</td>\n",
       "      <td>-0.001231</td>\n",
       "      <td>-0.000420</td>\n",
       "      <td>0.003307</td>\n",
       "      <td>0.002970</td>\n",
       "      <td>-0.002005</td>\n",
       "      <td>0.000442</td>\n",
       "      <td>0.000826</td>\n",
       "      <td>-0.001381</td>\n",
       "      <td>0.000018</td>\n",
       "      <td>-0.002713</td>\n",
       "      <td>-0.003863</td>\n",
       "      <td>0.000163</td>\n",
       "      <td>-0.002661</td>\n",
       "      <td>-0.003863</td>\n",
       "      <td>0.003159</td>\n",
       "    </tr>\n",
       "    <tr>\n",
       "      <th>Product</th>\n",
       "      <td>0.000544</td>\n",
       "      <td>1.000000</td>\n",
       "      <td>0.262109</td>\n",
       "      <td>0.195858</td>\n",
       "      <td>0.040337</td>\n",
       "      <td>-0.030400</td>\n",
       "      <td>0.058314</td>\n",
       "      <td>-0.072898</td>\n",
       "      <td>-0.022009</td>\n",
       "      <td>0.021577</td>\n",
       "      <td>-0.017089</td>\n",
       "      <td>-0.054019</td>\n",
       "      <td>0.003328</td>\n",
       "      <td>-0.011200</td>\n",
       "      <td>-0.054156</td>\n",
       "      <td>0.003328</td>\n",
       "      <td>0.036244</td>\n",
       "    </tr>\n",
       "    <tr>\n",
       "      <th>Sub-product</th>\n",
       "      <td>-0.001231</td>\n",
       "      <td>0.262109</td>\n",
       "      <td>1.000000</td>\n",
       "      <td>0.074969</td>\n",
       "      <td>0.022883</td>\n",
       "      <td>-0.007722</td>\n",
       "      <td>-0.098859</td>\n",
       "      <td>-0.090667</td>\n",
       "      <td>-0.059410</td>\n",
       "      <td>-0.004046</td>\n",
       "      <td>-0.002658</td>\n",
       "      <td>-0.007813</td>\n",
       "      <td>0.000668</td>\n",
       "      <td>-0.003323</td>\n",
       "      <td>-0.007279</td>\n",
       "      <td>0.000668</td>\n",
       "      <td>0.020389</td>\n",
       "    </tr>\n",
       "    <tr>\n",
       "      <th>Issue</th>\n",
       "      <td>-0.000420</td>\n",
       "      <td>0.195858</td>\n",
       "      <td>0.074969</td>\n",
       "      <td>1.000000</td>\n",
       "      <td>0.046633</td>\n",
       "      <td>-0.013400</td>\n",
       "      <td>0.011935</td>\n",
       "      <td>-0.005492</td>\n",
       "      <td>0.019934</td>\n",
       "      <td>0.000467</td>\n",
       "      <td>-0.002536</td>\n",
       "      <td>-0.043609</td>\n",
       "      <td>0.000563</td>\n",
       "      <td>0.000535</td>\n",
       "      <td>-0.043452</td>\n",
       "      <td>0.000563</td>\n",
       "      <td>0.046393</td>\n",
       "    </tr>\n",
       "    <tr>\n",
       "      <th>Company</th>\n",
       "      <td>0.003307</td>\n",
       "      <td>0.040337</td>\n",
       "      <td>0.022883</td>\n",
       "      <td>0.046633</td>\n",
       "      <td>1.000000</td>\n",
       "      <td>-0.002750</td>\n",
       "      <td>-0.018400</td>\n",
       "      <td>-0.067946</td>\n",
       "      <td>-0.003330</td>\n",
       "      <td>0.000213</td>\n",
       "      <td>0.008050</td>\n",
       "      <td>0.039082</td>\n",
       "      <td>-0.003655</td>\n",
       "      <td>0.001631</td>\n",
       "      <td>0.039374</td>\n",
       "      <td>-0.003655</td>\n",
       "      <td>0.999481</td>\n",
       "    </tr>\n",
       "    <tr>\n",
       "      <th>State</th>\n",
       "      <td>0.002970</td>\n",
       "      <td>-0.030400</td>\n",
       "      <td>-0.007722</td>\n",
       "      <td>-0.013400</td>\n",
       "      <td>-0.002750</td>\n",
       "      <td>1.000000</td>\n",
       "      <td>0.014954</td>\n",
       "      <td>0.004991</td>\n",
       "      <td>-0.000537</td>\n",
       "      <td>-0.007877</td>\n",
       "      <td>0.002855</td>\n",
       "      <td>0.024127</td>\n",
       "      <td>-0.000462</td>\n",
       "      <td>0.000314</td>\n",
       "      <td>0.024308</td>\n",
       "      <td>-0.000462</td>\n",
       "      <td>-0.000197</td>\n",
       "    </tr>\n",
       "    <tr>\n",
       "      <th>Submitted via</th>\n",
       "      <td>-0.002005</td>\n",
       "      <td>0.058314</td>\n",
       "      <td>-0.098859</td>\n",
       "      <td>0.011935</td>\n",
       "      <td>-0.018400</td>\n",
       "      <td>0.014954</td>\n",
       "      <td>1.000000</td>\n",
       "      <td>-0.002197</td>\n",
       "      <td>-0.011312</td>\n",
       "      <td>0.058920</td>\n",
       "      <td>-0.008005</td>\n",
       "      <td>0.116334</td>\n",
       "      <td>0.009981</td>\n",
       "      <td>-0.006305</td>\n",
       "      <td>0.113379</td>\n",
       "      <td>0.009981</td>\n",
       "      <td>-0.018790</td>\n",
       "    </tr>\n",
       "    <tr>\n",
       "      <th>Company response to consumer</th>\n",
       "      <td>0.000442</td>\n",
       "      <td>-0.072898</td>\n",
       "      <td>-0.090667</td>\n",
       "      <td>-0.005492</td>\n",
       "      <td>-0.067946</td>\n",
       "      <td>0.004991</td>\n",
       "      <td>-0.002197</td>\n",
       "      <td>1.000000</td>\n",
       "      <td>0.016207</td>\n",
       "      <td>-0.058281</td>\n",
       "      <td>-0.088352</td>\n",
       "      <td>-0.264271</td>\n",
       "      <td>-0.007202</td>\n",
       "      <td>-0.087970</td>\n",
       "      <td>-0.265156</td>\n",
       "      <td>-0.007202</td>\n",
       "      <td>-0.066976</td>\n",
       "    </tr>\n",
       "    <tr>\n",
       "      <th>Timely response?</th>\n",
       "      <td>0.000826</td>\n",
       "      <td>-0.022009</td>\n",
       "      <td>-0.059410</td>\n",
       "      <td>0.019934</td>\n",
       "      <td>-0.003330</td>\n",
       "      <td>-0.000537</td>\n",
       "      <td>-0.011312</td>\n",
       "      <td>0.016207</td>\n",
       "      <td>1.000000</td>\n",
       "      <td>0.003859</td>\n",
       "      <td>-0.001757</td>\n",
       "      <td>-0.011960</td>\n",
       "      <td>-0.002224</td>\n",
       "      <td>-0.001695</td>\n",
       "      <td>-0.012349</td>\n",
       "      <td>-0.002224</td>\n",
       "      <td>-0.002965</td>\n",
       "    </tr>\n",
       "    <tr>\n",
       "      <th>Consumer disputed?</th>\n",
       "      <td>-0.001381</td>\n",
       "      <td>0.021577</td>\n",
       "      <td>-0.004046</td>\n",
       "      <td>0.000467</td>\n",
       "      <td>0.000213</td>\n",
       "      <td>-0.007877</td>\n",
       "      <td>0.058920</td>\n",
       "      <td>-0.058281</td>\n",
       "      <td>0.003859</td>\n",
       "      <td>1.000000</td>\n",
       "      <td>0.011938</td>\n",
       "      <td>0.001363</td>\n",
       "      <td>0.001137</td>\n",
       "      <td>0.009745</td>\n",
       "      <td>0.000883</td>\n",
       "      <td>0.001137</td>\n",
       "      <td>-0.000055</td>\n",
       "    </tr>\n",
       "    <tr>\n",
       "      <th>Month_received</th>\n",
       "      <td>0.000018</td>\n",
       "      <td>-0.017089</td>\n",
       "      <td>-0.002658</td>\n",
       "      <td>-0.002536</td>\n",
       "      <td>0.008050</td>\n",
       "      <td>0.002855</td>\n",
       "      <td>-0.008005</td>\n",
       "      <td>-0.088352</td>\n",
       "      <td>-0.001757</td>\n",
       "      <td>0.011938</td>\n",
       "      <td>1.000000</td>\n",
       "      <td>-0.224619</td>\n",
       "      <td>-0.010133</td>\n",
       "      <td>0.943786</td>\n",
       "      <td>-0.213614</td>\n",
       "      <td>-0.010133</td>\n",
       "      <td>0.007996</td>\n",
       "    </tr>\n",
       "    <tr>\n",
       "      <th>Year_received</th>\n",
       "      <td>-0.002713</td>\n",
       "      <td>-0.054019</td>\n",
       "      <td>-0.007813</td>\n",
       "      <td>-0.043609</td>\n",
       "      <td>0.039082</td>\n",
       "      <td>0.024127</td>\n",
       "      <td>0.116334</td>\n",
       "      <td>-0.264271</td>\n",
       "      <td>-0.011960</td>\n",
       "      <td>0.001363</td>\n",
       "      <td>-0.224619</td>\n",
       "      <td>1.000000</td>\n",
       "      <td>-0.021147</td>\n",
       "      <td>-0.222187</td>\n",
       "      <td>0.997235</td>\n",
       "      <td>-0.021147</td>\n",
       "      <td>0.039162</td>\n",
       "    </tr>\n",
       "    <tr>\n",
       "      <th>Day_received</th>\n",
       "      <td>-0.003863</td>\n",
       "      <td>0.003328</td>\n",
       "      <td>0.000668</td>\n",
       "      <td>0.000563</td>\n",
       "      <td>-0.003655</td>\n",
       "      <td>-0.000462</td>\n",
       "      <td>0.009981</td>\n",
       "      <td>-0.007202</td>\n",
       "      <td>-0.002224</td>\n",
       "      <td>0.001137</td>\n",
       "      <td>-0.010133</td>\n",
       "      <td>-0.021147</td>\n",
       "      <td>1.000000</td>\n",
       "      <td>-0.016082</td>\n",
       "      <td>-0.026459</td>\n",
       "      <td>1.000000</td>\n",
       "      <td>-0.003704</td>\n",
       "    </tr>\n",
       "    <tr>\n",
       "      <th>Month_sent_on</th>\n",
       "      <td>0.000163</td>\n",
       "      <td>-0.011200</td>\n",
       "      <td>-0.003323</td>\n",
       "      <td>0.000535</td>\n",
       "      <td>0.001631</td>\n",
       "      <td>0.000314</td>\n",
       "      <td>-0.006305</td>\n",
       "      <td>-0.087970</td>\n",
       "      <td>-0.001695</td>\n",
       "      <td>0.009745</td>\n",
       "      <td>0.943786</td>\n",
       "      <td>-0.222187</td>\n",
       "      <td>-0.016082</td>\n",
       "      <td>1.000000</td>\n",
       "      <td>-0.232562</td>\n",
       "      <td>-0.016082</td>\n",
       "      <td>0.001505</td>\n",
       "    </tr>\n",
       "    <tr>\n",
       "      <th>Year_sent_on</th>\n",
       "      <td>-0.002661</td>\n",
       "      <td>-0.054156</td>\n",
       "      <td>-0.007279</td>\n",
       "      <td>-0.043452</td>\n",
       "      <td>0.039374</td>\n",
       "      <td>0.024308</td>\n",
       "      <td>0.113379</td>\n",
       "      <td>-0.265156</td>\n",
       "      <td>-0.012349</td>\n",
       "      <td>0.000883</td>\n",
       "      <td>-0.213614</td>\n",
       "      <td>0.997235</td>\n",
       "      <td>-0.026459</td>\n",
       "      <td>-0.232562</td>\n",
       "      <td>1.000000</td>\n",
       "      <td>-0.026459</td>\n",
       "      <td>0.039471</td>\n",
       "    </tr>\n",
       "    <tr>\n",
       "      <th>Day_sent_on</th>\n",
       "      <td>-0.003863</td>\n",
       "      <td>0.003328</td>\n",
       "      <td>0.000668</td>\n",
       "      <td>0.000563</td>\n",
       "      <td>-0.003655</td>\n",
       "      <td>-0.000462</td>\n",
       "      <td>0.009981</td>\n",
       "      <td>-0.007202</td>\n",
       "      <td>-0.002224</td>\n",
       "      <td>0.001137</td>\n",
       "      <td>-0.010133</td>\n",
       "      <td>-0.021147</td>\n",
       "      <td>1.000000</td>\n",
       "      <td>-0.016082</td>\n",
       "      <td>-0.026459</td>\n",
       "      <td>1.000000</td>\n",
       "      <td>-0.003704</td>\n",
       "    </tr>\n",
       "    <tr>\n",
       "      <th>Region</th>\n",
       "      <td>0.003159</td>\n",
       "      <td>0.036244</td>\n",
       "      <td>0.020389</td>\n",
       "      <td>0.046393</td>\n",
       "      <td>0.999481</td>\n",
       "      <td>-0.000197</td>\n",
       "      <td>-0.018790</td>\n",
       "      <td>-0.066976</td>\n",
       "      <td>-0.002965</td>\n",
       "      <td>-0.000055</td>\n",
       "      <td>0.007996</td>\n",
       "      <td>0.039162</td>\n",
       "      <td>-0.003704</td>\n",
       "      <td>0.001505</td>\n",
       "      <td>0.039471</td>\n",
       "      <td>-0.003704</td>\n",
       "      <td>1.000000</td>\n",
       "    </tr>\n",
       "  </tbody>\n",
       "</table>\n",
       "</div>"
      ],
      "text/plain": [
       "                              Unnamed: 0   Product  Sub-product     Issue  \\\n",
       "Unnamed: 0                      1.000000  0.000544    -0.001231 -0.000420   \n",
       "Product                         0.000544  1.000000     0.262109  0.195858   \n",
       "Sub-product                    -0.001231  0.262109     1.000000  0.074969   \n",
       "Issue                          -0.000420  0.195858     0.074969  1.000000   \n",
       "Company                         0.003307  0.040337     0.022883  0.046633   \n",
       "State                           0.002970 -0.030400    -0.007722 -0.013400   \n",
       "Submitted via                  -0.002005  0.058314    -0.098859  0.011935   \n",
       "Company response to consumer    0.000442 -0.072898    -0.090667 -0.005492   \n",
       "Timely response?                0.000826 -0.022009    -0.059410  0.019934   \n",
       "Consumer disputed?             -0.001381  0.021577    -0.004046  0.000467   \n",
       "Month_received                  0.000018 -0.017089    -0.002658 -0.002536   \n",
       "Year_received                  -0.002713 -0.054019    -0.007813 -0.043609   \n",
       "Day_received                   -0.003863  0.003328     0.000668  0.000563   \n",
       "Month_sent_on                   0.000163 -0.011200    -0.003323  0.000535   \n",
       "Year_sent_on                   -0.002661 -0.054156    -0.007279 -0.043452   \n",
       "Day_sent_on                    -0.003863  0.003328     0.000668  0.000563   \n",
       "Region                          0.003159  0.036244     0.020389  0.046393   \n",
       "\n",
       "                               Company     State  Submitted via  \\\n",
       "Unnamed: 0                    0.003307  0.002970      -0.002005   \n",
       "Product                       0.040337 -0.030400       0.058314   \n",
       "Sub-product                   0.022883 -0.007722      -0.098859   \n",
       "Issue                         0.046633 -0.013400       0.011935   \n",
       "Company                       1.000000 -0.002750      -0.018400   \n",
       "State                        -0.002750  1.000000       0.014954   \n",
       "Submitted via                -0.018400  0.014954       1.000000   \n",
       "Company response to consumer -0.067946  0.004991      -0.002197   \n",
       "Timely response?             -0.003330 -0.000537      -0.011312   \n",
       "Consumer disputed?            0.000213 -0.007877       0.058920   \n",
       "Month_received                0.008050  0.002855      -0.008005   \n",
       "Year_received                 0.039082  0.024127       0.116334   \n",
       "Day_received                 -0.003655 -0.000462       0.009981   \n",
       "Month_sent_on                 0.001631  0.000314      -0.006305   \n",
       "Year_sent_on                  0.039374  0.024308       0.113379   \n",
       "Day_sent_on                  -0.003655 -0.000462       0.009981   \n",
       "Region                        0.999481 -0.000197      -0.018790   \n",
       "\n",
       "                              Company response to consumer  Timely response?  \\\n",
       "Unnamed: 0                                        0.000442          0.000826   \n",
       "Product                                          -0.072898         -0.022009   \n",
       "Sub-product                                      -0.090667         -0.059410   \n",
       "Issue                                            -0.005492          0.019934   \n",
       "Company                                          -0.067946         -0.003330   \n",
       "State                                             0.004991         -0.000537   \n",
       "Submitted via                                    -0.002197         -0.011312   \n",
       "Company response to consumer                      1.000000          0.016207   \n",
       "Timely response?                                  0.016207          1.000000   \n",
       "Consumer disputed?                               -0.058281          0.003859   \n",
       "Month_received                                   -0.088352         -0.001757   \n",
       "Year_received                                    -0.264271         -0.011960   \n",
       "Day_received                                     -0.007202         -0.002224   \n",
       "Month_sent_on                                    -0.087970         -0.001695   \n",
       "Year_sent_on                                     -0.265156         -0.012349   \n",
       "Day_sent_on                                      -0.007202         -0.002224   \n",
       "Region                                           -0.066976         -0.002965   \n",
       "\n",
       "                              Consumer disputed?  Month_received  \\\n",
       "Unnamed: 0                             -0.001381        0.000018   \n",
       "Product                                 0.021577       -0.017089   \n",
       "Sub-product                            -0.004046       -0.002658   \n",
       "Issue                                   0.000467       -0.002536   \n",
       "Company                                 0.000213        0.008050   \n",
       "State                                  -0.007877        0.002855   \n",
       "Submitted via                           0.058920       -0.008005   \n",
       "Company response to consumer           -0.058281       -0.088352   \n",
       "Timely response?                        0.003859       -0.001757   \n",
       "Consumer disputed?                      1.000000        0.011938   \n",
       "Month_received                          0.011938        1.000000   \n",
       "Year_received                           0.001363       -0.224619   \n",
       "Day_received                            0.001137       -0.010133   \n",
       "Month_sent_on                           0.009745        0.943786   \n",
       "Year_sent_on                            0.000883       -0.213614   \n",
       "Day_sent_on                             0.001137       -0.010133   \n",
       "Region                                 -0.000055        0.007996   \n",
       "\n",
       "                              Year_received  Day_received  Month_sent_on  \\\n",
       "Unnamed: 0                        -0.002713     -0.003863       0.000163   \n",
       "Product                           -0.054019      0.003328      -0.011200   \n",
       "Sub-product                       -0.007813      0.000668      -0.003323   \n",
       "Issue                             -0.043609      0.000563       0.000535   \n",
       "Company                            0.039082     -0.003655       0.001631   \n",
       "State                              0.024127     -0.000462       0.000314   \n",
       "Submitted via                      0.116334      0.009981      -0.006305   \n",
       "Company response to consumer      -0.264271     -0.007202      -0.087970   \n",
       "Timely response?                  -0.011960     -0.002224      -0.001695   \n",
       "Consumer disputed?                 0.001363      0.001137       0.009745   \n",
       "Month_received                    -0.224619     -0.010133       0.943786   \n",
       "Year_received                      1.000000     -0.021147      -0.222187   \n",
       "Day_received                      -0.021147      1.000000      -0.016082   \n",
       "Month_sent_on                     -0.222187     -0.016082       1.000000   \n",
       "Year_sent_on                       0.997235     -0.026459      -0.232562   \n",
       "Day_sent_on                       -0.021147      1.000000      -0.016082   \n",
       "Region                             0.039162     -0.003704       0.001505   \n",
       "\n",
       "                              Year_sent_on  Day_sent_on    Region  \n",
       "Unnamed: 0                       -0.002661    -0.003863  0.003159  \n",
       "Product                          -0.054156     0.003328  0.036244  \n",
       "Sub-product                      -0.007279     0.000668  0.020389  \n",
       "Issue                            -0.043452     0.000563  0.046393  \n",
       "Company                           0.039374    -0.003655  0.999481  \n",
       "State                             0.024308    -0.000462 -0.000197  \n",
       "Submitted via                     0.113379     0.009981 -0.018790  \n",
       "Company response to consumer     -0.265156    -0.007202 -0.066976  \n",
       "Timely response?                 -0.012349    -0.002224 -0.002965  \n",
       "Consumer disputed?                0.000883     0.001137 -0.000055  \n",
       "Month_received                   -0.213614    -0.010133  0.007996  \n",
       "Year_received                     0.997235    -0.021147  0.039162  \n",
       "Day_received                     -0.026459     1.000000 -0.003704  \n",
       "Month_sent_on                    -0.232562    -0.016082  0.001505  \n",
       "Year_sent_on                      1.000000    -0.026459  0.039471  \n",
       "Day_sent_on                      -0.026459     1.000000 -0.003704  \n",
       "Region                            0.039471    -0.003704  1.000000  "
      ]
     },
     "execution_count": 46,
     "metadata": {},
     "output_type": "execute_result"
    }
   ],
   "source": [
    "# correlation\n",
    "encoded_df_corr = encoded_df.corr()\n",
    "encoded_df_corr"
   ]
  },
  {
   "cell_type": "code",
   "execution_count": 28,
   "metadata": {},
   "outputs": [
    {
     "data": {
      "text/plain": [
       "Text(0.5, 1, 'Correlation')"
      ]
     },
     "execution_count": 28,
     "metadata": {},
     "output_type": "execute_result"
    },
    {
     "data": {
      "image/png": "[encoded data removed]",
      "text/plain": [
       "<Figure size 1080x720 with 2 Axes>"
      ]
     },
     "metadata": {
      "needs_background": "light"
     },
     "output_type": "display_data"
    }
   ],
   "source": [
    "# heap map \n",
    "fig, ax = plt.subplots(figsize = (15, 10))\n",
    "sns.heatmap(encoded_df_corr, center = 0, cmap = 'BrBG', annot = True)\n",
    "ax.set_title('Correlation')"
   ]
  },
  {
   "cell_type": "code",
   "execution_count": 29,
   "metadata": {},
   "outputs": [],
   "source": [
    "#encoded_df.to_csv(\"encoded_df.csv\")"
   ]
  },
  {
   "cell_type": "markdown",
   "metadata": {},
   "source": [
    "# Scaling the data"
   ]
  },
  {
   "cell_type": "code",
   "execution_count": 10,
   "metadata": {},
   "outputs": [],
   "source": [
    "# scaling of the data is important for effiecient modelling\n",
    "# encoded_df = pd.read_csv(\"encoded_df.csv\", index_col = \"Unnamed: 0\")\n",
    "df_analysis = encoded_df.copy()"
   ]
  },
  {
   "cell_type": "code",
   "execution_count": 11,
   "metadata": {},
   "outputs": [],
   "source": [
    "# splitting features and target variable.\n",
    "\n",
    "X = df_analysis.drop(['Consumer disputed?', 'Day_received', 'Month_received', 'Year_received', 'State'], axis = 1)\n",
    "Y = df_analysis['Consumer disputed?']"
   ]
  },
  {
   "cell_type": "code",
   "execution_count": 12,
   "metadata": {},
   "outputs": [],
   "source": [
    "from sklearn.preprocessing import StandardScaler\n",
    "\n",
    "scale = StandardScaler()\n",
    "scaled_df = scale.fit_transform(X, Y)\n",
    "# It is important to normalize AFTER splitting data as if we normalize before splitting, the mean and standard deviation used \n",
    "# to normalize the data will be based on the full dataset and not the training subset — therefore leaking information about the test or validation sets into the train set."
   ]
  },
  {
   "cell_type": "code",
   "execution_count": 13,
   "metadata": {},
   "outputs": [],
   "source": [
    "#import csv\n",
    "#with open(\"scaled_df_train.csv\", \"w\") as out:\n",
    "#    writer = csv.writer(out, delimiter = \",\")\n",
    "#    writer.writerow([scaled_df])"
   ]
  },
  {
   "cell_type": "markdown",
   "metadata": {},
   "source": [
    "# SMOTE ANALYSIS\n",
    "### Check whether the data is balanced or not"
   ]
  },
  {
   "cell_type": "code",
   "execution_count": 9,
   "metadata": {},
   "outputs": [
    {
     "data": {
      "text/html": [
       "<div>\n",
       "<style scoped>\n",
       "    .dataframe tbody tr th:only-of-type {\n",
       "        vertical-align: middle;\n",
       "    }\n",
       "\n",
       "    .dataframe tbody tr th {\n",
       "        vertical-align: top;\n",
       "    }\n",
       "\n",
       "    .dataframe thead th {\n",
       "        text-align: right;\n",
       "    }\n",
       "</style>\n",
       "<table border=\"1\" class=\"dataframe\">\n",
       "  <thead>\n",
       "    <tr style=\"text-align: right;\">\n",
       "      <th></th>\n",
       "      <th>Product</th>\n",
       "      <th>Sub-product</th>\n",
       "      <th>Issue</th>\n",
       "      <th>Company</th>\n",
       "      <th>State</th>\n",
       "      <th>Submitted via</th>\n",
       "      <th>Company response to consumer</th>\n",
       "      <th>Timely response?</th>\n",
       "      <th>Consumer disputed?</th>\n",
       "      <th>Month_received</th>\n",
       "      <th>Year_received</th>\n",
       "      <th>Day_received</th>\n",
       "      <th>Month_sent_on</th>\n",
       "      <th>Year_sent_on</th>\n",
       "      <th>Day_sent_on</th>\n",
       "      <th>Region</th>\n",
       "    </tr>\n",
       "  </thead>\n",
       "  <tbody>\n",
       "    <tr>\n",
       "      <th>0</th>\n",
       "      <td>3</td>\n",
       "      <td>7</td>\n",
       "      <td>52</td>\n",
       "      <td>998</td>\n",
       "      <td>15</td>\n",
       "      <td>5</td>\n",
       "      <td>1</td>\n",
       "      <td>1</td>\n",
       "      <td>0</td>\n",
       "      <td>10</td>\n",
       "      <td>2015</td>\n",
       "      <td>14</td>\n",
       "      <td>10</td>\n",
       "      <td>2015</td>\n",
       "      <td>14</td>\n",
       "      <td>7568</td>\n",
       "    </tr>\n",
       "    <tr>\n",
       "      <th>1</th>\n",
       "      <td>0</td>\n",
       "      <td>30</td>\n",
       "      <td>39</td>\n",
       "      <td>2986</td>\n",
       "      <td>15</td>\n",
       "      <td>5</td>\n",
       "      <td>1</td>\n",
       "      <td>1</td>\n",
       "      <td>1</td>\n",
       "      <td>4</td>\n",
       "      <td>2015</td>\n",
       "      <td>26</td>\n",
       "      <td>4</td>\n",
       "      <td>2015</td>\n",
       "      <td>26</td>\n",
       "      <td>22044</td>\n",
       "    </tr>\n",
       "    <tr>\n",
       "      <th>2</th>\n",
       "      <td>2</td>\n",
       "      <td>7</td>\n",
       "      <td>68</td>\n",
       "      <td>623</td>\n",
       "      <td>50</td>\n",
       "      <td>2</td>\n",
       "      <td>3</td>\n",
       "      <td>1</td>\n",
       "      <td>0</td>\n",
       "      <td>12</td>\n",
       "      <td>2013</td>\n",
       "      <td>3</td>\n",
       "      <td>1</td>\n",
       "      <td>2014</td>\n",
       "      <td>3</td>\n",
       "      <td>4565</td>\n",
       "    </tr>\n",
       "    <tr>\n",
       "      <th>3</th>\n",
       "      <td>4</td>\n",
       "      <td>29</td>\n",
       "      <td>40</td>\n",
       "      <td>1031</td>\n",
       "      <td>43</td>\n",
       "      <td>4</td>\n",
       "      <td>1</td>\n",
       "      <td>1</td>\n",
       "      <td>0</td>\n",
       "      <td>3</td>\n",
       "      <td>2016</td>\n",
       "      <td>4</td>\n",
       "      <td>3</td>\n",
       "      <td>2016</td>\n",
       "      <td>4</td>\n",
       "      <td>7946</td>\n",
       "    </tr>\n",
       "    <tr>\n",
       "      <th>4</th>\n",
       "      <td>4</td>\n",
       "      <td>24</td>\n",
       "      <td>40</td>\n",
       "      <td>1320</td>\n",
       "      <td>8</td>\n",
       "      <td>5</td>\n",
       "      <td>1</td>\n",
       "      <td>1</td>\n",
       "      <td>1</td>\n",
       "      <td>1</td>\n",
       "      <td>2015</td>\n",
       "      <td>30</td>\n",
       "      <td>1</td>\n",
       "      <td>2015</td>\n",
       "      <td>30</td>\n",
       "      <td>10357</td>\n",
       "    </tr>\n",
       "    <tr>\n",
       "      <th>...</th>\n",
       "      <td>...</td>\n",
       "      <td>...</td>\n",
       "      <td>...</td>\n",
       "      <td>...</td>\n",
       "      <td>...</td>\n",
       "      <td>...</td>\n",
       "      <td>...</td>\n",
       "      <td>...</td>\n",
       "      <td>...</td>\n",
       "      <td>...</td>\n",
       "      <td>...</td>\n",
       "      <td>...</td>\n",
       "      <td>...</td>\n",
       "      <td>...</td>\n",
       "      <td>...</td>\n",
       "      <td>...</td>\n",
       "    </tr>\n",
       "    <tr>\n",
       "      <th>358805</th>\n",
       "      <td>3</td>\n",
       "      <td>7</td>\n",
       "      <td>52</td>\n",
       "      <td>1023</td>\n",
       "      <td>45</td>\n",
       "      <td>5</td>\n",
       "      <td>3</td>\n",
       "      <td>1</td>\n",
       "      <td>0</td>\n",
       "      <td>4</td>\n",
       "      <td>2014</td>\n",
       "      <td>13</td>\n",
       "      <td>4</td>\n",
       "      <td>2014</td>\n",
       "      <td>13</td>\n",
       "      <td>7833</td>\n",
       "    </tr>\n",
       "    <tr>\n",
       "      <th>358806</th>\n",
       "      <td>6</td>\n",
       "      <td>31</td>\n",
       "      <td>59</td>\n",
       "      <td>623</td>\n",
       "      <td>43</td>\n",
       "      <td>4</td>\n",
       "      <td>3</td>\n",
       "      <td>1</td>\n",
       "      <td>0</td>\n",
       "      <td>3</td>\n",
       "      <td>2013</td>\n",
       "      <td>18</td>\n",
       "      <td>3</td>\n",
       "      <td>2013</td>\n",
       "      <td>18</td>\n",
       "      <td>4558</td>\n",
       "    </tr>\n",
       "    <tr>\n",
       "      <th>358807</th>\n",
       "      <td>2</td>\n",
       "      <td>7</td>\n",
       "      <td>75</td>\n",
       "      <td>551</td>\n",
       "      <td>53</td>\n",
       "      <td>5</td>\n",
       "      <td>0</td>\n",
       "      <td>1</td>\n",
       "      <td>1</td>\n",
       "      <td>2</td>\n",
       "      <td>2013</td>\n",
       "      <td>1</td>\n",
       "      <td>2</td>\n",
       "      <td>2013</td>\n",
       "      <td>1</td>\n",
       "      <td>4024</td>\n",
       "    </tr>\n",
       "    <tr>\n",
       "      <th>358808</th>\n",
       "      <td>4</td>\n",
       "      <td>29</td>\n",
       "      <td>26</td>\n",
       "      <td>988</td>\n",
       "      <td>13</td>\n",
       "      <td>2</td>\n",
       "      <td>3</td>\n",
       "      <td>1</td>\n",
       "      <td>0</td>\n",
       "      <td>6</td>\n",
       "      <td>2015</td>\n",
       "      <td>29</td>\n",
       "      <td>6</td>\n",
       "      <td>2015</td>\n",
       "      <td>29</td>\n",
       "      <td>7411</td>\n",
       "    </tr>\n",
       "    <tr>\n",
       "      <th>358809</th>\n",
       "      <td>3</td>\n",
       "      <td>7</td>\n",
       "      <td>52</td>\n",
       "      <td>2810</td>\n",
       "      <td>13</td>\n",
       "      <td>4</td>\n",
       "      <td>1</td>\n",
       "      <td>1</td>\n",
       "      <td>0</td>\n",
       "      <td>5</td>\n",
       "      <td>2015</td>\n",
       "      <td>3</td>\n",
       "      <td>6</td>\n",
       "      <td>2015</td>\n",
       "      <td>3</td>\n",
       "      <td>20677</td>\n",
       "    </tr>\n",
       "  </tbody>\n",
       "</table>\n",
       "<p>358810 rows × 16 columns</p>\n",
       "</div>"
      ],
      "text/plain": [
       "        Product  Sub-product  Issue  Company  State  Submitted via  \\\n",
       "0             3            7     52      998     15              5   \n",
       "1             0           30     39     2986     15              5   \n",
       "2             2            7     68      623     50              2   \n",
       "3             4           29     40     1031     43              4   \n",
       "4             4           24     40     1320      8              5   \n",
       "...         ...          ...    ...      ...    ...            ...   \n",
       "358805        3            7     52     1023     45              5   \n",
       "358806        6           31     59      623     43              4   \n",
       "358807        2            7     75      551     53              5   \n",
       "358808        4           29     26      988     13              2   \n",
       "358809        3            7     52     2810     13              4   \n",
       "\n",
       "        Company response to consumer  Timely response?  Consumer disputed?  \\\n",
       "0                                  1                 1                   0   \n",
       "1                                  1                 1                   1   \n",
       "2                                  3                 1                   0   \n",
       "3                                  1                 1                   0   \n",
       "4                                  1                 1                   1   \n",
       "...                              ...               ...                 ...   \n",
       "358805                             3                 1                   0   \n",
       "358806                             3                 1                   0   \n",
       "358807                             0                 1                   1   \n",
       "358808                             3                 1                   0   \n",
       "358809                             1                 1                   0   \n",
       "\n",
       "        Month_received  Year_received  Day_received  Month_sent_on  \\\n",
       "0                   10           2015            14             10   \n",
       "1                    4           2015            26              4   \n",
       "2                   12           2013             3              1   \n",
       "3                    3           2016             4              3   \n",
       "4                    1           2015            30              1   \n",
       "...                ...            ...           ...            ...   \n",
       "358805               4           2014            13              4   \n",
       "358806               3           2013            18              3   \n",
       "358807               2           2013             1              2   \n",
       "358808               6           2015            29              6   \n",
       "358809               5           2015             3              6   \n",
       "\n",
       "        Year_sent_on  Day_sent_on  Region  \n",
       "0               2015           14    7568  \n",
       "1               2015           26   22044  \n",
       "2               2014            3    4565  \n",
       "3               2016            4    7946  \n",
       "4               2015           30   10357  \n",
       "...              ...          ...     ...  \n",
       "358805          2014           13    7833  \n",
       "358806          2013           18    4558  \n",
       "358807          2013            1    4024  \n",
       "358808          2015           29    7411  \n",
       "358809          2015            3   20677  \n",
       "\n",
       "[358810 rows x 16 columns]"
      ]
     },
     "execution_count": 9,
     "metadata": {},
     "output_type": "execute_result"
    }
   ],
   "source": [
    "import pandas as pd\n",
    "#scaled_df = pd.read_csv(\"scaled_df_train.csv\")\n",
    "#encoded_df = pd.read_csv(\"encoded_df.csv\", index_col = 'Unnamed: 0')\n",
    "encoded_df.head()"
   ]
  },
  {
   "cell_type": "code",
   "execution_count": 69,
   "metadata": {},
   "outputs": [
    {
     "data": {
      "image/png": "[encoded data removed]",
      "text/plain": [
       "<Figure size 360x360 with 1 Axes>"
      ]
     },
     "metadata": {
      "needs_background": "light"
     },
     "output_type": "display_data"
    }
   ],
   "source": [
    "## Checking for data balance \n",
    "temp = df_na['Consumer disputed?'].value_counts()\n",
    "df = pd.DataFrame({'Consumer disputed?': temp.index,'values': temp.values})\n",
    "plt.figure(figsize = (5, 5))\n",
    "plt.title('Consumer disputed? - target value - data unbalance')\n",
    "sns.set_color_codes(\"pastel\")\n",
    "sns.barplot(x = 'Consumer disputed?', y = \"values\", data = df)\n",
    "locs, labels = plt.xticks()\n",
    "plt.show()"
   ]
  },
  {
   "cell_type": "code",
   "execution_count": 2,
   "metadata": {},
   "outputs": [],
   "source": [
    "# since the data is not balanced at all, SMOTE is used\n",
    "#!pip install imblearn\n",
    "from imblearn.over_sampling import SMOTE"
   ]
  },
  {
   "cell_type": "code",
   "execution_count": 54,
   "metadata": {},
   "outputs": [],
   "source": [
    "# columns are droped based on correlation done above in data preprocessing section.\n",
    "# Even though smote is giving little less accuracy than  normal data in logistic regression and random forest, but if it is not done it will lead to overfitting of the data\n",
    "# as the difference between frequency of yes and no is very high and can lead to overfitting.\n",
    "\n",
    "#there has to be balance between accuracy of model and recall power of the model"
   ]
  },
  {
   "cell_type": "code",
   "execution_count": 15,
   "metadata": {},
   "outputs": [
    {
     "name": "stdout",
     "output_type": "stream",
     "text": [
      "565276\n"
     ]
    }
   ],
   "source": [
    "# perform Smote\n",
    "sm = SMOTE(random_state = 10)\n",
    "X_SMOTE, y_SMOTE = sm.fit_sample(X, Y)\n",
    "print(len(y_SMOTE))"
   ]
  },
  {
   "cell_type": "code",
   "execution_count": 36,
   "metadata": {},
   "outputs": [
    {
     "name": "stdout",
     "output_type": "stream",
     "text": [
      "AxesSubplot(0.125,0.125;0.775x0.755)\n"
     ]
    },
    {
     "data": {
      "image/png": "[encoded data removed]",
      "text/plain": [
       "<Figure size 432x288 with 1 Axes>"
      ]
     },
     "metadata": {
      "needs_background": "light"
     },
     "output_type": "display_data"
    }
   ],
   "source": [
    "# after smote \n",
    "# 0 -> No\n",
    "# 1 -> Yes\n",
    "temp2 = y_SMOTE.value_counts()\n",
    "temp_df2= pd.DataFrame({'Outcome': temp2.index,'no_of_complaints': temp2.values})\n",
    "print(sns.barplot(x = 'Outcome', y = \"no_of_complaints\", data = temp_df2))"
   ]
  },
  {
   "cell_type": "markdown",
   "metadata": {},
   "source": [
    "# Model Training and Evaluation"
   ]
  },
  {
   "cell_type": "code",
   "execution_count": 10,
   "metadata": {},
   "outputs": [],
   "source": [
    "from sklearn.ensemble import RandomForestClassifier\n",
    "from sklearn.linear_model import LogisticRegression\n",
    "from sklearn.tree import DecisionTreeClassifier\n",
    "from sklearn.svm import SVC\n",
    "from sklearn.neighbors import KNeighborsClassifier\n",
    "from sklearn.naive_bayes import GaussianNB\n",
    "from sklearn.naive_bayes import BernoulliNB\n",
    "\n",
    "from sklearn.model_selection import train_test_split\n",
    "from sklearn.metrics import accuracy_score, recall_score\n",
    "from sklearn import metrics\n"
   ]
  },
  {
   "cell_type": "code",
   "execution_count": 18,
   "metadata": {},
   "outputs": [],
   "source": [
    "# test split using data after smote analysis\n",
    "X_smote_train, X_smote_test, Y_smote_train, Y_smote_test = train_test_split(X_SMOTE, y_SMOTE, test_size = 0.25, random_state = 100)\n"
   ]
  },
  {
   "cell_type": "code",
   "execution_count": 40,
   "metadata": {},
   "outputs": [],
   "source": [
    "# Data split using train test split without smote \n",
    "X_train, X_test, Y_train, Y_test = train_test_split(X, Y, test_size = 0.25, random_state = 100)"
   ]
  },
  {
   "cell_type": "markdown",
   "metadata": {},
   "source": [
    "### Logistic Regression without SMOTE "
   ]
  },
  {
   "cell_type": "code",
   "execution_count": 62,
   "metadata": {},
   "outputs": [
    {
     "data": {
      "text/html": [
       "<div>\n",
       "<style scoped>\n",
       "    .dataframe tbody tr th:only-of-type {\n",
       "        vertical-align: middle;\n",
       "    }\n",
       "\n",
       "    .dataframe tbody tr th {\n",
       "        vertical-align: top;\n",
       "    }\n",
       "\n",
       "    .dataframe thead th {\n",
       "        text-align: right;\n",
       "    }\n",
       "</style>\n",
       "<table border=\"1\" class=\"dataframe\">\n",
       "  <thead>\n",
       "    <tr style=\"text-align: right;\">\n",
       "      <th></th>\n",
       "      <th>Model</th>\n",
       "      <th>Accuracy</th>\n",
       "      <th>Recall</th>\n",
       "    </tr>\n",
       "  </thead>\n",
       "  <tbody>\n",
       "    <tr>\n",
       "      <th>0</th>\n",
       "      <td>Logistic Regression - without SMOTE</td>\n",
       "      <td>0.787488</td>\n",
       "      <td>0.0</td>\n",
       "    </tr>\n",
       "  </tbody>\n",
       "</table>\n",
       "</div>"
      ],
      "text/plain": [
       "                                 Model  Accuracy  Recall\n",
       "0  Logistic Regression - without SMOTE  0.787488     0.0"
      ]
     },
     "execution_count": 62,
     "metadata": {},
     "output_type": "execute_result"
    }
   ],
   "source": [
    "lr = LogisticRegression(C = 0.4, max_iter = 100, solver='liblinear')\n",
    "lr.fit(X_train, Y_train)\n",
    "\n",
    "#### Predicting on X_test dataset\n",
    "y_pred1 = lr.predict(X_test)\n",
    "\n",
    "acc_lr = accuracy_score(Y_test, y_pred1)\n",
    "re_lr = recall_score(Y_test, y_pred1)\n",
    "\n",
    "model_results2 = pd.DataFrame([['Logistic Regression - without SMOTE', acc_lr, re_lr]], columns = ['Model', 'Accuracy', 'Recall'])\n",
    "results2 = pd.DataFrame()\n",
    "results2 = results2.append(model_results2, ignore_index = True)\n",
    "results2\n",
    "\n",
    "# here the recall value came as 0, justifying that smote need to be used as there is majority biasness of \"No\" in the data.\n"
   ]
  },
  {
   "cell_type": "markdown",
   "metadata": {},
   "source": [
    "### # Logistic Regression model with SMOTE"
   ]
  },
  {
   "cell_type": "code",
   "execution_count": 64,
   "metadata": {},
   "outputs": [
    {
     "data": {
      "text/html": [
       "<div>\n",
       "<style scoped>\n",
       "    .dataframe tbody tr th:only-of-type {\n",
       "        vertical-align: middle;\n",
       "    }\n",
       "\n",
       "    .dataframe tbody tr th {\n",
       "        vertical-align: top;\n",
       "    }\n",
       "\n",
       "    .dataframe thead th {\n",
       "        text-align: right;\n",
       "    }\n",
       "</style>\n",
       "<table border=\"1\" class=\"dataframe\">\n",
       "  <thead>\n",
       "    <tr style=\"text-align: right;\">\n",
       "      <th></th>\n",
       "      <th>Model</th>\n",
       "      <th>Accuracy</th>\n",
       "      <th>Recall</th>\n",
       "    </tr>\n",
       "  </thead>\n",
       "  <tbody>\n",
       "    <tr>\n",
       "      <th>0</th>\n",
       "      <td>Logistic Regression - without SMOTE</td>\n",
       "      <td>0.787488</td>\n",
       "      <td>0.00000</td>\n",
       "    </tr>\n",
       "    <tr>\n",
       "      <th>1</th>\n",
       "      <td>Logistic Regression - with SMOTE(liblinear)</td>\n",
       "      <td>0.568572</td>\n",
       "      <td>0.70292</td>\n",
       "    </tr>\n",
       "  </tbody>\n",
       "</table>\n",
       "</div>"
      ],
      "text/plain": [
       "                                         Model  Accuracy   Recall\n",
       "0          Logistic Regression - without SMOTE  0.787488  0.00000\n",
       "1  Logistic Regression - with SMOTE(liblinear)  0.568572  0.70292"
      ]
     },
     "execution_count": 64,
     "metadata": {},
     "output_type": "execute_result"
    }
   ],
   "source": [
    "lr2 = LogisticRegression(C = 0.4, max_iter = 100, solver='liblinear')\n",
    "lr2.fit(X_smote_train, Y_smote_train)\n",
    "\n",
    "#### Predicting on X_test dataset\n",
    "y_pred2 = lr2.predict(X_smote_test)\n",
    "\n",
    "acc_lr2 = accuracy_score(Y_smote_test, y_pred2)\n",
    "re_lr2 = recall_score(Y_smote_test, y_pred2)\n",
    "\n",
    "model_results2 = pd.DataFrame([['Logistic Regression - with SMOTE(liblinear)', acc_lr2, re_lr2]], columns = ['Model', 'Accuracy', 'Recall'])\n",
    "results2 = results2.append(model_results2, ignore_index = True)\n",
    "results2\n",
    "\n",
    "# even though the accuracy is less but there is a good recall values of the model."
   ]
  },
  {
   "cell_type": "code",
   "execution_count": 69,
   "metadata": {},
   "outputs": [
    {
     "name": "stderr",
     "output_type": "stream",
     "text": [
      "C:\\ProgramData\\Anaconda3\\lib\\site-packages\\sklearn\\linear_model\\_sag.py:330: ConvergenceWarning: The max_iter was reached which means the coef_ did not converge\n",
      "  \"the coef_ did not converge\", ConvergenceWarning)\n"
     ]
    },
    {
     "data": {
      "text/html": [
       "<div>\n",
       "<style scoped>\n",
       "    .dataframe tbody tr th:only-of-type {\n",
       "        vertical-align: middle;\n",
       "    }\n",
       "\n",
       "    .dataframe tbody tr th {\n",
       "        vertical-align: top;\n",
       "    }\n",
       "\n",
       "    .dataframe thead th {\n",
       "        text-align: right;\n",
       "    }\n",
       "</style>\n",
       "<table border=\"1\" class=\"dataframe\">\n",
       "  <thead>\n",
       "    <tr style=\"text-align: right;\">\n",
       "      <th></th>\n",
       "      <th>Model</th>\n",
       "      <th>Accuracy</th>\n",
       "      <th>Recall</th>\n",
       "    </tr>\n",
       "  </thead>\n",
       "  <tbody>\n",
       "    <tr>\n",
       "      <th>0</th>\n",
       "      <td>Logistic Regression - without SMOTE</td>\n",
       "      <td>0.787488</td>\n",
       "      <td>0.000000</td>\n",
       "    </tr>\n",
       "    <tr>\n",
       "      <th>1</th>\n",
       "      <td>Logistic Regression - with SMOTE(liblinear)</td>\n",
       "      <td>0.568572</td>\n",
       "      <td>0.702920</td>\n",
       "    </tr>\n",
       "    <tr>\n",
       "      <th>2</th>\n",
       "      <td>Logistic Regression-with SMOTE(SAGA)</td>\n",
       "      <td>0.541859</td>\n",
       "      <td>0.541368</td>\n",
       "    </tr>\n",
       "    <tr>\n",
       "      <th>3</th>\n",
       "      <td>Logistic Regression-with SMOTE(SAGA)</td>\n",
       "      <td>0.541902</td>\n",
       "      <td>0.541566</td>\n",
       "    </tr>\n",
       "    <tr>\n",
       "      <th>4</th>\n",
       "      <td>Logistic Regression-with SMOTE(SAGA)</td>\n",
       "      <td>0.541753</td>\n",
       "      <td>0.540762</td>\n",
       "    </tr>\n",
       "  </tbody>\n",
       "</table>\n",
       "</div>"
      ],
      "text/plain": [
       "                                         Model  Accuracy    Recall\n",
       "0          Logistic Regression - without SMOTE  0.787488  0.000000\n",
       "1  Logistic Regression - with SMOTE(liblinear)  0.568572  0.702920\n",
       "2         Logistic Regression-with SMOTE(SAGA)  0.541859  0.541368\n",
       "3         Logistic Regression-with SMOTE(SAGA)  0.541902  0.541566\n",
       "4         Logistic Regression-with SMOTE(SAGA)  0.541753  0.540762"
      ]
     },
     "execution_count": 69,
     "metadata": {},
     "output_type": "execute_result"
    }
   ],
   "source": [
    "# Logistic Regression model(saga)\n",
    "lr_s = LogisticRegression(C = 0.3, max_iter = 500, solver='saga')\n",
    "lr_s.fit(X_smote_train, Y_smote_train)\n",
    "\n",
    "#### Predicting on X_test dataset\n",
    "y_pred2 = lr_s.predict(X_smote_test)\n",
    "\n",
    "acc_lrs = accuracy_score(Y_smote_test, y_pred2)\n",
    "re_lrs = recall_score(Y_smote_test, y_pred2)\n",
    "\n",
    "model_results2 = pd.DataFrame([['Logistic Regression-with SMOTE(SAGA)', acc_lrs, re_lrs]], columns = ['Model', 'Accuracy', 'Recall'])\n",
    "results2 = results2.append(model_results2, ignore_index = True)\n",
    "results2# results2.drop(results2.tail(1).index, inplace = True)"
   ]
  },
  {
   "cell_type": "markdown",
   "metadata": {},
   "source": [
    "### KNeighborsClassifier model"
   ]
  },
  {
   "cell_type": "code",
   "execution_count": 74,
   "metadata": {},
   "outputs": [
    {
     "data": {
      "text/html": [
       "<div>\n",
       "<style scoped>\n",
       "    .dataframe tbody tr th:only-of-type {\n",
       "        vertical-align: middle;\n",
       "    }\n",
       "\n",
       "    .dataframe tbody tr th {\n",
       "        vertical-align: top;\n",
       "    }\n",
       "\n",
       "    .dataframe thead th {\n",
       "        text-align: right;\n",
       "    }\n",
       "</style>\n",
       "<table border=\"1\" class=\"dataframe\">\n",
       "  <thead>\n",
       "    <tr style=\"text-align: right;\">\n",
       "      <th></th>\n",
       "      <th>Model</th>\n",
       "      <th>Accuracy</th>\n",
       "      <th>Recall</th>\n",
       "    </tr>\n",
       "  </thead>\n",
       "  <tbody>\n",
       "    <tr>\n",
       "      <th>0</th>\n",
       "      <td>Logistic Regression - without SMOTE</td>\n",
       "      <td>0.787488</td>\n",
       "      <td>0.000000</td>\n",
       "    </tr>\n",
       "    <tr>\n",
       "      <th>1</th>\n",
       "      <td>Logistic Regression - with SMOTE(liblinear)</td>\n",
       "      <td>0.568572</td>\n",
       "      <td>0.702920</td>\n",
       "    </tr>\n",
       "    <tr>\n",
       "      <th>2</th>\n",
       "      <td>Logistic Regression-with SMOTE(SAGA)</td>\n",
       "      <td>0.541859</td>\n",
       "      <td>0.541368</td>\n",
       "    </tr>\n",
       "    <tr>\n",
       "      <th>3</th>\n",
       "      <td>KNeighborsClassifier</td>\n",
       "      <td>0.724149</td>\n",
       "      <td>0.859718</td>\n",
       "    </tr>\n",
       "  </tbody>\n",
       "</table>\n",
       "</div>"
      ],
      "text/plain": [
       "                                         Model  Accuracy    Recall\n",
       "0          Logistic Regression - without SMOTE  0.787488  0.000000\n",
       "1  Logistic Regression - with SMOTE(liblinear)  0.568572  0.702920\n",
       "2         Logistic Regression-with SMOTE(SAGA)  0.541859  0.541368\n",
       "3                         KNeighborsClassifier  0.724149  0.859718"
      ]
     },
     "execution_count": 74,
     "metadata": {},
     "output_type": "execute_result"
    }
   ],
   "source": [
    "knn = KNeighborsClassifier(n_neighbors = 5, n_jobs = 7)\n",
    "knn.fit(X_smote_train, Y_smote_train)\n",
    "\n",
    "#### Predicting on X_test dataset\n",
    "y_pred2 = knn.predict(X_smote_test)\n",
    "\n",
    "acc_knn = accuracy_score(Y_smote_test, y_pred2)\n",
    "re_knn = recall_score(Y_smote_test, y_pred2)\n",
    "\n",
    "model_results2 = pd.DataFrame([['KNeighborsClassifier', acc_knn, re_knn]], columns = ['Model', 'Accuracy', 'Recall'])\n",
    "results2 = results2.append(model_results2, ignore_index = True)\n",
    "results2"
   ]
  },
  {
   "cell_type": "markdown",
   "metadata": {},
   "source": [
    "### DecisionTreeClassifier model"
   ]
  },
  {
   "cell_type": "code",
   "execution_count": 79,
   "metadata": {},
   "outputs": [
    {
     "data": {
      "text/html": [
       "<div>\n",
       "<style scoped>\n",
       "    .dataframe tbody tr th:only-of-type {\n",
       "        vertical-align: middle;\n",
       "    }\n",
       "\n",
       "    .dataframe tbody tr th {\n",
       "        vertical-align: top;\n",
       "    }\n",
       "\n",
       "    .dataframe thead th {\n",
       "        text-align: right;\n",
       "    }\n",
       "</style>\n",
       "<table border=\"1\" class=\"dataframe\">\n",
       "  <thead>\n",
       "    <tr style=\"text-align: right;\">\n",
       "      <th></th>\n",
       "      <th>Model</th>\n",
       "      <th>Accuracy</th>\n",
       "      <th>Recall</th>\n",
       "    </tr>\n",
       "  </thead>\n",
       "  <tbody>\n",
       "    <tr>\n",
       "      <th>0</th>\n",
       "      <td>Logistic Regression - without SMOTE</td>\n",
       "      <td>0.787488</td>\n",
       "      <td>0.000000</td>\n",
       "    </tr>\n",
       "    <tr>\n",
       "      <th>1</th>\n",
       "      <td>Logistic Regression - with SMOTE(liblinear)</td>\n",
       "      <td>0.568572</td>\n",
       "      <td>0.702920</td>\n",
       "    </tr>\n",
       "    <tr>\n",
       "      <th>2</th>\n",
       "      <td>Logistic Regression-with SMOTE(SAGA)</td>\n",
       "      <td>0.541859</td>\n",
       "      <td>0.541368</td>\n",
       "    </tr>\n",
       "    <tr>\n",
       "      <th>3</th>\n",
       "      <td>KNeighborsClassifier</td>\n",
       "      <td>0.724149</td>\n",
       "      <td>0.859718</td>\n",
       "    </tr>\n",
       "    <tr>\n",
       "      <th>4</th>\n",
       "      <td>DecisionTreeClassifier</td>\n",
       "      <td>0.698243</td>\n",
       "      <td>0.682609</td>\n",
       "    </tr>\n",
       "  </tbody>\n",
       "</table>\n",
       "</div>"
      ],
      "text/plain": [
       "                                         Model  Accuracy    Recall\n",
       "0          Logistic Regression - without SMOTE  0.787488  0.000000\n",
       "1  Logistic Regression - with SMOTE(liblinear)  0.568572  0.702920\n",
       "2         Logistic Regression-with SMOTE(SAGA)  0.541859  0.541368\n",
       "3                         KNeighborsClassifier  0.724149  0.859718\n",
       "4                       DecisionTreeClassifier  0.698243  0.682609"
      ]
     },
     "execution_count": 79,
     "metadata": {},
     "output_type": "execute_result"
    }
   ],
   "source": [
    "dt = DecisionTreeClassifier(max_features = 5, min_samples_split = 7, random_state = 10)\n",
    "dt.fit(X_smote_train, Y_smote_train)\n",
    "\n",
    "#### Predicting on X_test dataset\n",
    "y_pred1 = dt.predict(X_smote_test)\n",
    "\n",
    "acc_dt = accuracy_score(Y_smote_test, y_pred1)\n",
    "re_dt = recall_score(Y_smote_test, y_pred1)\n",
    "\n",
    "model_results2 = pd.DataFrame([['DecisionTreeClassifier', acc_dt, re_dt]], columns = ['Model', 'Accuracy', 'Recall'])\n",
    "results2 = results2.append(model_results2, ignore_index = True)\n",
    "results2"
   ]
  },
  {
   "cell_type": "markdown",
   "metadata": {},
   "source": [
    "### RandomForestClassifier model"
   ]
  },
  {
   "cell_type": "code",
   "execution_count": 81,
   "metadata": {},
   "outputs": [
    {
     "data": {
      "text/html": [
       "<div>\n",
       "<style scoped>\n",
       "    .dataframe tbody tr th:only-of-type {\n",
       "        vertical-align: middle;\n",
       "    }\n",
       "\n",
       "    .dataframe tbody tr th {\n",
       "        vertical-align: top;\n",
       "    }\n",
       "\n",
       "    .dataframe thead th {\n",
       "        text-align: right;\n",
       "    }\n",
       "</style>\n",
       "<table border=\"1\" class=\"dataframe\">\n",
       "  <thead>\n",
       "    <tr style=\"text-align: right;\">\n",
       "      <th></th>\n",
       "      <th>Model</th>\n",
       "      <th>Accuracy</th>\n",
       "      <th>Recall</th>\n",
       "    </tr>\n",
       "  </thead>\n",
       "  <tbody>\n",
       "    <tr>\n",
       "      <th>0</th>\n",
       "      <td>Logistic Regression - without SMOTE</td>\n",
       "      <td>0.787488</td>\n",
       "      <td>0.000000</td>\n",
       "    </tr>\n",
       "    <tr>\n",
       "      <th>1</th>\n",
       "      <td>Logistic Regression - with SMOTE(liblinear)</td>\n",
       "      <td>0.568572</td>\n",
       "      <td>0.702920</td>\n",
       "    </tr>\n",
       "    <tr>\n",
       "      <th>2</th>\n",
       "      <td>Logistic Regression-with SMOTE(SAGA)</td>\n",
       "      <td>0.541859</td>\n",
       "      <td>0.541368</td>\n",
       "    </tr>\n",
       "    <tr>\n",
       "      <th>3</th>\n",
       "      <td>KNeighborsClassifier</td>\n",
       "      <td>0.724149</td>\n",
       "      <td>0.859718</td>\n",
       "    </tr>\n",
       "    <tr>\n",
       "      <th>4</th>\n",
       "      <td>DecisionTreeClassifier</td>\n",
       "      <td>0.698243</td>\n",
       "      <td>0.682609</td>\n",
       "    </tr>\n",
       "    <tr>\n",
       "      <th>5</th>\n",
       "      <td>RandomForestClassifier(entropy)</td>\n",
       "      <td>0.771821</td>\n",
       "      <td>0.781086</td>\n",
       "    </tr>\n",
       "  </tbody>\n",
       "</table>\n",
       "</div>"
      ],
      "text/plain": [
       "                                         Model  Accuracy    Recall\n",
       "0          Logistic Regression - without SMOTE  0.787488  0.000000\n",
       "1  Logistic Regression - with SMOTE(liblinear)  0.568572  0.702920\n",
       "2         Logistic Regression-with SMOTE(SAGA)  0.541859  0.541368\n",
       "3                         KNeighborsClassifier  0.724149  0.859718\n",
       "4                       DecisionTreeClassifier  0.698243  0.682609\n",
       "5              RandomForestClassifier(entropy)  0.771821  0.781086"
      ]
     },
     "execution_count": 81,
     "metadata": {},
     "output_type": "execute_result"
    }
   ],
   "source": [
    "rfe = RandomForestClassifier(random_state = 10, criterion='entropy', n_jobs = 7, n_estimators = 150)\n",
    "rfe.fit(X_smote_train, Y_smote_train)\n",
    "\n",
    "#### Predicting on X_test dataset\n",
    "y_pred1 = rfe.predict(X_smote_test)\n",
    "\n",
    "acc_rfe = accuracy_score(Y_smote_test, y_pred1)\n",
    "re_rf = recall_score(Y_smote_test, y_pred1)\n",
    "\n",
    "model_results2 = pd.DataFrame([['RandomForestClassifier(entropy)', acc_rfe, re_rf]], columns = ['Model', 'Accuracy', 'Recall'])\n",
    "results2 = results2.append(model_results2, ignore_index = True)\n",
    "results2"
   ]
  },
  {
   "cell_type": "code",
   "execution_count": 91,
   "metadata": {},
   "outputs": [
    {
     "data": {
      "text/html": [
       "<div>\n",
       "<style scoped>\n",
       "    .dataframe tbody tr th:only-of-type {\n",
       "        vertical-align: middle;\n",
       "    }\n",
       "\n",
       "    .dataframe tbody tr th {\n",
       "        vertical-align: top;\n",
       "    }\n",
       "\n",
       "    .dataframe thead th {\n",
       "        text-align: right;\n",
       "    }\n",
       "</style>\n",
       "<table border=\"1\" class=\"dataframe\">\n",
       "  <thead>\n",
       "    <tr style=\"text-align: right;\">\n",
       "      <th></th>\n",
       "      <th>Model</th>\n",
       "      <th>Accuracy</th>\n",
       "      <th>Recall</th>\n",
       "    </tr>\n",
       "  </thead>\n",
       "  <tbody>\n",
       "    <tr>\n",
       "      <th>0</th>\n",
       "      <td>Logistic Regression - without SMOTE</td>\n",
       "      <td>0.787488</td>\n",
       "      <td>0.000000</td>\n",
       "    </tr>\n",
       "    <tr>\n",
       "      <th>1</th>\n",
       "      <td>Logistic Regression - with SMOTE(liblinear)</td>\n",
       "      <td>0.568572</td>\n",
       "      <td>0.702920</td>\n",
       "    </tr>\n",
       "    <tr>\n",
       "      <th>2</th>\n",
       "      <td>Logistic Regression-with SMOTE(SAGA)</td>\n",
       "      <td>0.541859</td>\n",
       "      <td>0.541368</td>\n",
       "    </tr>\n",
       "    <tr>\n",
       "      <th>3</th>\n",
       "      <td>KNeighborsClassifier</td>\n",
       "      <td>0.724149</td>\n",
       "      <td>0.859718</td>\n",
       "    </tr>\n",
       "    <tr>\n",
       "      <th>4</th>\n",
       "      <td>DecisionTreeClassifier</td>\n",
       "      <td>0.698243</td>\n",
       "      <td>0.682609</td>\n",
       "    </tr>\n",
       "    <tr>\n",
       "      <th>5</th>\n",
       "      <td>RandomForestClassifier(entropy)</td>\n",
       "      <td>0.771821</td>\n",
       "      <td>0.781086</td>\n",
       "    </tr>\n",
       "    <tr>\n",
       "      <th>6</th>\n",
       "      <td>RandomForestClassifier(gini)</td>\n",
       "      <td>0.772331</td>\n",
       "      <td>0.782454</td>\n",
       "    </tr>\n",
       "  </tbody>\n",
       "</table>\n",
       "</div>"
      ],
      "text/plain": [
       "                                         Model  Accuracy    Recall\n",
       "0          Logistic Regression - without SMOTE  0.787488  0.000000\n",
       "1  Logistic Regression - with SMOTE(liblinear)  0.568572  0.702920\n",
       "2         Logistic Regression-with SMOTE(SAGA)  0.541859  0.541368\n",
       "3                         KNeighborsClassifier  0.724149  0.859718\n",
       "4                       DecisionTreeClassifier  0.698243  0.682609\n",
       "5              RandomForestClassifier(entropy)  0.771821  0.781086\n",
       "6                 RandomForestClassifier(gini)  0.772331  0.782454"
      ]
     },
     "execution_count": 91,
     "metadata": {},
     "output_type": "execute_result"
    }
   ],
   "source": [
    "rf = RandomForestClassifier(random_state = 10, n_jobs = 7, n_estimators = 160)\n",
    "rf.fit(X_smote_train, Y_smote_train)\n",
    "\n",
    "#### Predicting on X_test dataset\n",
    "y_pred1 = rf.predict(X_smote_test)\n",
    "\n",
    "acc_rf = accuracy_score(Y_smote_test, y_pred1)\n",
    "re_rfgini = recall_score(Y_smote_test, y_pred1)\n",
    "\n",
    "model_results2 = pd.DataFrame([['RandomForestClassifier(gini)', acc_rf, re_rfgini]], columns = ['Model', 'Accuracy', 'Recall'])\n",
    "results2 = results2.append(model_results2, ignore_index = True)\n",
    "results2"
   ]
  },
  {
   "cell_type": "markdown",
   "metadata": {},
   "source": [
    "### Gaussian Naives bayers model"
   ]
  },
  {
   "cell_type": "code",
   "execution_count": 93,
   "metadata": {},
   "outputs": [
    {
     "data": {
      "text/html": [
       "<div>\n",
       "<style scoped>\n",
       "    .dataframe tbody tr th:only-of-type {\n",
       "        vertical-align: middle;\n",
       "    }\n",
       "\n",
       "    .dataframe tbody tr th {\n",
       "        vertical-align: top;\n",
       "    }\n",
       "\n",
       "    .dataframe thead th {\n",
       "        text-align: right;\n",
       "    }\n",
       "</style>\n",
       "<table border=\"1\" class=\"dataframe\">\n",
       "  <thead>\n",
       "    <tr style=\"text-align: right;\">\n",
       "      <th></th>\n",
       "      <th>Model</th>\n",
       "      <th>Accuracy</th>\n",
       "      <th>Recall</th>\n",
       "    </tr>\n",
       "  </thead>\n",
       "  <tbody>\n",
       "    <tr>\n",
       "      <th>0</th>\n",
       "      <td>Logistic Regression - without SMOTE</td>\n",
       "      <td>0.787488</td>\n",
       "      <td>0.000000</td>\n",
       "    </tr>\n",
       "    <tr>\n",
       "      <th>1</th>\n",
       "      <td>Logistic Regression - with SMOTE(liblinear)</td>\n",
       "      <td>0.568572</td>\n",
       "      <td>0.702920</td>\n",
       "    </tr>\n",
       "    <tr>\n",
       "      <th>2</th>\n",
       "      <td>Logistic Regression-with SMOTE(SAGA)</td>\n",
       "      <td>0.541859</td>\n",
       "      <td>0.541368</td>\n",
       "    </tr>\n",
       "    <tr>\n",
       "      <th>3</th>\n",
       "      <td>KNeighborsClassifier</td>\n",
       "      <td>0.724149</td>\n",
       "      <td>0.859718</td>\n",
       "    </tr>\n",
       "    <tr>\n",
       "      <th>4</th>\n",
       "      <td>DecisionTreeClassifier</td>\n",
       "      <td>0.698243</td>\n",
       "      <td>0.682609</td>\n",
       "    </tr>\n",
       "    <tr>\n",
       "      <th>5</th>\n",
       "      <td>RandomForestClassifier(entropy)</td>\n",
       "      <td>0.771821</td>\n",
       "      <td>0.781086</td>\n",
       "    </tr>\n",
       "    <tr>\n",
       "      <th>6</th>\n",
       "      <td>RandomForestClassifier(gini)</td>\n",
       "      <td>0.772331</td>\n",
       "      <td>0.782454</td>\n",
       "    </tr>\n",
       "    <tr>\n",
       "      <th>7</th>\n",
       "      <td>GaussianNB</td>\n",
       "      <td>0.587975</td>\n",
       "      <td>0.762694</td>\n",
       "    </tr>\n",
       "  </tbody>\n",
       "</table>\n",
       "</div>"
      ],
      "text/plain": [
       "                                         Model  Accuracy    Recall\n",
       "0          Logistic Regression - without SMOTE  0.787488  0.000000\n",
       "1  Logistic Regression - with SMOTE(liblinear)  0.568572  0.702920\n",
       "2         Logistic Regression-with SMOTE(SAGA)  0.541859  0.541368\n",
       "3                         KNeighborsClassifier  0.724149  0.859718\n",
       "4                       DecisionTreeClassifier  0.698243  0.682609\n",
       "5              RandomForestClassifier(entropy)  0.771821  0.781086\n",
       "6                 RandomForestClassifier(gini)  0.772331  0.782454\n",
       "7                                   GaussianNB  0.587975  0.762694"
      ]
     },
     "execution_count": 93,
     "metadata": {},
     "output_type": "execute_result"
    }
   ],
   "source": [
    "gnb = GaussianNB()\n",
    "gnb.fit(X_smote_train, Y_smote_train)\n",
    "\n",
    "# Predicting Test Set\n",
    "pred_gnb = gnb.predict(X_smote_test)\n",
    "\n",
    "acc_gnb = accuracy_score(Y_smote_test, pred_gnb)\n",
    "re_gnb = recall_score(Y_smote_test, pred_gnb)\n",
    "\n",
    "model_results2 = pd.DataFrame([['GaussianNB', acc_gnb, re_gnb]], columns = ['Model', 'Accuracy', 'Recall'])\n",
    "results2 = results2.append(model_results2, ignore_index = True)\n",
    "results2"
   ]
  },
  {
   "cell_type": "markdown",
   "metadata": {},
   "source": [
    "### Bernoulli naives baysian model"
   ]
  },
  {
   "cell_type": "code",
   "execution_count": 94,
   "metadata": {},
   "outputs": [
    {
     "data": {
      "text/html": [
       "<div>\n",
       "<style scoped>\n",
       "    .dataframe tbody tr th:only-of-type {\n",
       "        vertical-align: middle;\n",
       "    }\n",
       "\n",
       "    .dataframe tbody tr th {\n",
       "        vertical-align: top;\n",
       "    }\n",
       "\n",
       "    .dataframe thead th {\n",
       "        text-align: right;\n",
       "    }\n",
       "</style>\n",
       "<table border=\"1\" class=\"dataframe\">\n",
       "  <thead>\n",
       "    <tr style=\"text-align: right;\">\n",
       "      <th></th>\n",
       "      <th>Model</th>\n",
       "      <th>Accuracy</th>\n",
       "      <th>Recall</th>\n",
       "    </tr>\n",
       "  </thead>\n",
       "  <tbody>\n",
       "    <tr>\n",
       "      <th>0</th>\n",
       "      <td>Logistic Regression - without SMOTE</td>\n",
       "      <td>0.787488</td>\n",
       "      <td>0.000000</td>\n",
       "    </tr>\n",
       "    <tr>\n",
       "      <th>1</th>\n",
       "      <td>Logistic Regression - with SMOTE(liblinear)</td>\n",
       "      <td>0.568572</td>\n",
       "      <td>0.702920</td>\n",
       "    </tr>\n",
       "    <tr>\n",
       "      <th>2</th>\n",
       "      <td>Logistic Regression-with SMOTE(SAGA)</td>\n",
       "      <td>0.541859</td>\n",
       "      <td>0.541368</td>\n",
       "    </tr>\n",
       "    <tr>\n",
       "      <th>3</th>\n",
       "      <td>KNeighborsClassifier</td>\n",
       "      <td>0.724149</td>\n",
       "      <td>0.859718</td>\n",
       "    </tr>\n",
       "    <tr>\n",
       "      <th>4</th>\n",
       "      <td>DecisionTreeClassifier</td>\n",
       "      <td>0.698243</td>\n",
       "      <td>0.682609</td>\n",
       "    </tr>\n",
       "    <tr>\n",
       "      <th>5</th>\n",
       "      <td>RandomForestClassifier(entropy)</td>\n",
       "      <td>0.771821</td>\n",
       "      <td>0.781086</td>\n",
       "    </tr>\n",
       "    <tr>\n",
       "      <th>6</th>\n",
       "      <td>RandomForestClassifier(gini)</td>\n",
       "      <td>0.772331</td>\n",
       "      <td>0.782454</td>\n",
       "    </tr>\n",
       "    <tr>\n",
       "      <th>7</th>\n",
       "      <td>GaussianNB</td>\n",
       "      <td>0.587975</td>\n",
       "      <td>0.762694</td>\n",
       "    </tr>\n",
       "    <tr>\n",
       "      <th>8</th>\n",
       "      <td>BernoulliNB</td>\n",
       "      <td>0.508615</td>\n",
       "      <td>0.782454</td>\n",
       "    </tr>\n",
       "  </tbody>\n",
       "</table>\n",
       "</div>"
      ],
      "text/plain": [
       "                                         Model  Accuracy    Recall\n",
       "0          Logistic Regression - without SMOTE  0.787488  0.000000\n",
       "1  Logistic Regression - with SMOTE(liblinear)  0.568572  0.702920\n",
       "2         Logistic Regression-with SMOTE(SAGA)  0.541859  0.541368\n",
       "3                         KNeighborsClassifier  0.724149  0.859718\n",
       "4                       DecisionTreeClassifier  0.698243  0.682609\n",
       "5              RandomForestClassifier(entropy)  0.771821  0.781086\n",
       "6                 RandomForestClassifier(gini)  0.772331  0.782454\n",
       "7                                   GaussianNB  0.587975  0.762694\n",
       "8                                  BernoulliNB  0.508615  0.782454"
      ]
     },
     "execution_count": 94,
     "metadata": {},
     "output_type": "execute_result"
    }
   ],
   "source": [
    "bnb = BernoulliNB()\n",
    "bnb.fit(X_smote_train, Y_smote_train)\n",
    "\n",
    "# Predicting Test Set\n",
    "pred_bnb = bnb.predict(X_smote_test)\n",
    "\n",
    "acc_bnb = accuracy_score(Y_smote_test, pred_bnb)\n",
    "re_bnb = recall_score(Y_smote_test, y_pred1)\n",
    "\n",
    "model_results2 = pd.DataFrame([['BernoulliNB', acc_bnb, re_bnb]], columns = ['Model', 'Accuracy', 'Recall'])\n",
    "results2 = results2.append(model_results2, ignore_index = True)\n",
    "results2"
   ]
  },
  {
   "cell_type": "markdown",
   "metadata": {},
   "source": [
    "### SVM model"
   ]
  },
  {
   "cell_type": "code",
   "execution_count": 96,
   "metadata": {},
   "outputs": [
    {
     "data": {
      "text/html": [
       "<div>\n",
       "<style scoped>\n",
       "    .dataframe tbody tr th:only-of-type {\n",
       "        vertical-align: middle;\n",
       "    }\n",
       "\n",
       "    .dataframe tbody tr th {\n",
       "        vertical-align: top;\n",
       "    }\n",
       "\n",
       "    .dataframe thead th {\n",
       "        text-align: right;\n",
       "    }\n",
       "</style>\n",
       "<table border=\"1\" class=\"dataframe\">\n",
       "  <thead>\n",
       "    <tr style=\"text-align: right;\">\n",
       "      <th></th>\n",
       "      <th>Model</th>\n",
       "      <th>Accuracy</th>\n",
       "      <th>Recall</th>\n",
       "    </tr>\n",
       "  </thead>\n",
       "  <tbody>\n",
       "    <tr>\n",
       "      <th>0</th>\n",
       "      <td>Logistic Regression - without SMOTE</td>\n",
       "      <td>0.787488</td>\n",
       "      <td>0.000000</td>\n",
       "    </tr>\n",
       "    <tr>\n",
       "      <th>1</th>\n",
       "      <td>Logistic Regression - with SMOTE(liblinear)</td>\n",
       "      <td>0.568572</td>\n",
       "      <td>0.702920</td>\n",
       "    </tr>\n",
       "    <tr>\n",
       "      <th>2</th>\n",
       "      <td>Logistic Regression-with SMOTE(SAGA)</td>\n",
       "      <td>0.541859</td>\n",
       "      <td>0.541368</td>\n",
       "    </tr>\n",
       "    <tr>\n",
       "      <th>3</th>\n",
       "      <td>KNeighborsClassifier</td>\n",
       "      <td>0.724149</td>\n",
       "      <td>0.859718</td>\n",
       "    </tr>\n",
       "    <tr>\n",
       "      <th>4</th>\n",
       "      <td>DecisionTreeClassifier</td>\n",
       "      <td>0.698243</td>\n",
       "      <td>0.682609</td>\n",
       "    </tr>\n",
       "    <tr>\n",
       "      <th>5</th>\n",
       "      <td>RandomForestClassifier(entropy)</td>\n",
       "      <td>0.771821</td>\n",
       "      <td>0.781086</td>\n",
       "    </tr>\n",
       "    <tr>\n",
       "      <th>6</th>\n",
       "      <td>RandomForestClassifier(gini)</td>\n",
       "      <td>0.772331</td>\n",
       "      <td>0.782454</td>\n",
       "    </tr>\n",
       "    <tr>\n",
       "      <th>7</th>\n",
       "      <td>GaussianNB</td>\n",
       "      <td>0.587975</td>\n",
       "      <td>0.762694</td>\n",
       "    </tr>\n",
       "    <tr>\n",
       "      <th>8</th>\n",
       "      <td>BernoulliNB</td>\n",
       "      <td>0.508615</td>\n",
       "      <td>0.782454</td>\n",
       "    </tr>\n",
       "    <tr>\n",
       "      <th>9</th>\n",
       "      <td>SVC</td>\n",
       "      <td>0.519803</td>\n",
       "      <td>0.549097</td>\n",
       "    </tr>\n",
       "  </tbody>\n",
       "</table>\n",
       "</div>"
      ],
      "text/plain": [
       "                                         Model  Accuracy    Recall\n",
       "0          Logistic Regression - without SMOTE  0.787488  0.000000\n",
       "1  Logistic Regression - with SMOTE(liblinear)  0.568572  0.702920\n",
       "2         Logistic Regression-with SMOTE(SAGA)  0.541859  0.541368\n",
       "3                         KNeighborsClassifier  0.724149  0.859718\n",
       "4                       DecisionTreeClassifier  0.698243  0.682609\n",
       "5              RandomForestClassifier(entropy)  0.771821  0.781086\n",
       "6                 RandomForestClassifier(gini)  0.772331  0.782454\n",
       "7                                   GaussianNB  0.587975  0.762694\n",
       "8                                  BernoulliNB  0.508615  0.782454\n",
       "9                                          SVC  0.519803  0.549097"
      ]
     },
     "execution_count": 96,
     "metadata": {},
     "output_type": "execute_result"
    }
   ],
   "source": [
    "# Increasing the C parameter implies that thetraining data contains the most extreme possible observations. \n",
    "# You’re betting that the future observations will be further away from the boundaries than the points you trained the model on.\n",
    "# Also, When combined with an RBF (or Gaussian) kernel, large values for the C parameter can drastically overfit the data\n",
    "# Therefore below parameters taken\n",
    "\n",
    "svm = SVC(cache_size = 1000)\n",
    "svm.fit(X_smote_train, Y_smote_train)\n",
    "\n",
    "#### Predicting on X_test dataset\n",
    "y_pred1 = svm.predict(X_smote_test)\n",
    "    \n",
    "acc_svc = accuracy_score(Y_smote_test, y_pred1)\n",
    "re_svc = recall_score(Y_smote_test, y_pred1)\n",
    "\n",
    "model_results2 = pd.DataFrame([['SVC', acc_svc, re_svc]], columns = ['Model', 'Accuracy', 'Recall'])\n",
    "results2 = results2.append(model_results2, ignore_index = True)\n",
    "results2"
   ]
  },
  {
   "cell_type": "code",
   "execution_count": 230,
   "metadata": {},
   "outputs": [
    {
     "data": {
      "text/html": [
       "<div>\n",
       "<style scoped>\n",
       "    .dataframe tbody tr th:only-of-type {\n",
       "        vertical-align: middle;\n",
       "    }\n",
       "\n",
       "    .dataframe tbody tr th {\n",
       "        vertical-align: top;\n",
       "    }\n",
       "\n",
       "    .dataframe thead th {\n",
       "        text-align: right;\n",
       "    }\n",
       "</style>\n",
       "<table border=\"1\" class=\"dataframe\">\n",
       "  <thead>\n",
       "    <tr style=\"text-align: right;\">\n",
       "      <th></th>\n",
       "      <th>Model</th>\n",
       "      <th>Accuracy</th>\n",
       "      <th>Recall</th>\n",
       "    </tr>\n",
       "  </thead>\n",
       "  <tbody>\n",
       "    <tr>\n",
       "      <td>0</td>\n",
       "      <td>VotingClassifier</td>\n",
       "      <td>0.58859</td>\n",
       "      <td>0.781849</td>\n",
       "    </tr>\n",
       "  </tbody>\n",
       "</table>\n",
       "</div>"
      ],
      "text/plain": [
       "              Model  Accuracy    Recall\n",
       "0  VotingClassifier   0.58859  0.781849"
      ]
     },
     "execution_count": 230,
     "metadata": {},
     "output_type": "execute_result"
    }
   ],
   "source": [
    "# Combining all the above using voting classifier\n",
    "from sklearn.ensemble import VotingClassifier\n",
    "\n",
    "evc = VotingClassifier(estimators=[('lr', lr), ('rf', rf),('rfe', rfe), ('DT', dt),\n",
    "                                 ('svm', svc),('knn', knn),('gnb', gnb),('bnb', bnb)], voting = 'hard',\n",
    "                                 flatten_transform = True, n_jobs = None)\n",
    "evc.fit(X_smote_train, Y_smote_train)\n",
    "# Predicting Test Set\n",
    "pred_evc = evc.predict(X_smote_test)\n",
    "\n",
    "accuracy_evc = accuracy_score(Y_smote_test, pred_gnb)\n",
    "re_evc = recall_score(Y_smote_test, y_pred1)\n",
    "\n",
    "model_results2 = pd.DataFrame([['VotingClassifier', accuracy_evc, re_evc]], columns = ['Model', 'Accuracy', 'Recall'])\n",
    "results2 = results2.append(model_results2, ignore_index = True)\n",
    "results2"
   ]
  },
  {
   "cell_type": "code",
   "execution_count": null,
   "metadata": {},
   "outputs": [],
   "source": [
    "list1 = ['Logistic Regression','Decison Tree','Random Forest(information gain)','Random Forest(Entropy)','SVM','KNN','gnb','bnb','voting classifier']\n",
    "list2 = [acc_lr2, acc_dt, acc_rf, acc_rfe, acc_svc, acc_knn, acc_gnb, acc_bnb, accuracy_evc]\n",
    "list3 = [lr_s, dt, rf, rfe, svm, knn, gnb, bnb, evc]\n",
    "list4 = [re_lr, re_dt, re_rf, re_rfe, re_svc, re_knn, re_gnb, re_bnb, re_evc]"
   ]
  },
  {
   "cell_type": "code",
   "execution_count": 236,
   "metadata": {},
   "outputs": [
    {
     "data": {
      "text/plain": [
       "<matplotlib.axes._subplots.AxesSubplot at 0x1a54000190>"
      ]
     },
     "execution_count": 236,
     "metadata": {},
     "output_type": "execute_result"
    },
    {
     "data": {
      "image/png": "[encoded data removed]",
      "text/plain": [
       "<Figure size 432x288 with 1 Axes>"
      ]
     },
     "metadata": {
      "needs_background": "light"
     },
     "output_type": "display_data"
    }
   ],
   "source": [
    "df_Accuracy = pd.DataFrame({'Method Used' : list1, 'Accuracy' : list2})\n",
    "chart = sns.barplot(x = 'Method Used', y = 'Accuracy', data = df_Accuracy)\n",
    "chart.set_xticklabels(chart.get_xticklabels(), rotation=90)\n",
    "chart"
   ]
  },
  {
   "cell_type": "code",
   "execution_count": null,
   "metadata": {},
   "outputs": [],
   "source": [
    "df_Recall = pd.DataFrame({'Method Used' : list1, 'Recall' : list4})\n",
    "chart = sns.barplot(x = 'Method Used', y = 'Recall', data = df_Recall)\n",
    "chart.set_xticklabels(chart.get_xticklabels(), rotation = 90)\n",
    "chart"
   ]
  },
  {
   "cell_type": "code",
   "execution_count": 237,
   "metadata": {},
   "outputs": [
    {
     "data": {
      "text/plain": [
       "RandomForestClassifier(bootstrap=True, ccp_alpha=0.0, class_weight=None,\n",
       "                       criterion='entropy', max_depth=None, max_features='auto',\n",
       "                       max_leaf_nodes=None, max_samples=None,\n",
       "                       min_impurity_decrease=0.0, min_impurity_split=None,\n",
       "                       min_samples_leaf=1, min_samples_split=2,\n",
       "                       min_weight_fraction_leaf=0.0, n_estimators=150, n_jobs=4,\n",
       "                       oob_score=False, random_state=10, verbose=0,\n",
       "                       warm_start=False)"
      ]
     },
     "execution_count": 237,
     "metadata": {},
     "output_type": "execute_result"
    }
   ],
   "source": [
    "max_acc = max(list2)\n",
    "for i in range(0, len(list2)):\n",
    "    if(list2[i] == max_acc):\n",
    "    sel_model = list3[i]\n",
    "\n",
    "sel_model #is the selected model with the highest accuracy out of the given.\n",
    "# we will further use hypertuning to maximize the accuracy with usage of different parameter values."
   ]
  },
  {
   "cell_type": "markdown",
   "metadata": {},
   "source": [
    "# Hyperparameter Tuning"
   ]
  },
  {
   "cell_type": "code",
   "execution_count": 19,
   "metadata": {},
   "outputs": [],
   "source": [
    "from sklearn.model_selection import GridSearchCV"
   ]
  },
  {
   "cell_type": "code",
   "execution_count": 45,
   "metadata": {},
   "outputs": [
    {
     "data": {
      "text/plain": [
       "{'max_depth': 80,\n",
       " 'max_features': 3,\n",
       " 'min_samples_leaf': 3,\n",
       " 'min_samples_split': 8,\n",
       " 'n_estimators': 300}"
      ]
     },
     "execution_count": 45,
     "metadata": {},
     "output_type": "execute_result"
    }
   ],
   "source": [
    "sel_model = rf # This comes from the code above\n",
    "param_grid = {\n",
    "    'bootstrap': [True],\n",
    "    'max_depth': [70, 80, 90],\n",
    "    'max_features': [2, 3, 4],\n",
    "    'min_samples_leaf': [2, 3, 4],\n",
    "    'min_samples_split': [6, 8, 10, 12],\n",
    "    'n_estimators': [200, 300, 500]\n",
    "        }\n",
    "logreg_cv = GridSearchCV(sel_model, param_grid, cv = 10, n_jobs = 6)\n",
    "logreg_cv.fit(X_smote_train, Y_smote_train)\n",
    "logreg_cv.best_params_"
   ]
  },
  {
   "cell_type": "code",
   "execution_count": 46,
   "metadata": {},
   "outputs": [],
   "source": [
    "sel_model_cv = logreg_cv.best_estimator_"
   ]
  },
  {
   "cell_type": "code",
   "execution_count": 47,
   "metadata": {},
   "outputs": [
    {
     "data": {
      "text/plain": [
       "0.7503166594725409"
      ]
     },
     "execution_count": 47,
     "metadata": {},
     "output_type": "execute_result"
    }
   ],
   "source": [
    "# Using the best algorithm\n",
    "\n",
    "sel_model_cv.fit(X_smote_train, Y_smote_train)\n",
    "#Preciction\n",
    "Y_pred = sel_model_cv.predict(X_smote_test)\n",
    "#Accuracy\n",
    "accuracy_grid = accuracy_score(Y_smote_test, Y_pred)\n",
    "accuracy_grid"
   ]
  },
  {
   "cell_type": "markdown",
   "metadata": {},
   "source": [
    "### Applying K fold cross validation\n"
   ]
  },
  {
   "cell_type": "code",
   "execution_count": 48,
   "metadata": {},
   "outputs": [
    {
     "data": {
      "text/plain": [
       "10"
      ]
     },
     "execution_count": 48,
     "metadata": {},
     "output_type": "execute_result"
    }
   ],
   "source": [
    "from sklearn.model_selection import KFold\n",
    "kf = KFold(n_splits = 10)\n",
    "kf.get_n_splits(X_smote_train, Y_smote_train)"
   ]
  },
  {
   "cell_type": "code",
   "execution_count": 51,
   "metadata": {},
   "outputs": [
    {
     "data": {
      "text/plain": [
       "[0.7933167971907138,\n",
       " 0.7933725369972966,\n",
       " 0.7913659039603133,\n",
       " 0.7944037234190797,\n",
       " 0.7960480477132744,\n",
       " 0.7957414787770687,\n",
       " 0.7930659680610909,\n",
       " 0.7939578049664168,\n",
       " 0.7907527660879017,\n",
       " 0.7953791700342799]"
      ]
     },
     "execution_count": 51,
     "metadata": {},
     "output_type": "execute_result"
    }
   ],
   "source": [
    "cv_all_acc=[]\n",
    "\n",
    "for train_rows,test_rows in kf.split(X, Y):\n",
    "    classifier_cv_crv = sel_model_cv\n",
    "    classifier_cv_crv.fit(X.iloc[train_rows, :], Y[train_rows])\n",
    "    y_pred_cv_crv = classifier_cv_crv.predict(X.iloc[test_rows, :])\n",
    "    accuracy_cv_crv = accuracy_score(Y[test_rows], y_pred_cv_crv)\n",
    "    cv_all_acc.append(accuracy_cv_crv)\n",
    "cv_all_acc"
   ]
  },
  {
   "cell_type": "markdown",
   "metadata": {},
   "source": [
    "#### ADABOOST model"
   ]
  },
  {
   "cell_type": "code",
   "execution_count": 2,
   "metadata": {},
   "outputs": [],
   "source": [
    "from sklearn.ensemble import AdaBoostClassifier"
   ]
  },
  {
   "cell_type": "code",
   "execution_count": 23,
   "metadata": {},
   "outputs": [
    {
     "data": {
      "text/plain": [
       "0.8243194474911371"
      ]
     },
     "execution_count": 23,
     "metadata": {},
     "output_type": "execute_result"
    }
   ],
   "source": [
    "ada_lr = AdaBoostClassifier(base_estimator = sel_model_cv, n_estimators = 70, learning_rate = 0.5)\n",
    "ada_lr.fit(X_smote_train, Y_smote_train)\n",
    "#Preciction\n",
    "y_pred = ada_lr.predict(X_smote_test)\n",
    "#Accuracy\n",
    "accuracy_ada= accuracy_score(Y_smote_test, y_pred)\n",
    "accuracy_ada"
   ]
  },
  {
   "cell_type": "markdown",
   "metadata": {},
   "source": [
    "# LOADING AND PREPROCESSING TEST DATA"
   ]
  },
  {
   "cell_type": "code",
   "execution_count": 22,
   "metadata": {},
   "outputs": [
    {
     "data": {
      "text/plain": [
       "Date received                        0\n",
       "Product                              0\n",
       "Sub-product                      34683\n",
       "Issue                                0\n",
       "Sub-issue                        73250\n",
       "Consumer complaint narrative    100692\n",
       "Company public response          97146\n",
       "Company                              0\n",
       "State                              936\n",
       "ZIP code                           937\n",
       "Tags                            102629\n",
       "Consumer consent provided?       85699\n",
       "Submitted via                        0\n",
       "Date sent to company                 0\n",
       "Company response to consumer         0\n",
       "Timely response?                     0\n",
       "Complaint ID                         0\n",
       "dtype: int64"
      ]
     },
     "execution_count": 22,
     "metadata": {},
     "output_type": "execute_result"
    }
   ],
   "source": [
    "df_test = pd.read_csv('Edureka_Consumer_Complaints_test.csv', parse_dates = ['Date received', 'Date sent to company'])\n",
    "df_test.isnull().sum()"
   ]
  },
  {
   "cell_type": "code",
   "execution_count": 23,
   "metadata": {},
   "outputs": [
    {
     "data": {
      "text/html": [
       "<div>\n",
       "<style scoped>\n",
       "    .dataframe tbody tr th:only-of-type {\n",
       "        vertical-align: middle;\n",
       "    }\n",
       "\n",
       "    .dataframe tbody tr th {\n",
       "        vertical-align: top;\n",
       "    }\n",
       "\n",
       "    .dataframe thead th {\n",
       "        text-align: right;\n",
       "    }\n",
       "</style>\n",
       "<table border=\"1\" class=\"dataframe\">\n",
       "  <thead>\n",
       "    <tr style=\"text-align: right;\">\n",
       "      <th></th>\n",
       "      <th>Date received</th>\n",
       "      <th>Product</th>\n",
       "      <th>Sub-product</th>\n",
       "      <th>Issue</th>\n",
       "      <th>Sub-issue</th>\n",
       "      <th>Consumer complaint narrative</th>\n",
       "      <th>Company public response</th>\n",
       "      <th>Company</th>\n",
       "      <th>State</th>\n",
       "      <th>Consumer consent provided?</th>\n",
       "      <th>Submitted via</th>\n",
       "      <th>Date sent to company</th>\n",
       "      <th>Company response to consumer</th>\n",
       "      <th>Timely response?</th>\n",
       "    </tr>\n",
       "  </thead>\n",
       "  <tbody>\n",
       "    <tr>\n",
       "      <th>0</th>\n",
       "      <td>2015-01-17</td>\n",
       "      <td>Credit card</td>\n",
       "      <td>NaN</td>\n",
       "      <td>Customer service / Customer relations</td>\n",
       "      <td>NaN</td>\n",
       "      <td>NaN</td>\n",
       "      <td>NaN</td>\n",
       "      <td>Citibank</td>\n",
       "      <td>TX</td>\n",
       "      <td>NaN</td>\n",
       "      <td>Web</td>\n",
       "      <td>2015-01-17</td>\n",
       "      <td>Closed with monetary relief</td>\n",
       "      <td>Yes</td>\n",
       "    </tr>\n",
       "  </tbody>\n",
       "</table>\n",
       "</div>"
      ],
      "text/plain": [
       "  Date received      Product Sub-product  \\\n",
       "0    2015-01-17  Credit card         NaN   \n",
       "\n",
       "                                   Issue Sub-issue  \\\n",
       "0  Customer service / Customer relations       NaN   \n",
       "\n",
       "  Consumer complaint narrative Company public response   Company State  \\\n",
       "0                          NaN                     NaN  Citibank    TX   \n",
       "\n",
       "  Consumer consent provided? Submitted via Date sent to company  \\\n",
       "0                        NaN           Web           2015-01-17   \n",
       "\n",
       "  Company response to consumer Timely response?  \n",
       "0  Closed with monetary relief              Yes  "
      ]
     },
     "execution_count": 23,
     "metadata": {},
     "output_type": "execute_result"
    }
   ],
   "source": [
    "# drop off columns \n",
    "df_test.drop(['Tags'], axis = 1, inplace = True)\n",
    "df_test.drop(['Complaint ID'], axis = 1, inplace = True)\n",
    "df_test.drop(['ZIP code'], axis = 1, inplace = True)\n",
    "df_test.head(1)"
   ]
  },
  {
   "cell_type": "code",
   "execution_count": 24,
   "metadata": {},
   "outputs": [
    {
     "data": {
      "text/html": [
       "<div>\n",
       "<style scoped>\n",
       "    .dataframe tbody tr th:only-of-type {\n",
       "        vertical-align: middle;\n",
       "    }\n",
       "\n",
       "    .dataframe tbody tr th {\n",
       "        vertical-align: top;\n",
       "    }\n",
       "\n",
       "    .dataframe thead th {\n",
       "        text-align: right;\n",
       "    }\n",
       "</style>\n",
       "<table border=\"1\" class=\"dataframe\">\n",
       "  <thead>\n",
       "    <tr style=\"text-align: right;\">\n",
       "      <th></th>\n",
       "      <th>Date received</th>\n",
       "      <th>Product</th>\n",
       "      <th>Sub-product</th>\n",
       "      <th>Issue</th>\n",
       "      <th>Sub-issue</th>\n",
       "      <th>Consumer complaint narrative</th>\n",
       "      <th>Company public response</th>\n",
       "      <th>Company</th>\n",
       "      <th>State</th>\n",
       "      <th>Consumer consent provided?</th>\n",
       "      <th>Submitted via</th>\n",
       "      <th>Date sent to company</th>\n",
       "      <th>Company response to consumer</th>\n",
       "      <th>Timely response?</th>\n",
       "      <th>Month_received</th>\n",
       "      <th>Year_received</th>\n",
       "      <th>Day_received</th>\n",
       "      <th>Month_sent_on</th>\n",
       "      <th>Year_sent_on</th>\n",
       "      <th>Day_sent_on</th>\n",
       "    </tr>\n",
       "  </thead>\n",
       "  <tbody>\n",
       "    <tr>\n",
       "      <th>0</th>\n",
       "      <td>2015-01-17</td>\n",
       "      <td>Credit card</td>\n",
       "      <td>NaN</td>\n",
       "      <td>Customer service / Customer relations</td>\n",
       "      <td>NaN</td>\n",
       "      <td>NaN</td>\n",
       "      <td>NaN</td>\n",
       "      <td>Citibank</td>\n",
       "      <td>TX</td>\n",
       "      <td>NaN</td>\n",
       "      <td>Web</td>\n",
       "      <td>2015-01-17</td>\n",
       "      <td>Closed with monetary relief</td>\n",
       "      <td>Yes</td>\n",
       "      <td>1</td>\n",
       "      <td>2015</td>\n",
       "      <td>17</td>\n",
       "      <td>1</td>\n",
       "      <td>2015</td>\n",
       "      <td>17</td>\n",
       "    </tr>\n",
       "  </tbody>\n",
       "</table>\n",
       "</div>"
      ],
      "text/plain": [
       "  Date received      Product Sub-product  \\\n",
       "0    2015-01-17  Credit card         NaN   \n",
       "\n",
       "                                   Issue Sub-issue  \\\n",
       "0  Customer service / Customer relations       NaN   \n",
       "\n",
       "  Consumer complaint narrative Company public response   Company State  \\\n",
       "0                          NaN                     NaN  Citibank    TX   \n",
       "\n",
       "  Consumer consent provided? Submitted via Date sent to company  \\\n",
       "0                        NaN           Web           2015-01-17   \n",
       "\n",
       "  Company response to consumer Timely response?  Month_received  \\\n",
       "0  Closed with monetary relief              Yes               1   \n",
       "\n",
       "   Year_received  Day_received  Month_sent_on  Year_sent_on  Day_sent_on  \n",
       "0           2015            17              1          2015           17  "
      ]
     },
     "execution_count": 24,
     "metadata": {},
     "output_type": "execute_result"
    }
   ],
   "source": [
    "# handling date column for date recived and date sent on for further time series analysis\n",
    "df_test['Month_received'] = df_test['Date received'].dt.month\n",
    "df_test['Year_received'] = df_test['Date received'].dt.year\n",
    "df_test['Day_received'] = df_test['Date sent to company'].dt.day\n",
    "\n",
    "df_test['Month_sent_on'] = df_test['Date sent to company'].dt.month\n",
    "df_test['Year_sent_on'] = df_test['Date sent to company'].dt.year\n",
    "df_test['Day_sent_on'] = df_test['Date sent to company'].dt.day\n",
    "df_test.head(1)"
   ]
  },
  {
   "cell_type": "code",
   "execution_count": 25,
   "metadata": {},
   "outputs": [
    {
     "data": {
      "text/plain": [
       "0"
      ]
     },
     "execution_count": 25,
     "metadata": {},
     "output_type": "execute_result"
    }
   ],
   "source": [
    "# making new column as Region -> company+State and handling null values 1st.\n",
    "from scipy.stats import mode\n",
    "\n",
    "# list of companies for where state has null value\n",
    "Comapny_names = df_test[df_test['State'].isna()]['Company'].tolist()\n",
    "\n",
    "# finding mode in state for those companies to fill the null values in state.\n",
    "state_names = []\n",
    "for i in Comapny_names:\n",
    "    state_names.append(mode(df_test[df_test['Company'] == i]['State']).mode[0])\n",
    "    \n",
    "# now fill the values of null\n",
    "for x in state_names:\n",
    "    df_test['State'].fillna(x , inplace = True)\n",
    "df_test['State'].isna().sum()"
   ]
  },
  {
   "cell_type": "code",
   "execution_count": 26,
   "metadata": {},
   "outputs": [
    {
     "data": {
      "text/plain": [
       "<matplotlib.axes._subplots.AxesSubplot at 0x1c12a012ec8>"
      ]
     },
     "execution_count": 26,
     "metadata": {},
     "output_type": "execute_result"
    },
    {
     "data": {
      "image/png": "[encoded data removed]",
      "text/plain": [
       "<Figure size 432x288 with 1 Axes>"
      ]
     },
     "metadata": {
      "needs_background": "light"
     },
     "output_type": "display_data"
    }
   ],
   "source": [
    "# make region combining company and state and find most comapny in specific region that have most complaints.\n",
    "df_test['Region'] = df_test['Company'] +'_' + df_test['State']\n",
    "df_test['Region'].value_counts()[:10].plot(kind='barh')"
   ]
  },
  {
   "cell_type": "code",
   "execution_count": 27,
   "metadata": {},
   "outputs": [],
   "source": [
    "df_na_test = df_test.copy()"
   ]
  },
  {
   "cell_type": "code",
   "execution_count": 28,
   "metadata": {},
   "outputs": [
    {
     "data": {
      "text/plain": [
       "<matplotlib.axes._subplots.AxesSubplot at 0x1c135d75088>"
      ]
     },
     "execution_count": 28,
     "metadata": {},
     "output_type": "execute_result"
    },
    {
     "data": {
      "image/png": "[encoded data removed]",
      "text/plain": [
       "<Figure size 432x288 with 1 Axes>"
      ]
     },
     "metadata": {
      "needs_background": "light"
     },
     "output_type": "display_data"
    }
   ],
   "source": [
    "# handling null values in Sub-product\n",
    "# finding out the type of sub-products and frequency to decide the values to be put in NANs\n",
    "df_na_test['Sub-product'].value_counts()[:10].plot(kind='barh')"
   ]
  },
  {
   "cell_type": "code",
   "execution_count": 29,
   "metadata": {},
   "outputs": [
    {
     "data": {
      "text/plain": [
       "array(['Credit card', 'Credit reporting'], dtype=object)"
      ]
     },
     "execution_count": 29,
     "metadata": {},
     "output_type": "execute_result"
    }
   ],
   "source": [
    "# values of products that contain subproduct as null\n",
    "df_na_test[df_na_test['Sub-product'].isna()]['Product'].unique()"
   ]
  },
  {
   "cell_type": "code",
   "execution_count": 30,
   "metadata": {},
   "outputs": [
    {
     "data": {
      "text/plain": [
       "0"
      ]
     },
     "execution_count": 30,
     "metadata": {},
     "output_type": "execute_result"
    }
   ],
   "source": [
    "# filling the missing value with credit card(exisiting in sub-product) as the product category is also credit card and does not make sense to fill sub category with mode ie. other mortgage.\n",
    "df_na_test['Sub-product'].fillna('Credit card', inplace = True)\n",
    "df_na_test['Sub-product'].isna().sum()"
   ]
  },
  {
   "cell_type": "code",
   "execution_count": 31,
   "metadata": {},
   "outputs": [],
   "source": [
    "df_na_test.drop(['Sub-issue'], axis = 1, inplace = True)"
   ]
  },
  {
   "cell_type": "code",
   "execution_count": 32,
   "metadata": {},
   "outputs": [],
   "source": [
    "# dropping columns not needed\n",
    "df_na_test.drop(['Consumer complaint narrative'], axis = 1, inplace = True)\n",
    "df_na_test.drop(['Company public response'], axis = 1, inplace = True)\n",
    "df_na_test.drop(['Consumer consent provided?'], axis = 1, inplace = True)"
   ]
  },
  {
   "cell_type": "code",
   "execution_count": 33,
   "metadata": {},
   "outputs": [
    {
     "data": {
      "text/plain": [
       "Date received                   0\n",
       "Product                         0\n",
       "Sub-product                     0\n",
       "Issue                           0\n",
       "Company                         0\n",
       "State                           0\n",
       "Submitted via                   0\n",
       "Date sent to company            0\n",
       "Company response to consumer    0\n",
       "Timely response?                0\n",
       "Month_received                  0\n",
       "Year_received                   0\n",
       "Day_received                    0\n",
       "Month_sent_on                   0\n",
       "Year_sent_on                    0\n",
       "Day_sent_on                     0\n",
       "Region                          0\n",
       "dtype: int64"
      ]
     },
     "execution_count": 33,
     "metadata": {},
     "output_type": "execute_result"
    }
   ],
   "source": [
    "df_na_test.isna().sum()"
   ]
  },
  {
   "cell_type": "markdown",
   "metadata": {},
   "source": [
    "### Encoding of the test data set"
   ]
  },
  {
   "cell_type": "code",
   "execution_count": 34,
   "metadata": {
    "scrolled": true
   },
   "outputs": [
    {
     "data": {
      "text/html": [
       "<div>\n",
       "<style scoped>\n",
       "    .dataframe tbody tr th:only-of-type {\n",
       "        vertical-align: middle;\n",
       "    }\n",
       "\n",
       "    .dataframe tbody tr th {\n",
       "        vertical-align: top;\n",
       "    }\n",
       "\n",
       "    .dataframe thead th {\n",
       "        text-align: right;\n",
       "    }\n",
       "</style>\n",
       "<table border=\"1\" class=\"dataframe\">\n",
       "  <thead>\n",
       "    <tr style=\"text-align: right;\">\n",
       "      <th></th>\n",
       "      <th>Product</th>\n",
       "      <th>Sub-product</th>\n",
       "      <th>Issue</th>\n",
       "      <th>Company</th>\n",
       "      <th>State</th>\n",
       "      <th>Submitted via</th>\n",
       "      <th>Company response to consumer</th>\n",
       "      <th>Timely response?</th>\n",
       "      <th>Month_received</th>\n",
       "      <th>Year_received</th>\n",
       "      <th>Day_received</th>\n",
       "      <th>Month_sent_on</th>\n",
       "      <th>Year_sent_on</th>\n",
       "      <th>Day_sent_on</th>\n",
       "      <th>Region</th>\n",
       "    </tr>\n",
       "  </thead>\n",
       "  <tbody>\n",
       "    <tr>\n",
       "      <th>0</th>\n",
       "      <td>Credit card</td>\n",
       "      <td>Credit card</td>\n",
       "      <td>Customer service / Customer relations</td>\n",
       "      <td>Citibank</td>\n",
       "      <td>TX</td>\n",
       "      <td>Web</td>\n",
       "      <td>Closed with monetary relief</td>\n",
       "      <td>Yes</td>\n",
       "      <td>1</td>\n",
       "      <td>2015</td>\n",
       "      <td>17</td>\n",
       "      <td>1</td>\n",
       "      <td>2015</td>\n",
       "      <td>17</td>\n",
       "      <td>Citibank_TX</td>\n",
       "    </tr>\n",
       "    <tr>\n",
       "      <th>1</th>\n",
       "      <td>Consumer Loan</td>\n",
       "      <td>Title loan</td>\n",
       "      <td>Payment to acct not credited</td>\n",
       "      <td>Larsen MacColl Partners II, L.P.</td>\n",
       "      <td>TX</td>\n",
       "      <td>Phone</td>\n",
       "      <td>Closed with explanation</td>\n",
       "      <td>Yes</td>\n",
       "      <td>6</td>\n",
       "      <td>2016</td>\n",
       "      <td>22</td>\n",
       "      <td>6</td>\n",
       "      <td>2016</td>\n",
       "      <td>22</td>\n",
       "      <td>Larsen MacColl Partners II, L.P._TX</td>\n",
       "    </tr>\n",
       "    <tr>\n",
       "      <th>2</th>\n",
       "      <td>Credit card</td>\n",
       "      <td>Credit card</td>\n",
       "      <td>Credit line increase/decrease</td>\n",
       "      <td>Capital One</td>\n",
       "      <td>NC</td>\n",
       "      <td>Web</td>\n",
       "      <td>Closed with explanation</td>\n",
       "      <td>Yes</td>\n",
       "      <td>9</td>\n",
       "      <td>2015</td>\n",
       "      <td>4</td>\n",
       "      <td>9</td>\n",
       "      <td>2015</td>\n",
       "      <td>4</td>\n",
       "      <td>Capital One_NC</td>\n",
       "    </tr>\n",
       "    <tr>\n",
       "      <th>3</th>\n",
       "      <td>Consumer Loan</td>\n",
       "      <td>Installment loan</td>\n",
       "      <td>Problems when you are unable to pay</td>\n",
       "      <td>OneMain Financial Holdings, LLC</td>\n",
       "      <td>MO</td>\n",
       "      <td>Web</td>\n",
       "      <td>Closed with non-monetary relief</td>\n",
       "      <td>Yes</td>\n",
       "      <td>5</td>\n",
       "      <td>2016</td>\n",
       "      <td>20</td>\n",
       "      <td>5</td>\n",
       "      <td>2016</td>\n",
       "      <td>20</td>\n",
       "      <td>OneMain Financial Holdings, LLC_MO</td>\n",
       "    </tr>\n",
       "    <tr>\n",
       "      <th>4</th>\n",
       "      <td>Debt collection</td>\n",
       "      <td>Other (i.e. phone, health club, etc.)</td>\n",
       "      <td>Improper contact or sharing of info</td>\n",
       "      <td>GMA Investments, LLC</td>\n",
       "      <td>SC</td>\n",
       "      <td>Web</td>\n",
       "      <td>Closed with explanation</td>\n",
       "      <td>Yes</td>\n",
       "      <td>7</td>\n",
       "      <td>2016</td>\n",
       "      <td>7</td>\n",
       "      <td>7</td>\n",
       "      <td>2016</td>\n",
       "      <td>7</td>\n",
       "      <td>GMA Investments, LLC_SC</td>\n",
       "    </tr>\n",
       "  </tbody>\n",
       "</table>\n",
       "</div>"
      ],
      "text/plain": [
       "           Product                            Sub-product  \\\n",
       "0      Credit card                            Credit card   \n",
       "1    Consumer Loan                             Title loan   \n",
       "2      Credit card                            Credit card   \n",
       "3    Consumer Loan                       Installment loan   \n",
       "4  Debt collection  Other (i.e. phone, health club, etc.)   \n",
       "\n",
       "                                   Issue                           Company  \\\n",
       "0  Customer service / Customer relations                          Citibank   \n",
       "1           Payment to acct not credited  Larsen MacColl Partners II, L.P.   \n",
       "2          Credit line increase/decrease                       Capital One   \n",
       "3    Problems when you are unable to pay   OneMain Financial Holdings, LLC   \n",
       "4    Improper contact or sharing of info              GMA Investments, LLC   \n",
       "\n",
       "  State Submitted via     Company response to consumer Timely response?  \\\n",
       "0    TX           Web      Closed with monetary relief              Yes   \n",
       "1    TX         Phone          Closed with explanation              Yes   \n",
       "2    NC           Web          Closed with explanation              Yes   \n",
       "3    MO           Web  Closed with non-monetary relief              Yes   \n",
       "4    SC           Web          Closed with explanation              Yes   \n",
       "\n",
       "   Month_received  Year_received  Day_received  Month_sent_on  Year_sent_on  \\\n",
       "0               1           2015            17              1          2015   \n",
       "1               6           2016            22              6          2016   \n",
       "2               9           2015             4              9          2015   \n",
       "3               5           2016            20              5          2016   \n",
       "4               7           2016             7              7          2016   \n",
       "\n",
       "   Day_sent_on                               Region  \n",
       "0           17                          Citibank_TX  \n",
       "1           22  Larsen MacColl Partners II, L.P._TX  \n",
       "2            4                       Capital One_NC  \n",
       "3           20   OneMain Financial Holdings, LLC_MO  \n",
       "4            7              GMA Investments, LLC_SC  "
      ]
     },
     "execution_count": 34,
     "metadata": {},
     "output_type": "execute_result"
    }
   ],
   "source": [
    "encoded_df_test = df_na_test.copy()\n",
    "encoded_df_test.drop(['Date received'], axis = 1, inplace = True)\n",
    "encoded_df_test.drop(['Date sent to company'], axis = 1, inplace = True)\n",
    "encoded_df_test.head()"
   ]
  },
  {
   "cell_type": "code",
   "execution_count": 35,
   "metadata": {},
   "outputs": [
    {
     "data": {
      "text/html": [
       "<div>\n",
       "<style scoped>\n",
       "    .dataframe tbody tr th:only-of-type {\n",
       "        vertical-align: middle;\n",
       "    }\n",
       "\n",
       "    .dataframe tbody tr th {\n",
       "        vertical-align: top;\n",
       "    }\n",
       "\n",
       "    .dataframe thead th {\n",
       "        text-align: right;\n",
       "    }\n",
       "</style>\n",
       "<table border=\"1\" class=\"dataframe\">\n",
       "  <thead>\n",
       "    <tr style=\"text-align: right;\">\n",
       "      <th></th>\n",
       "      <th>Product</th>\n",
       "      <th>Sub-product</th>\n",
       "      <th>Issue</th>\n",
       "      <th>Company</th>\n",
       "      <th>State</th>\n",
       "      <th>Submitted via</th>\n",
       "      <th>Company response to consumer</th>\n",
       "      <th>Timely response?</th>\n",
       "      <th>Month_received</th>\n",
       "      <th>Year_received</th>\n",
       "      <th>Day_received</th>\n",
       "      <th>Month_sent_on</th>\n",
       "      <th>Year_sent_on</th>\n",
       "      <th>Day_sent_on</th>\n",
       "      <th>Region</th>\n",
       "    </tr>\n",
       "  </thead>\n",
       "  <tbody>\n",
       "    <tr>\n",
       "      <th>0</th>\n",
       "      <td>2</td>\n",
       "      <td>7</td>\n",
       "      <td>35</td>\n",
       "      <td>457</td>\n",
       "      <td>53</td>\n",
       "      <td>5</td>\n",
       "      <td>2</td>\n",
       "      <td>1</td>\n",
       "      <td>1</td>\n",
       "      <td>2015</td>\n",
       "      <td>17</td>\n",
       "      <td>1</td>\n",
       "      <td>2015</td>\n",
       "      <td>17</td>\n",
       "      <td>2733</td>\n",
       "    </tr>\n",
       "    <tr>\n",
       "      <th>1</th>\n",
       "      <td>1</td>\n",
       "      <td>41</td>\n",
       "      <td>72</td>\n",
       "      <td>1168</td>\n",
       "      <td>53</td>\n",
       "      <td>2</td>\n",
       "      <td>1</td>\n",
       "      <td>1</td>\n",
       "      <td>6</td>\n",
       "      <td>2016</td>\n",
       "      <td>22</td>\n",
       "      <td>6</td>\n",
       "      <td>2016</td>\n",
       "      <td>22</td>\n",
       "      <td>7049</td>\n",
       "    </tr>\n",
       "    <tr>\n",
       "      <th>2</th>\n",
       "      <td>2</td>\n",
       "      <td>7</td>\n",
       "      <td>31</td>\n",
       "      <td>399</td>\n",
       "      <td>35</td>\n",
       "      <td>5</td>\n",
       "      <td>1</td>\n",
       "      <td>1</td>\n",
       "      <td>9</td>\n",
       "      <td>2015</td>\n",
       "      <td>4</td>\n",
       "      <td>9</td>\n",
       "      <td>2015</td>\n",
       "      <td>4</td>\n",
       "      <td>2373</td>\n",
       "    </tr>\n",
       "    <tr>\n",
       "      <th>3</th>\n",
       "      <td>1</td>\n",
       "      <td>22</td>\n",
       "      <td>76</td>\n",
       "      <td>1533</td>\n",
       "      <td>31</td>\n",
       "      <td>5</td>\n",
       "      <td>3</td>\n",
       "      <td>1</td>\n",
       "      <td>5</td>\n",
       "      <td>2016</td>\n",
       "      <td>20</td>\n",
       "      <td>5</td>\n",
       "      <td>2016</td>\n",
       "      <td>20</td>\n",
       "      <td>8804</td>\n",
       "    </tr>\n",
       "    <tr>\n",
       "      <th>4</th>\n",
       "      <td>4</td>\n",
       "      <td>29</td>\n",
       "      <td>49</td>\n",
       "      <td>910</td>\n",
       "      <td>50</td>\n",
       "      <td>5</td>\n",
       "      <td>1</td>\n",
       "      <td>1</td>\n",
       "      <td>7</td>\n",
       "      <td>2016</td>\n",
       "      <td>7</td>\n",
       "      <td>7</td>\n",
       "      <td>2016</td>\n",
       "      <td>7</td>\n",
       "      <td>5808</td>\n",
       "    </tr>\n",
       "  </tbody>\n",
       "</table>\n",
       "</div>"
      ],
      "text/plain": [
       "   Product  Sub-product  Issue  Company  State  Submitted via  \\\n",
       "0        2            7     35      457     53              5   \n",
       "1        1           41     72     1168     53              2   \n",
       "2        2            7     31      399     35              5   \n",
       "3        1           22     76     1533     31              5   \n",
       "4        4           29     49      910     50              5   \n",
       "\n",
       "   Company response to consumer  Timely response?  Month_received  \\\n",
       "0                             2                 1               1   \n",
       "1                             1                 1               6   \n",
       "2                             1                 1               9   \n",
       "3                             3                 1               5   \n",
       "4                             1                 1               7   \n",
       "\n",
       "   Year_received  Day_received  Month_sent_on  Year_sent_on  Day_sent_on  \\\n",
       "0           2015            17              1          2015           17   \n",
       "1           2016            22              6          2016           22   \n",
       "2           2015             4              9          2015            4   \n",
       "3           2016            20              5          2016           20   \n",
       "4           2016             7              7          2016            7   \n",
       "\n",
       "   Region  \n",
       "0    2733  \n",
       "1    7049  \n",
       "2    2373  \n",
       "3    8804  \n",
       "4    5808  "
      ]
     },
     "execution_count": 35,
     "metadata": {},
     "output_type": "execute_result"
    }
   ],
   "source": [
    "from sklearn.preprocessing import LabelEncoder\n",
    "le = LabelEncoder()\n",
    "for i in range(0,encoded_df_test.shape[1]):\n",
    "    if encoded_df_test.dtypes[i] == 'object':\n",
    "        encoded_df_test[encoded_df_test.columns[i]] = le.fit_transform(encoded_df_test[encoded_df_test.columns[i]])\n",
    "encoded_df_test.head()"
   ]
  },
  {
   "cell_type": "code",
   "execution_count": 36,
   "metadata": {},
   "outputs": [],
   "source": [
    "# keeping columns similar to train data in order to predict for test\n",
    "encoded_df_test.drop(['State'], axis = 1, inplace = True)\n",
    "encoded_df_test.drop(['Month_received'], axis = 1, inplace = True)\n",
    "encoded_df_test.drop(['Day_received'], axis = 1, inplace = True)\n",
    "encoded_df_test.drop(['Year_received'], axis = 1, inplace = True)"
   ]
  },
  {
   "cell_type": "code",
   "execution_count": 5,
   "metadata": {},
   "outputs": [],
   "source": [
    "selected_model = sel_model_cv\n",
    "ada_lr = AdaBoostClassifier(base_estimator = selected_model, n_estimators = 70, learning_rate = 0.5)\n"
   ]
  },
  {
   "cell_type": "code",
   "execution_count": null,
   "metadata": {},
   "outputs": [],
   "source": [
    "# training with full train data\n",
    "ada_lr.fit(X_SMOTE, y_SMOTE['Consumer disputed?'])"
   ]
  },
  {
   "cell_type": "code",
   "execution_count": null,
   "metadata": {},
   "outputs": [],
   "source": [
    "Y_PRED = ada_lr.predict(X_SMOTE)\n"
   ]
  },
  {
   "cell_type": "code",
   "execution_count": null,
   "metadata": {},
   "outputs": [],
   "source": [
    "import numpy as np\n",
    "list1 = np.array(Y_PRED).tolist()\n",
    "list2 = []\n",
    "\n",
    "for i in list1:\n",
    "    if i == 0:\n",
    "        list2.append('No')\n",
    "    elif i == 1:\n",
    "        list2.append('Yes')"
   ]
  },
  {
   "cell_type": "code",
   "execution_count": null,
   "metadata": {},
   "outputs": [],
   "source": [
    "df_pred = pd.DataFrame({'Predictions' : list2})\n",
    "df_pred.to_csv('PREDICTIONS.CSV',index = False)\n",
    "\n",
    "#This output will be attached"
   ]
  },
  {
   "cell_type": "code",
   "execution_count": 10,
   "metadata": {},
   "outputs": [
    {
     "data": {
      "text/plain": [
       "(119606, 17)"
      ]
     },
     "execution_count": 10,
     "metadata": {},
     "output_type": "execute_result"
    }
   ],
   "source": [
    "import pandas as pd\n",
    "df_test = pd.read_csv('Edureka_Consumer_Complaints_test.csv')\n",
    "df_test.shape"
   ]
  },
  {
   "cell_type": "code",
   "execution_count": 15,
   "metadata": {},
   "outputs": [
    {
     "data": {
      "text/plain": [
       "(119606, 1)"
      ]
     },
     "execution_count": 15,
     "metadata": {},
     "output_type": "execute_result"
    }
   ],
   "source": [
    "df_pred = pd.read_csv('PREDICTIONS.CSV')\n",
    "df_pred.shape"
   ]
  },
  {
   "cell_type": "code",
   "execution_count": 16,
   "metadata": {},
   "outputs": [],
   "source": [
    "# Number of rows in prediction is equal to number of rows in test data "
   ]
  },
  {
   "cell_type": "markdown",
   "metadata": {},
   "source": [
    "### Finally, the above project was completed successfully giving a good accuracy with adaboost model on randomforest tree and I was able to make up the prediction on test data.\n",
    "### Along with that I was even able to explore data with NLp and got to get the importance different features extracted from the text data."
   ]
  }
 ],
 "metadata": {
  "kernelspec": {
   "display_name": "Python 3",
   "language": "python",
   "name": "python3"
  },
  "language_info": {
   "codemirror_mode": {
    "name": "ipython",
    "version": 3
   },
   "file_extension": ".py",
   "mimetype": "text/x-python",
   "name": "python",
   "nbconvert_exporter": "python",
   "pygments_lexer": "ipython3",
   "version": "3.7.4"
  }
 },
 "nbformat": 4,
 "nbformat_minor": 4
}
